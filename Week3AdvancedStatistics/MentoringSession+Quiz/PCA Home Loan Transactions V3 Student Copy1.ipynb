{
 "cells": [
  {
   "cell_type": "markdown",
   "metadata": {},
   "source": [
    "# Problem Statement"
   ]
  },
  {
   "cell_type": "markdown",
   "metadata": {},
   "source": [
    "Lending is one of the critical functions of any bank or financial institution. Customers are provided loans across different products (home loan, loan against property etc.) at competitive interest rates for an acceptable tenure. There is always a risk that a customer may default on the loan or may try and repay the loan in advance which leads to financial losses to the business.  \n",
    "\n",
    "There may not be enough data or evidence available from the past which will help the firm to predict the loan default or prepayment and mitigate the above possible risk. However, it does have information about the customer demographics, loan details, EMI transactions etc. which contributes to more than 25-30 features (high-dimension data) related to a customer’s loan account. But due to high dimensions it is difficult to identify any patterns within the data. Unsupervised learning techniques like Principal Component Analysis comes to rescue here to reduce the high dimensionality and help in further analysis and pattern recognition. "
   ]
  },
  {
   "cell_type": "markdown",
   "metadata": {},
   "source": [
    "## About Data"
   ]
  },
  {
   "cell_type": "markdown",
   "metadata": {},
   "source": [
    "Data file contains information about the loan transactions done by the customer. \n",
    "\n",
    "All important details regarding the loan i.e. loan amount, interest rate, outstanding principal, loan to value ratio (Net LTV), tenure, city where the loan was originated etc. has been provided. \n",
    "\n",
    "Some of the features that correspond to multiple loan transactions (e.g. rate of interest, emi amount, frequency of emi payment etc.) for a loan account are summarized and captured for each loan account."
   ]
  },
  {
   "cell_type": "markdown",
   "metadata": {},
   "source": [
    "### Import  required libraries"
   ]
  },
  {
   "cell_type": "code",
   "execution_count": null,
   "metadata": {},
   "outputs": [],
   "source": [
    "#!pip install factor_analyzer "
   ]
  },
  {
   "cell_type": "code",
   "execution_count": 1,
   "metadata": {},
   "outputs": [],
   "source": [
    "import pandas as pd\n",
    "import numpy as np\n",
    "import seaborn as sns\n",
    "import matplotlib.pyplot as plt\n",
    "%matplotlib inline\n",
    "from factor_analyzer import FactorAnalyzer # Perform statistical tests before PCA \n",
    "import statsmodels.api as sm\n",
    "from scipy.stats import zscore\n",
    "from sklearn.decomposition import PCA\n",
    "from statsmodels import multivariate"
   ]
  },
  {
   "cell_type": "markdown",
   "metadata": {},
   "source": [
    "### Read and view data"
   ]
  },
  {
   "cell_type": "code",
   "execution_count": 3,
   "metadata": {},
   "outputs": [],
   "source": [
    "df = pd.read_excel('Short Term Home Loans.xlsx')"
   ]
  },
  {
   "cell_type": "code",
   "execution_count": 4,
   "metadata": {},
   "outputs": [
    {
     "data": {
      "text/html": [
       "<div>\n",
       "<style scoped>\n",
       "    .dataframe tbody tr th:only-of-type {\n",
       "        vertical-align: middle;\n",
       "    }\n",
       "\n",
       "    .dataframe tbody tr th {\n",
       "        vertical-align: top;\n",
       "    }\n",
       "\n",
       "    .dataframe thead th {\n",
       "        text-align: right;\n",
       "    }\n",
       "</style>\n",
       "<table border=\"1\" class=\"dataframe\">\n",
       "  <thead>\n",
       "    <tr style=\"text-align: right;\">\n",
       "      <th></th>\n",
       "      <th>loan_account</th>\n",
       "      <th>age</th>\n",
       "      <th>gender</th>\n",
       "      <th>marital_status</th>\n",
       "      <th>qualification</th>\n",
       "      <th>gross_income</th>\n",
       "      <th>nettakehome</th>\n",
       "      <th>balance_tenure</th>\n",
       "      <th>city</th>\n",
       "      <th>completed_tenure</th>\n",
       "      <th>...</th>\n",
       "      <th>num_emi_changes</th>\n",
       "      <th>num_low_freq_transactions</th>\n",
       "      <th>num_of_emi_transactions</th>\n",
       "      <th>orignal_interest_rate</th>\n",
       "      <th>orignal_tenor</th>\n",
       "      <th>outstanding_principal</th>\n",
       "      <th>paid_interest</th>\n",
       "      <th>paid_principal</th>\n",
       "      <th>pre_emi_dueamt</th>\n",
       "      <th>pre_emi_received_amt</th>\n",
       "    </tr>\n",
       "  </thead>\n",
       "  <tbody>\n",
       "    <tr>\n",
       "      <th>0</th>\n",
       "      <td>LA492</td>\n",
       "      <td>39</td>\n",
       "      <td>F</td>\n",
       "      <td>M</td>\n",
       "      <td>UG</td>\n",
       "      <td>63542.344735</td>\n",
       "      <td>63542.344735</td>\n",
       "      <td>111</td>\n",
       "      <td>MADURAI</td>\n",
       "      <td>70</td>\n",
       "      <td>...</td>\n",
       "      <td>11</td>\n",
       "      <td>10</td>\n",
       "      <td>73</td>\n",
       "      <td>17.479728</td>\n",
       "      <td>180</td>\n",
       "      <td>9.882910e+05</td>\n",
       "      <td>9.340537e+05</td>\n",
       "      <td>212745.625226</td>\n",
       "      <td>39959.331336</td>\n",
       "      <td>39959.331336</td>\n",
       "    </tr>\n",
       "    <tr>\n",
       "      <th>1</th>\n",
       "      <td>LA498</td>\n",
       "      <td>51</td>\n",
       "      <td>M</td>\n",
       "      <td>M</td>\n",
       "      <td>GRAD</td>\n",
       "      <td>81130.025032</td>\n",
       "      <td>81130.025032</td>\n",
       "      <td>107</td>\n",
       "      <td>MADURAI</td>\n",
       "      <td>68</td>\n",
       "      <td>...</td>\n",
       "      <td>3</td>\n",
       "      <td>11</td>\n",
       "      <td>73</td>\n",
       "      <td>17.479728</td>\n",
       "      <td>180</td>\n",
       "      <td>1.206218e+06</td>\n",
       "      <td>1.069305e+06</td>\n",
       "      <td>295078.188194</td>\n",
       "      <td>78774.632736</td>\n",
       "      <td>78774.632736</td>\n",
       "    </tr>\n",
       "    <tr>\n",
       "      <th>2</th>\n",
       "      <td>LA500</td>\n",
       "      <td>41</td>\n",
       "      <td>M</td>\n",
       "      <td>M</td>\n",
       "      <td>UG</td>\n",
       "      <td>56298.592500</td>\n",
       "      <td>56298.592500</td>\n",
       "      <td>50</td>\n",
       "      <td>MADURAI</td>\n",
       "      <td>70</td>\n",
       "      <td>...</td>\n",
       "      <td>13</td>\n",
       "      <td>10</td>\n",
       "      <td>73</td>\n",
       "      <td>17.479728</td>\n",
       "      <td>120</td>\n",
       "      <td>7.137100e+05</td>\n",
       "      <td>8.303592e+05</td>\n",
       "      <td>487326.621863</td>\n",
       "      <td>37918.629288</td>\n",
       "      <td>37918.629288</td>\n",
       "    </tr>\n",
       "    <tr>\n",
       "      <th>3</th>\n",
       "      <td>LA531</td>\n",
       "      <td>42</td>\n",
       "      <td>M</td>\n",
       "      <td>M</td>\n",
       "      <td>UG</td>\n",
       "      <td>74314.142100</td>\n",
       "      <td>74314.142100</td>\n",
       "      <td>110</td>\n",
       "      <td>MADURAI</td>\n",
       "      <td>70</td>\n",
       "      <td>...</td>\n",
       "      <td>13</td>\n",
       "      <td>17</td>\n",
       "      <td>72</td>\n",
       "      <td>17.479728</td>\n",
       "      <td>180</td>\n",
       "      <td>1.744746e+06</td>\n",
       "      <td>1.567354e+06</td>\n",
       "      <td>357068.193072</td>\n",
       "      <td>29375.950152</td>\n",
       "      <td>29375.950152</td>\n",
       "    </tr>\n",
       "    <tr>\n",
       "      <th>4</th>\n",
       "      <td>LA552</td>\n",
       "      <td>27</td>\n",
       "      <td>M</td>\n",
       "      <td>S</td>\n",
       "      <td>GRAD</td>\n",
       "      <td>64255.460240</td>\n",
       "      <td>64255.460240</td>\n",
       "      <td>112</td>\n",
       "      <td>MADURAI</td>\n",
       "      <td>69</td>\n",
       "      <td>...</td>\n",
       "      <td>14</td>\n",
       "      <td>10</td>\n",
       "      <td>71</td>\n",
       "      <td>17.479728</td>\n",
       "      <td>180</td>\n",
       "      <td>1.502039e+06</td>\n",
       "      <td>1.355995e+06</td>\n",
       "      <td>299516.018579</td>\n",
       "      <td>46048.309200</td>\n",
       "      <td>46048.309200</td>\n",
       "    </tr>\n",
       "  </tbody>\n",
       "</table>\n",
       "<p>5 rows × 42 columns</p>\n",
       "</div>"
      ],
      "text/plain": [
       "  loan_account  age gender marital_status qualification  gross_income  \\\n",
       "0        LA492   39      F              M            UG  63542.344735   \n",
       "1        LA498   51      M              M          GRAD  81130.025032   \n",
       "2        LA500   41      M              M            UG  56298.592500   \n",
       "3        LA531   42      M              M            UG  74314.142100   \n",
       "4        LA552   27      M              S          GRAD  64255.460240   \n",
       "\n",
       "    nettakehome  balance_tenure     city  completed_tenure  ...  \\\n",
       "0  63542.344735             111  MADURAI                70  ...   \n",
       "1  81130.025032             107  MADURAI                68  ...   \n",
       "2  56298.592500              50  MADURAI                70  ...   \n",
       "3  74314.142100             110  MADURAI                70  ...   \n",
       "4  64255.460240             112  MADURAI                69  ...   \n",
       "\n",
       "   num_emi_changes  num_low_freq_transactions  num_of_emi_transactions  \\\n",
       "0               11                         10                       73   \n",
       "1                3                         11                       73   \n",
       "2               13                         10                       73   \n",
       "3               13                         17                       72   \n",
       "4               14                         10                       71   \n",
       "\n",
       "   orignal_interest_rate  orignal_tenor  outstanding_principal  paid_interest  \\\n",
       "0              17.479728            180           9.882910e+05   9.340537e+05   \n",
       "1              17.479728            180           1.206218e+06   1.069305e+06   \n",
       "2              17.479728            120           7.137100e+05   8.303592e+05   \n",
       "3              17.479728            180           1.744746e+06   1.567354e+06   \n",
       "4              17.479728            180           1.502039e+06   1.355995e+06   \n",
       "\n",
       "   paid_principal  pre_emi_dueamt  pre_emi_received_amt  \n",
       "0   212745.625226    39959.331336          39959.331336  \n",
       "1   295078.188194    78774.632736          78774.632736  \n",
       "2   487326.621863    37918.629288          37918.629288  \n",
       "3   357068.193072    29375.950152          29375.950152  \n",
       "4   299516.018579    46048.309200          46048.309200  \n",
       "\n",
       "[5 rows x 42 columns]"
      ]
     },
     "execution_count": 4,
     "metadata": {},
     "output_type": "execute_result"
    }
   ],
   "source": [
    "df.head()"
   ]
  },
  {
   "cell_type": "code",
   "execution_count": 5,
   "metadata": {},
   "outputs": [
    {
     "data": {
      "text/plain": [
       "(2319, 42)"
      ]
     },
     "execution_count": 5,
     "metadata": {},
     "output_type": "execute_result"
    }
   ],
   "source": [
    "df.shape"
   ]
  },
  {
   "cell_type": "code",
   "execution_count": 6,
   "metadata": {},
   "outputs": [
    {
     "data": {
      "text/html": [
       "<div>\n",
       "<style scoped>\n",
       "    .dataframe tbody tr th:only-of-type {\n",
       "        vertical-align: middle;\n",
       "    }\n",
       "\n",
       "    .dataframe tbody tr th {\n",
       "        vertical-align: top;\n",
       "    }\n",
       "\n",
       "    .dataframe thead th {\n",
       "        text-align: right;\n",
       "    }\n",
       "</style>\n",
       "<table border=\"1\" class=\"dataframe\">\n",
       "  <thead>\n",
       "    <tr style=\"text-align: right;\">\n",
       "      <th></th>\n",
       "      <th>count</th>\n",
       "      <th>mean</th>\n",
       "      <th>std</th>\n",
       "      <th>min</th>\n",
       "      <th>25%</th>\n",
       "      <th>50%</th>\n",
       "      <th>75%</th>\n",
       "      <th>max</th>\n",
       "    </tr>\n",
       "  </thead>\n",
       "  <tbody>\n",
       "    <tr>\n",
       "      <th>age</th>\n",
       "      <td>2319.0</td>\n",
       "      <td>3.945106e+01</td>\n",
       "      <td>8.982396e+00</td>\n",
       "      <td>1.800000e+01</td>\n",
       "      <td>3.200000e+01</td>\n",
       "      <td>3.900000e+01</td>\n",
       "      <td>4.600000e+01</td>\n",
       "      <td>6.500000e+01</td>\n",
       "    </tr>\n",
       "    <tr>\n",
       "      <th>gross_income</th>\n",
       "      <td>2319.0</td>\n",
       "      <td>8.260822e+04</td>\n",
       "      <td>1.264007e+05</td>\n",
       "      <td>0.000000e+00</td>\n",
       "      <td>4.189591e+04</td>\n",
       "      <td>6.184963e+04</td>\n",
       "      <td>9.118946e+04</td>\n",
       "      <td>4.261664e+06</td>\n",
       "    </tr>\n",
       "    <tr>\n",
       "      <th>nettakehome</th>\n",
       "      <td>2319.0</td>\n",
       "      <td>8.134619e+04</td>\n",
       "      <td>1.268459e+05</td>\n",
       "      <td>0.000000e+00</td>\n",
       "      <td>4.109947e+04</td>\n",
       "      <td>6.050222e+04</td>\n",
       "      <td>9.046402e+04</td>\n",
       "      <td>4.261664e+06</td>\n",
       "    </tr>\n",
       "    <tr>\n",
       "      <th>balance_tenure</th>\n",
       "      <td>2319.0</td>\n",
       "      <td>1.466628e+02</td>\n",
       "      <td>4.513873e+01</td>\n",
       "      <td>0.000000e+00</td>\n",
       "      <td>1.290000e+02</td>\n",
       "      <td>1.500000e+02</td>\n",
       "      <td>1.670000e+02</td>\n",
       "      <td>3.070000e+02</td>\n",
       "    </tr>\n",
       "    <tr>\n",
       "      <th>completed_tenure</th>\n",
       "      <td>2319.0</td>\n",
       "      <td>2.950367e+01</td>\n",
       "      <td>1.349025e+01</td>\n",
       "      <td>0.000000e+00</td>\n",
       "      <td>2.200000e+01</td>\n",
       "      <td>2.800000e+01</td>\n",
       "      <td>3.700000e+01</td>\n",
       "      <td>7.000000e+01</td>\n",
       "    </tr>\n",
       "    <tr>\n",
       "      <th>current_interest_rate</th>\n",
       "      <td>2319.0</td>\n",
       "      <td>1.569870e+01</td>\n",
       "      <td>1.872893e+00</td>\n",
       "      <td>1.107466e+01</td>\n",
       "      <td>1.404621e+01</td>\n",
       "      <td>1.591904e+01</td>\n",
       "      <td>1.747973e+01</td>\n",
       "      <td>1.997683e+01</td>\n",
       "    </tr>\n",
       "    <tr>\n",
       "      <th>current_interest_rate_max</th>\n",
       "      <td>2319.0</td>\n",
       "      <td>1.578384e+01</td>\n",
       "      <td>1.832462e+00</td>\n",
       "      <td>1.107466e+01</td>\n",
       "      <td>1.435835e+01</td>\n",
       "      <td>1.591904e+01</td>\n",
       "      <td>1.747973e+01</td>\n",
       "      <td>1.997683e+01</td>\n",
       "    </tr>\n",
       "    <tr>\n",
       "      <th>current_interest_rate_min</th>\n",
       "      <td>2319.0</td>\n",
       "      <td>1.568473e+01</td>\n",
       "      <td>1.875045e+00</td>\n",
       "      <td>1.107466e+01</td>\n",
       "      <td>1.404621e+01</td>\n",
       "      <td>1.591904e+01</td>\n",
       "      <td>1.747973e+01</td>\n",
       "      <td>1.997683e+01</td>\n",
       "    </tr>\n",
       "    <tr>\n",
       "      <th>current_tenor</th>\n",
       "      <td>2319.0</td>\n",
       "      <td>1.759711e+02</td>\n",
       "      <td>4.224263e+01</td>\n",
       "      <td>1.000000e+01</td>\n",
       "      <td>1.730000e+02</td>\n",
       "      <td>1.800000e+02</td>\n",
       "      <td>1.810000e+02</td>\n",
       "      <td>3.160000e+02</td>\n",
       "    </tr>\n",
       "    <tr>\n",
       "      <th>diff_current_interest_rate_max_min</th>\n",
       "      <td>2319.0</td>\n",
       "      <td>1.042883e-01</td>\n",
       "      <td>5.631563e-01</td>\n",
       "      <td>0.000000e+00</td>\n",
       "      <td>0.000000e+00</td>\n",
       "      <td>0.000000e+00</td>\n",
       "      <td>0.000000e+00</td>\n",
       "      <td>1.201107e+01</td>\n",
       "    </tr>\n",
       "    <tr>\n",
       "      <th>diff_emi_amount_max_min</th>\n",
       "      <td>2319.0</td>\n",
       "      <td>5.635589e+04</td>\n",
       "      <td>1.959045e+05</td>\n",
       "      <td>0.000000e+00</td>\n",
       "      <td>1.029850e+04</td>\n",
       "      <td>1.735000e+04</td>\n",
       "      <td>2.860478e+04</td>\n",
       "      <td>3.229383e+06</td>\n",
       "    </tr>\n",
       "    <tr>\n",
       "      <th>diff_original_current_interest_rate</th>\n",
       "      <td>2319.0</td>\n",
       "      <td>6.943758e-02</td>\n",
       "      <td>4.787330e-01</td>\n",
       "      <td>-1.248552e+00</td>\n",
       "      <td>0.000000e+00</td>\n",
       "      <td>0.000000e+00</td>\n",
       "      <td>0.000000e+00</td>\n",
       "      <td>5.618484e+00</td>\n",
       "    </tr>\n",
       "    <tr>\n",
       "      <th>diff_original_current_tenor</th>\n",
       "      <td>2319.0</td>\n",
       "      <td>4.896507e+00</td>\n",
       "      <td>2.337057e+01</td>\n",
       "      <td>-9.400000e+01</td>\n",
       "      <td>0.000000e+00</td>\n",
       "      <td>0.000000e+00</td>\n",
       "      <td>0.000000e+00</td>\n",
       "      <td>2.280000e+02</td>\n",
       "    </tr>\n",
       "    <tr>\n",
       "      <th>emi_amount</th>\n",
       "      <td>2319.0</td>\n",
       "      <td>1.801202e+04</td>\n",
       "      <td>1.237318e+04</td>\n",
       "      <td>1.437000e+01</td>\n",
       "      <td>9.727000e+03</td>\n",
       "      <td>1.465000e+04</td>\n",
       "      <td>2.264000e+04</td>\n",
       "      <td>1.200000e+05</td>\n",
       "    </tr>\n",
       "    <tr>\n",
       "      <th>emi_dueamt</th>\n",
       "      <td>2319.0</td>\n",
       "      <td>1.191197e+06</td>\n",
       "      <td>1.064387e+06</td>\n",
       "      <td>0.000000e+00</td>\n",
       "      <td>5.517018e+05</td>\n",
       "      <td>8.936884e+05</td>\n",
       "      <td>1.453225e+06</td>\n",
       "      <td>9.853225e+06</td>\n",
       "    </tr>\n",
       "    <tr>\n",
       "      <th>emi_received_amt</th>\n",
       "      <td>2319.0</td>\n",
       "      <td>1.132347e+06</td>\n",
       "      <td>9.800945e+05</td>\n",
       "      <td>0.000000e+00</td>\n",
       "      <td>5.325923e+05</td>\n",
       "      <td>8.662891e+05</td>\n",
       "      <td>1.397185e+06</td>\n",
       "      <td>9.853225e+06</td>\n",
       "    </tr>\n",
       "    <tr>\n",
       "      <th>excess_adjusted_amt</th>\n",
       "      <td>2319.0</td>\n",
       "      <td>1.319928e+05</td>\n",
       "      <td>5.867103e+05</td>\n",
       "      <td>0.000000e+00</td>\n",
       "      <td>0.000000e+00</td>\n",
       "      <td>0.000000e+00</td>\n",
       "      <td>1.091124e+03</td>\n",
       "      <td>1.020263e+07</td>\n",
       "    </tr>\n",
       "    <tr>\n",
       "      <th>excess_available</th>\n",
       "      <td>2319.0</td>\n",
       "      <td>1.865469e+05</td>\n",
       "      <td>7.175169e+05</td>\n",
       "      <td>0.000000e+00</td>\n",
       "      <td>0.000000e+00</td>\n",
       "      <td>1.727088e+02</td>\n",
       "      <td>3.881751e+03</td>\n",
       "      <td>1.021953e+07</td>\n",
       "    </tr>\n",
       "    <tr>\n",
       "      <th>foir</th>\n",
       "      <td>2319.0</td>\n",
       "      <td>4.262294e-01</td>\n",
       "      <td>1.463204e-01</td>\n",
       "      <td>0.000000e+00</td>\n",
       "      <td>3.400000e-01</td>\n",
       "      <td>4.200000e-01</td>\n",
       "      <td>4.900000e-01</td>\n",
       "      <td>1.001000e+00</td>\n",
       "    </tr>\n",
       "    <tr>\n",
       "      <th>last_receipt_amount</th>\n",
       "      <td>2319.0</td>\n",
       "      <td>4.114352e+04</td>\n",
       "      <td>1.748835e+05</td>\n",
       "      <td>2.000000e+00</td>\n",
       "      <td>9.316000e+03</td>\n",
       "      <td>1.440500e+04</td>\n",
       "      <td>2.307700e+04</td>\n",
       "      <td>3.229945e+06</td>\n",
       "    </tr>\n",
       "    <tr>\n",
       "      <th>loan_amt</th>\n",
       "      <td>2319.0</td>\n",
       "      <td>2.194991e+06</td>\n",
       "      <td>1.349637e+06</td>\n",
       "      <td>1.756516e+05</td>\n",
       "      <td>1.238569e+06</td>\n",
       "      <td>1.801555e+06</td>\n",
       "      <td>2.818683e+06</td>\n",
       "      <td>1.089366e+07</td>\n",
       "    </tr>\n",
       "    <tr>\n",
       "      <th>max_emi_amount</th>\n",
       "      <td>2319.0</td>\n",
       "      <td>5.807497e+04</td>\n",
       "      <td>1.960221e+05</td>\n",
       "      <td>5.620000e+02</td>\n",
       "      <td>1.157300e+04</td>\n",
       "      <td>1.897500e+04</td>\n",
       "      <td>2.967650e+04</td>\n",
       "      <td>3.229945e+06</td>\n",
       "    </tr>\n",
       "    <tr>\n",
       "      <th>min_emi_amount</th>\n",
       "      <td>2319.0</td>\n",
       "      <td>1.723590e+03</td>\n",
       "      <td>5.332765e+03</td>\n",
       "      <td>9.000000e-02</td>\n",
       "      <td>1.150000e+02</td>\n",
       "      <td>1.150000e+02</td>\n",
       "      <td>5.730000e+02</td>\n",
       "      <td>8.400100e+04</td>\n",
       "    </tr>\n",
       "    <tr>\n",
       "      <th>monthopening</th>\n",
       "      <td>2319.0</td>\n",
       "      <td>2.035442e+06</td>\n",
       "      <td>1.286849e+06</td>\n",
       "      <td>1.514357e+05</td>\n",
       "      <td>1.135780e+06</td>\n",
       "      <td>1.688189e+06</td>\n",
       "      <td>2.620309e+06</td>\n",
       "      <td>1.080242e+07</td>\n",
       "    </tr>\n",
       "    <tr>\n",
       "      <th>net_disbursed_amt</th>\n",
       "      <td>2319.0</td>\n",
       "      <td>2.189517e+06</td>\n",
       "      <td>1.349531e+06</td>\n",
       "      <td>1.756516e+05</td>\n",
       "      <td>1.231063e+06</td>\n",
       "      <td>1.801555e+06</td>\n",
       "      <td>2.800199e+06</td>\n",
       "      <td>1.089366e+07</td>\n",
       "    </tr>\n",
       "    <tr>\n",
       "      <th>net_ltv</th>\n",
       "      <td>2319.0</td>\n",
       "      <td>5.157001e+01</td>\n",
       "      <td>1.875792e+01</td>\n",
       "      <td>5.220000e+00</td>\n",
       "      <td>3.680000e+01</td>\n",
       "      <td>5.207000e+01</td>\n",
       "      <td>6.889000e+01</td>\n",
       "      <td>8.439000e+01</td>\n",
       "    </tr>\n",
       "    <tr>\n",
       "      <th>net_receivable</th>\n",
       "      <td>2319.0</td>\n",
       "      <td>4.978290e+03</td>\n",
       "      <td>5.257671e+05</td>\n",
       "      <td>-7.133502e+06</td>\n",
       "      <td>-3.259933e+02</td>\n",
       "      <td>-4.417104e-01</td>\n",
       "      <td>0.000000e+00</td>\n",
       "      <td>8.252080e+06</td>\n",
       "    </tr>\n",
       "    <tr>\n",
       "      <th>num_emi_changes</th>\n",
       "      <td>2319.0</td>\n",
       "      <td>5.356188e+00</td>\n",
       "      <td>3.809970e+00</td>\n",
       "      <td>0.000000e+00</td>\n",
       "      <td>3.000000e+00</td>\n",
       "      <td>4.000000e+00</td>\n",
       "      <td>7.000000e+00</td>\n",
       "      <td>2.700000e+01</td>\n",
       "    </tr>\n",
       "    <tr>\n",
       "      <th>num_low_freq_transactions</th>\n",
       "      <td>2319.0</td>\n",
       "      <td>4.567486e+00</td>\n",
       "      <td>3.610644e+00</td>\n",
       "      <td>0.000000e+00</td>\n",
       "      <td>2.000000e+00</td>\n",
       "      <td>3.000000e+00</td>\n",
       "      <td>6.000000e+00</td>\n",
       "      <td>2.100000e+01</td>\n",
       "    </tr>\n",
       "    <tr>\n",
       "      <th>num_of_emi_transactions</th>\n",
       "      <td>2319.0</td>\n",
       "      <td>3.215610e+01</td>\n",
       "      <td>1.325195e+01</td>\n",
       "      <td>0.000000e+00</td>\n",
       "      <td>2.400000e+01</td>\n",
       "      <td>3.100000e+01</td>\n",
       "      <td>4.000000e+01</td>\n",
       "      <td>7.300000e+01</td>\n",
       "    </tr>\n",
       "    <tr>\n",
       "      <th>orignal_interest_rate</th>\n",
       "      <td>2319.0</td>\n",
       "      <td>1.576814e+01</td>\n",
       "      <td>1.814290e+00</td>\n",
       "      <td>1.107466e+01</td>\n",
       "      <td>1.435835e+01</td>\n",
       "      <td>1.591904e+01</td>\n",
       "      <td>1.747973e+01</td>\n",
       "      <td>1.997683e+01</td>\n",
       "    </tr>\n",
       "    <tr>\n",
       "      <th>orignal_tenor</th>\n",
       "      <td>2319.0</td>\n",
       "      <td>1.808676e+02</td>\n",
       "      <td>3.585916e+01</td>\n",
       "      <td>6.000000e+01</td>\n",
       "      <td>1.800000e+02</td>\n",
       "      <td>1.800000e+02</td>\n",
       "      <td>1.800000e+02</td>\n",
       "      <td>2.400000e+02</td>\n",
       "    </tr>\n",
       "    <tr>\n",
       "      <th>outstanding_principal</th>\n",
       "      <td>2319.0</td>\n",
       "      <td>1.949442e+06</td>\n",
       "      <td>1.289269e+06</td>\n",
       "      <td>0.000000e+00</td>\n",
       "      <td>1.065798e+06</td>\n",
       "      <td>1.606862e+06</td>\n",
       "      <td>2.546081e+06</td>\n",
       "      <td>1.080242e+07</td>\n",
       "    </tr>\n",
       "    <tr>\n",
       "      <th>paid_interest</th>\n",
       "      <td>2319.0</td>\n",
       "      <td>6.538977e+05</td>\n",
       "      <td>5.553356e+05</td>\n",
       "      <td>0.000000e+00</td>\n",
       "      <td>3.083669e+05</td>\n",
       "      <td>5.082382e+05</td>\n",
       "      <td>8.067100e+05</td>\n",
       "      <td>5.588191e+06</td>\n",
       "    </tr>\n",
       "    <tr>\n",
       "      <th>paid_principal</th>\n",
       "      <td>2319.0</td>\n",
       "      <td>2.389494e+05</td>\n",
       "      <td>4.546814e+05</td>\n",
       "      <td>0.000000e+00</td>\n",
       "      <td>6.463679e+04</td>\n",
       "      <td>1.159271e+05</td>\n",
       "      <td>2.208857e+05</td>\n",
       "      <td>7.458322e+06</td>\n",
       "    </tr>\n",
       "    <tr>\n",
       "      <th>pre_emi_dueamt</th>\n",
       "      <td>2319.0</td>\n",
       "      <td>5.630330e+04</td>\n",
       "      <td>1.176218e+05</td>\n",
       "      <td>0.000000e+00</td>\n",
       "      <td>5.852663e+03</td>\n",
       "      <td>1.687113e+04</td>\n",
       "      <td>5.423541e+04</td>\n",
       "      <td>1.624202e+06</td>\n",
       "    </tr>\n",
       "    <tr>\n",
       "      <th>pre_emi_received_amt</th>\n",
       "      <td>2319.0</td>\n",
       "      <td>5.562086e+04</td>\n",
       "      <td>1.155979e+05</td>\n",
       "      <td>0.000000e+00</td>\n",
       "      <td>5.848246e+03</td>\n",
       "      <td>1.687113e+04</td>\n",
       "      <td>5.423541e+04</td>\n",
       "      <td>1.585701e+06</td>\n",
       "    </tr>\n",
       "  </tbody>\n",
       "</table>\n",
       "</div>"
      ],
      "text/plain": [
       "                                      count          mean           std  \\\n",
       "age                                  2319.0  3.945106e+01  8.982396e+00   \n",
       "gross_income                         2319.0  8.260822e+04  1.264007e+05   \n",
       "nettakehome                          2319.0  8.134619e+04  1.268459e+05   \n",
       "balance_tenure                       2319.0  1.466628e+02  4.513873e+01   \n",
       "completed_tenure                     2319.0  2.950367e+01  1.349025e+01   \n",
       "current_interest_rate                2319.0  1.569870e+01  1.872893e+00   \n",
       "current_interest_rate_max            2319.0  1.578384e+01  1.832462e+00   \n",
       "current_interest_rate_min            2319.0  1.568473e+01  1.875045e+00   \n",
       "current_tenor                        2319.0  1.759711e+02  4.224263e+01   \n",
       "diff_current_interest_rate_max_min   2319.0  1.042883e-01  5.631563e-01   \n",
       "diff_emi_amount_max_min              2319.0  5.635589e+04  1.959045e+05   \n",
       "diff_original_current_interest_rate  2319.0  6.943758e-02  4.787330e-01   \n",
       "diff_original_current_tenor          2319.0  4.896507e+00  2.337057e+01   \n",
       "emi_amount                           2319.0  1.801202e+04  1.237318e+04   \n",
       "emi_dueamt                           2319.0  1.191197e+06  1.064387e+06   \n",
       "emi_received_amt                     2319.0  1.132347e+06  9.800945e+05   \n",
       "excess_adjusted_amt                  2319.0  1.319928e+05  5.867103e+05   \n",
       "excess_available                     2319.0  1.865469e+05  7.175169e+05   \n",
       "foir                                 2319.0  4.262294e-01  1.463204e-01   \n",
       "last_receipt_amount                  2319.0  4.114352e+04  1.748835e+05   \n",
       "loan_amt                             2319.0  2.194991e+06  1.349637e+06   \n",
       "max_emi_amount                       2319.0  5.807497e+04  1.960221e+05   \n",
       "min_emi_amount                       2319.0  1.723590e+03  5.332765e+03   \n",
       "monthopening                         2319.0  2.035442e+06  1.286849e+06   \n",
       "net_disbursed_amt                    2319.0  2.189517e+06  1.349531e+06   \n",
       "net_ltv                              2319.0  5.157001e+01  1.875792e+01   \n",
       "net_receivable                       2319.0  4.978290e+03  5.257671e+05   \n",
       "num_emi_changes                      2319.0  5.356188e+00  3.809970e+00   \n",
       "num_low_freq_transactions            2319.0  4.567486e+00  3.610644e+00   \n",
       "num_of_emi_transactions              2319.0  3.215610e+01  1.325195e+01   \n",
       "orignal_interest_rate                2319.0  1.576814e+01  1.814290e+00   \n",
       "orignal_tenor                        2319.0  1.808676e+02  3.585916e+01   \n",
       "outstanding_principal                2319.0  1.949442e+06  1.289269e+06   \n",
       "paid_interest                        2319.0  6.538977e+05  5.553356e+05   \n",
       "paid_principal                       2319.0  2.389494e+05  4.546814e+05   \n",
       "pre_emi_dueamt                       2319.0  5.630330e+04  1.176218e+05   \n",
       "pre_emi_received_amt                 2319.0  5.562086e+04  1.155979e+05   \n",
       "\n",
       "                                              min           25%           50%  \\\n",
       "age                                  1.800000e+01  3.200000e+01  3.900000e+01   \n",
       "gross_income                         0.000000e+00  4.189591e+04  6.184963e+04   \n",
       "nettakehome                          0.000000e+00  4.109947e+04  6.050222e+04   \n",
       "balance_tenure                       0.000000e+00  1.290000e+02  1.500000e+02   \n",
       "completed_tenure                     0.000000e+00  2.200000e+01  2.800000e+01   \n",
       "current_interest_rate                1.107466e+01  1.404621e+01  1.591904e+01   \n",
       "current_interest_rate_max            1.107466e+01  1.435835e+01  1.591904e+01   \n",
       "current_interest_rate_min            1.107466e+01  1.404621e+01  1.591904e+01   \n",
       "current_tenor                        1.000000e+01  1.730000e+02  1.800000e+02   \n",
       "diff_current_interest_rate_max_min   0.000000e+00  0.000000e+00  0.000000e+00   \n",
       "diff_emi_amount_max_min              0.000000e+00  1.029850e+04  1.735000e+04   \n",
       "diff_original_current_interest_rate -1.248552e+00  0.000000e+00  0.000000e+00   \n",
       "diff_original_current_tenor         -9.400000e+01  0.000000e+00  0.000000e+00   \n",
       "emi_amount                           1.437000e+01  9.727000e+03  1.465000e+04   \n",
       "emi_dueamt                           0.000000e+00  5.517018e+05  8.936884e+05   \n",
       "emi_received_amt                     0.000000e+00  5.325923e+05  8.662891e+05   \n",
       "excess_adjusted_amt                  0.000000e+00  0.000000e+00  0.000000e+00   \n",
       "excess_available                     0.000000e+00  0.000000e+00  1.727088e+02   \n",
       "foir                                 0.000000e+00  3.400000e-01  4.200000e-01   \n",
       "last_receipt_amount                  2.000000e+00  9.316000e+03  1.440500e+04   \n",
       "loan_amt                             1.756516e+05  1.238569e+06  1.801555e+06   \n",
       "max_emi_amount                       5.620000e+02  1.157300e+04  1.897500e+04   \n",
       "min_emi_amount                       9.000000e-02  1.150000e+02  1.150000e+02   \n",
       "monthopening                         1.514357e+05  1.135780e+06  1.688189e+06   \n",
       "net_disbursed_amt                    1.756516e+05  1.231063e+06  1.801555e+06   \n",
       "net_ltv                              5.220000e+00  3.680000e+01  5.207000e+01   \n",
       "net_receivable                      -7.133502e+06 -3.259933e+02 -4.417104e-01   \n",
       "num_emi_changes                      0.000000e+00  3.000000e+00  4.000000e+00   \n",
       "num_low_freq_transactions            0.000000e+00  2.000000e+00  3.000000e+00   \n",
       "num_of_emi_transactions              0.000000e+00  2.400000e+01  3.100000e+01   \n",
       "orignal_interest_rate                1.107466e+01  1.435835e+01  1.591904e+01   \n",
       "orignal_tenor                        6.000000e+01  1.800000e+02  1.800000e+02   \n",
       "outstanding_principal                0.000000e+00  1.065798e+06  1.606862e+06   \n",
       "paid_interest                        0.000000e+00  3.083669e+05  5.082382e+05   \n",
       "paid_principal                       0.000000e+00  6.463679e+04  1.159271e+05   \n",
       "pre_emi_dueamt                       0.000000e+00  5.852663e+03  1.687113e+04   \n",
       "pre_emi_received_amt                 0.000000e+00  5.848246e+03  1.687113e+04   \n",
       "\n",
       "                                              75%           max  \n",
       "age                                  4.600000e+01  6.500000e+01  \n",
       "gross_income                         9.118946e+04  4.261664e+06  \n",
       "nettakehome                          9.046402e+04  4.261664e+06  \n",
       "balance_tenure                       1.670000e+02  3.070000e+02  \n",
       "completed_tenure                     3.700000e+01  7.000000e+01  \n",
       "current_interest_rate                1.747973e+01  1.997683e+01  \n",
       "current_interest_rate_max            1.747973e+01  1.997683e+01  \n",
       "current_interest_rate_min            1.747973e+01  1.997683e+01  \n",
       "current_tenor                        1.810000e+02  3.160000e+02  \n",
       "diff_current_interest_rate_max_min   0.000000e+00  1.201107e+01  \n",
       "diff_emi_amount_max_min              2.860478e+04  3.229383e+06  \n",
       "diff_original_current_interest_rate  0.000000e+00  5.618484e+00  \n",
       "diff_original_current_tenor          0.000000e+00  2.280000e+02  \n",
       "emi_amount                           2.264000e+04  1.200000e+05  \n",
       "emi_dueamt                           1.453225e+06  9.853225e+06  \n",
       "emi_received_amt                     1.397185e+06  9.853225e+06  \n",
       "excess_adjusted_amt                  1.091124e+03  1.020263e+07  \n",
       "excess_available                     3.881751e+03  1.021953e+07  \n",
       "foir                                 4.900000e-01  1.001000e+00  \n",
       "last_receipt_amount                  2.307700e+04  3.229945e+06  \n",
       "loan_amt                             2.818683e+06  1.089366e+07  \n",
       "max_emi_amount                       2.967650e+04  3.229945e+06  \n",
       "min_emi_amount                       5.730000e+02  8.400100e+04  \n",
       "monthopening                         2.620309e+06  1.080242e+07  \n",
       "net_disbursed_amt                    2.800199e+06  1.089366e+07  \n",
       "net_ltv                              6.889000e+01  8.439000e+01  \n",
       "net_receivable                       0.000000e+00  8.252080e+06  \n",
       "num_emi_changes                      7.000000e+00  2.700000e+01  \n",
       "num_low_freq_transactions            6.000000e+00  2.100000e+01  \n",
       "num_of_emi_transactions              4.000000e+01  7.300000e+01  \n",
       "orignal_interest_rate                1.747973e+01  1.997683e+01  \n",
       "orignal_tenor                        1.800000e+02  2.400000e+02  \n",
       "outstanding_principal                2.546081e+06  1.080242e+07  \n",
       "paid_interest                        8.067100e+05  5.588191e+06  \n",
       "paid_principal                       2.208857e+05  7.458322e+06  \n",
       "pre_emi_dueamt                       5.423541e+04  1.624202e+06  \n",
       "pre_emi_received_amt                 5.423541e+04  1.585701e+06  "
      ]
     },
     "execution_count": 6,
     "metadata": {},
     "output_type": "execute_result"
    }
   ],
   "source": [
    "df.describe().T"
   ]
  },
  {
   "cell_type": "code",
   "execution_count": 8,
   "metadata": {},
   "outputs": [
    {
     "name": "stdout",
     "output_type": "stream",
     "text": [
      "<class 'pandas.core.frame.DataFrame'>\n",
      "RangeIndex: 2319 entries, 0 to 2318\n",
      "Data columns (total 42 columns):\n",
      " #   Column                               Non-Null Count  Dtype  \n",
      "---  ------                               --------------  -----  \n",
      " 0   loan_account                         2319 non-null   object \n",
      " 1   age                                  2319 non-null   int64  \n",
      " 2   gender                               2319 non-null   object \n",
      " 3   marital_status                       2319 non-null   object \n",
      " 4   qualification                        2319 non-null   object \n",
      " 5   gross_income                         2319 non-null   float64\n",
      " 6   nettakehome                          2319 non-null   float64\n",
      " 7   balance_tenure                       2319 non-null   int64  \n",
      " 8   city                                 2319 non-null   object \n",
      " 9   completed_tenure                     2319 non-null   int64  \n",
      " 10  current_interest_rate                2319 non-null   float64\n",
      " 11  current_interest_rate_max            2319 non-null   float64\n",
      " 12  current_interest_rate_min            2319 non-null   float64\n",
      " 13  current_tenor                        2319 non-null   int64  \n",
      " 14  diff_current_interest_rate_max_min   2319 non-null   float64\n",
      " 15  diff_emi_amount_max_min              2319 non-null   float64\n",
      " 16  diff_original_current_interest_rate  2319 non-null   float64\n",
      " 17  diff_original_current_tenor          2319 non-null   int64  \n",
      " 18  emi_amount                           2319 non-null   float64\n",
      " 19  emi_dueamt                           2319 non-null   float64\n",
      " 20  emi_received_amt                     2319 non-null   float64\n",
      " 21  excess_adjusted_amt                  2319 non-null   float64\n",
      " 22  excess_available                     2319 non-null   float64\n",
      " 23  foir                                 2319 non-null   float64\n",
      " 24  last_receipt_amount                  2319 non-null   float64\n",
      " 25  loan_amt                             2319 non-null   float64\n",
      " 26  max_emi_amount                       2319 non-null   float64\n",
      " 27  min_emi_amount                       2319 non-null   float64\n",
      " 28  monthopening                         2319 non-null   float64\n",
      " 29  net_disbursed_amt                    2319 non-null   float64\n",
      " 30  net_ltv                              2319 non-null   float64\n",
      " 31  net_receivable                       2319 non-null   float64\n",
      " 32  num_emi_changes                      2319 non-null   int64  \n",
      " 33  num_low_freq_transactions            2319 non-null   int64  \n",
      " 34  num_of_emi_transactions              2319 non-null   int64  \n",
      " 35  orignal_interest_rate                2319 non-null   float64\n",
      " 36  orignal_tenor                        2319 non-null   int64  \n",
      " 37  outstanding_principal                2319 non-null   float64\n",
      " 38  paid_interest                        2319 non-null   float64\n",
      " 39  paid_principal                       2319 non-null   float64\n",
      " 40  pre_emi_dueamt                       2319 non-null   float64\n",
      " 41  pre_emi_received_amt                 2319 non-null   float64\n",
      "dtypes: float64(28), int64(9), object(5)\n",
      "memory usage: 761.0+ KB\n"
     ]
    }
   ],
   "source": [
    "df.info()"
   ]
  },
  {
   "cell_type": "code",
   "execution_count": 9,
   "metadata": {},
   "outputs": [
    {
     "data": {
      "text/plain": [
       "MUMBAI             586\n",
       "HYDERABAD          268\n",
       "AHMEDABAD          165\n",
       "CHENNAI            164\n",
       "MADURAI            157\n",
       "COIMBATORE         156\n",
       "SURAT              136\n",
       "ERODE               85\n",
       "PUNE                78\n",
       "TIRUCHIRAPPALLI     78\n",
       "KARUR               65\n",
       "TUTICORIN           64\n",
       "TIRUPUR             63\n",
       "NAMAKKAL            56\n",
       "WARANGAL            56\n",
       "BANGALORE           45\n",
       "VISHAKHAPATNAM      45\n",
       "Hyd                 31\n",
       "Mum                 21\n",
       "Name: city, dtype: int64"
      ]
     },
     "execution_count": 9,
     "metadata": {},
     "output_type": "execute_result"
    }
   ],
   "source": [
    "df.city.value_counts()"
   ]
  },
  {
   "cell_type": "code",
   "execution_count": 10,
   "metadata": {},
   "outputs": [
    {
     "data": {
      "text/plain": [
       "M    1994\n",
       "F     325\n",
       "Name: gender, dtype: int64"
      ]
     },
     "execution_count": 10,
     "metadata": {},
     "output_type": "execute_result"
    }
   ],
   "source": [
    "df.gender.value_counts()"
   ]
  },
  {
   "cell_type": "code",
   "execution_count": 11,
   "metadata": {},
   "outputs": [
    {
     "data": {
      "text/plain": [
       "M    2086\n",
       "S     233\n",
       "Name: marital_status, dtype: int64"
      ]
     },
     "execution_count": 11,
     "metadata": {},
     "output_type": "execute_result"
    }
   ],
   "source": [
    "df.marital_status.value_counts()"
   ]
  },
  {
   "cell_type": "code",
   "execution_count": 12,
   "metadata": {},
   "outputs": [
    {
     "data": {
      "text/plain": [
       "UG          1548\n",
       "GRAD         409\n",
       "POSTGRAD     181\n",
       "OTHERS       150\n",
       "PRF           18\n",
       "ENG            6\n",
       "MAT            5\n",
       "DOCTRATE       2\n",
       "Name: qualification, dtype: int64"
      ]
     },
     "execution_count": 12,
     "metadata": {},
     "output_type": "execute_result"
    }
   ],
   "source": [
    "df.qualification.value_counts()"
   ]
  },
  {
   "cell_type": "markdown",
   "metadata": {},
   "source": [
    "#### Observations:\n"
   ]
  },
  {
   "cell_type": "markdown",
   "metadata": {},
   "source": [
    "### Data Cleanup"
   ]
  },
  {
   "cell_type": "code",
   "execution_count": 13,
   "metadata": {},
   "outputs": [
    {
     "data": {
      "text/plain": [
       "MUMBAI             607\n",
       "HYDERABAD          299\n",
       "AHMEDABAD          165\n",
       "CHENNAI            164\n",
       "MADURAI            157\n",
       "COIMBATORE         156\n",
       "SURAT              136\n",
       "ERODE               85\n",
       "PUNE                78\n",
       "TIRUCHIRAPPALLI     78\n",
       "KARUR               65\n",
       "TUTICORIN           64\n",
       "TIRUPUR             63\n",
       "NAMAKKAL            56\n",
       "WARANGAL            56\n",
       "BANGALORE           45\n",
       "VISHAKHAPATNAM      45\n",
       "Name: city, dtype: int64"
      ]
     },
     "execution_count": 13,
     "metadata": {},
     "output_type": "execute_result"
    }
   ],
   "source": [
    "df.city.replace(to_replace='Mum',value='MUMBAI',inplace=True)\n",
    "df.city.replace(to_replace='Hyd',value='HYDERABAD',inplace=True)\n",
    "df.city.value_counts()"
   ]
  },
  {
   "cell_type": "code",
   "execution_count": 14,
   "metadata": {},
   "outputs": [],
   "source": [
    "df.drop(['diff_current_interest_rate_max_min','diff_original_current_interest_rate','diff_original_current_tenor','excess_adjusted_amt'], axis=1, inplace=True)"
   ]
  },
  {
   "cell_type": "code",
   "execution_count": 15,
   "metadata": {},
   "outputs": [],
   "source": [
    "df.gross_income.replace(to_replace=0, value=df.gross_income.median(),inplace=True)\n",
    "df.nettakehome.replace(to_replace=0, value=df.nettakehome.median(),inplace=True)"
   ]
  },
  {
   "cell_type": "markdown",
   "metadata": {},
   "source": [
    "### EDA"
   ]
  },
  {
   "cell_type": "markdown",
   "metadata": {},
   "source": [
    "#### Univariate Analysis"
   ]
  },
  {
   "cell_type": "code",
   "execution_count": 16,
   "metadata": {},
   "outputs": [],
   "source": [
    "def univariateAnalysis_numeric(column,nbins):\n",
    "    print(\"Description of \" + column)\n",
    "    print(\"----------------------------------------------------------------------------\")\n",
    "    print(df[column].describe(),end=' ')\n",
    "    \n",
    "    \n",
    "    plt.figure()\n",
    "    print(\"Distribution of \" + column)\n",
    "    print(\"----------------------------------------------------------------------------\")\n",
    "    sns.distplot(df[column], kde=False, color='g');\n",
    "    plt.show()\n",
    "    \n",
    "    plt.figure()\n",
    "    print(\"BoxPlot of \" + column)\n",
    "    print(\"----------------------------------------------------------------------------\")\n",
    "    ax = sns.boxplot(x=df[column])\n",
    "    plt.show()"
   ]
  },
  {
   "cell_type": "code",
   "execution_count": 17,
   "metadata": {},
   "outputs": [
    {
     "name": "stdout",
     "output_type": "stream",
     "text": [
      "Description of age\n",
      "----------------------------------------------------------------------------\n",
      "count    2319.000000\n",
      "mean       39.451056\n",
      "std         8.982396\n",
      "min        18.000000\n",
      "25%        32.000000\n",
      "50%        39.000000\n",
      "75%        46.000000\n",
      "max        65.000000\n",
      "Name: age, dtype: float64 Distribution of age\n",
      "----------------------------------------------------------------------------\n"
     ]
    },
    {
     "name": "stderr",
     "output_type": "stream",
     "text": [
      "C:\\Users\\guptap6\\Anaconda3\\lib\\site-packages\\seaborn\\distributions.py:2557: FutureWarning: `distplot` is a deprecated function and will be removed in a future version. Please adapt your code to use either `displot` (a figure-level function with similar flexibility) or `histplot` (an axes-level function for histograms).\n",
      "  warnings.warn(msg, FutureWarning)\n"
     ]
    },
    {
     "data": {
      "image/png": "[encoded data removed]",
      "text/plain": [
       "<Figure size 432x288 with 1 Axes>"
      ]
     },
     "metadata": {
      "needs_background": "light"
     },
     "output_type": "display_data"
    },
    {
     "name": "stdout",
     "output_type": "stream",
     "text": [
      "BoxPlot of age\n",
      "----------------------------------------------------------------------------\n"
     ]
    },
    {
     "data": {
      "image/png": "[encoded data removed]",
      "text/plain": [
       "<Figure size 432x288 with 1 Axes>"
      ]
     },
     "metadata": {
      "needs_background": "light"
     },
     "output_type": "display_data"
    }
   ],
   "source": [
    "univariateAnalysis_numeric('age',20)"
   ]
  },
  {
   "cell_type": "code",
   "execution_count": null,
   "metadata": {},
   "outputs": [],
   "source": [
    "df_num = df.select_dtypes(include = ['float64', 'int64'])\n",
    "lstnumericcolumns = list(df_num.columns.values)\n",
    "len(lstnumericcolumns)"
   ]
  },
  {
   "cell_type": "code",
   "execution_count": null,
   "metadata": {},
   "outputs": [],
   "source": [
    "for x in lstnumericcolumns:\n",
    "    univariateAnalysis_numeric(x,20)"
   ]
  },
  {
   "cell_type": "markdown",
   "metadata": {},
   "source": [
    "#### Observations\n"
   ]
  },
  {
   "cell_type": "code",
   "execution_count": null,
   "metadata": {},
   "outputs": [],
   "source": [
    "df.num_low_freq_transactions.describe()"
   ]
  },
  {
   "cell_type": "code",
   "execution_count": null,
   "metadata": {},
   "outputs": [],
   "source": [
    "# Probable customers who are paying off their loans earlier\n",
    "df[df.num_low_freq_transactions > 6]"
   ]
  },
  {
   "cell_type": "markdown",
   "metadata": {},
   "source": [
    "#### Observation\n"
   ]
  },
  {
   "cell_type": "code",
   "execution_count": null,
   "metadata": {},
   "outputs": [],
   "source": [
    "def univariateAnalysis_category(cat_column):\n",
    "    print(\"Details of \" + cat_column)\n",
    "    print(\"----------------------------------------------------------------\")\n",
    "    print(df_cat[cat_column].value_counts())\n",
    "    plt.figure()\n",
    "    df_cat[cat_column].value_counts().plot.bar(title=\"Frequency Distribution of \" + cat_column)\n",
    "    plt.show()\n",
    "    print(\"       \")"
   ]
  },
  {
   "cell_type": "code",
   "execution_count": null,
   "metadata": {},
   "outputs": [],
   "source": [
    "df_cat = df.select_dtypes(include = ['object'])\n",
    "lstcatcolumns = list(df_cat.columns.values)\n",
    "lstcatcolumns"
   ]
  },
  {
   "cell_type": "code",
   "execution_count": null,
   "metadata": {},
   "outputs": [],
   "source": [
    "lstcatcolumns.remove('loan_account')"
   ]
  },
  {
   "cell_type": "code",
   "execution_count": null,
   "metadata": {},
   "outputs": [],
   "source": [
    "for x in lstcatcolumns:\n",
    "    univariateAnalysis_category(x)"
   ]
  },
  {
   "cell_type": "markdown",
   "metadata": {},
   "source": [
    "#### Bivariate Analysis"
   ]
  },
  {
   "cell_type": "code",
   "execution_count": null,
   "metadata": {},
   "outputs": [],
   "source": [
    "corr = df_num.corr(method='pearson')"
   ]
  },
  {
   "cell_type": "code",
   "execution_count": null,
   "metadata": {},
   "outputs": [],
   "source": [
    "mask = np.triu(np.ones_like(corr, dtype=np.bool)) \n",
    "fig = plt.subplots(figsize=(25, 15))\n",
    "sns.heatmap(df_num.corr(), annot=True,fmt='.2f',mask=mask)\n",
    "plt.show()"
   ]
  },
  {
   "cell_type": "markdown",
   "metadata": {},
   "source": [
    "#### Observation\n",
    "\n"
   ]
  },
  {
   "cell_type": "markdown",
   "metadata": {},
   "source": [
    "### Outlier Treatment"
   ]
  },
  {
   "cell_type": "code",
   "execution_count": null,
   "metadata": {},
   "outputs": [],
   "source": [
    "df_num.boxplot(figsize=(20,20))\n",
    "plt.xticks(rotation=90)\n",
    "plt.show()"
   ]
  },
  {
   "cell_type": "code",
   "execution_count": null,
   "metadata": {},
   "outputs": [],
   "source": [
    "no_outlier = ['age','current_interest_rate','current_interest_rate_max','current_interest_rate_min','net_ltv','orignal_interest_rate']"
   ]
  },
  {
   "cell_type": "code",
   "execution_count": null,
   "metadata": {},
   "outputs": [],
   "source": [
    "df_num[no_outlier].boxplot(figsize=(20,20))\n",
    "plt.xticks(rotation=90)\n",
    "plt.show()"
   ]
  },
  {
   "cell_type": "markdown",
   "metadata": {},
   "source": [
    "To treat outliers lets define a function **'treat_outlier'**. \n",
    "\n",
    "- For the higher outliers we will treat it to get it at 95 percentile value. \n",
    "\n",
    "- Lower level outliers will be treated to get it at 5 percentile value."
   ]
  },
  {
   "cell_type": "code",
   "execution_count": null,
   "metadata": {},
   "outputs": [],
   "source": [
    "def treat_outlier(x):\n",
    "    # taking 5,25,75 percentile of column\n",
    "    q5= np.percentile(x,5)\n",
    "    q25=np.percentile(x,25)\n",
    "    q75=np.percentile(x,75)\n",
    "    dt=np.percentile(x,95)\n",
    "    #calculationg IQR range\n",
    "    IQR=q75-q25\n",
    "    #Calculating minimum threshold\n",
    "    lower_bound=q25-(1.5*IQR)\n",
    "    upper_bound=q75+(1.5*IQR)\n",
    "    #Capping outliers\n",
    "    return x.apply(lambda y: dt if y > upper_bound else y).apply(lambda y: q5 if y < lower_bound else y)"
   ]
  },
  {
   "cell_type": "code",
   "execution_count": null,
   "metadata": {},
   "outputs": [],
   "source": [
    "outlier_list = [x for x in df_num.columns if x not in no_outlier]"
   ]
  },
  {
   "cell_type": "code",
   "execution_count": null,
   "metadata": {},
   "outputs": [],
   "source": [
    "for i in df_num[outlier_list]:    \n",
    "    df_num[i]=treat_outlier(df_num[i])"
   ]
  },
  {
   "cell_type": "code",
   "execution_count": null,
   "metadata": {},
   "outputs": [],
   "source": [
    "df_num.boxplot(figsize=(20,20))\n",
    "plt.xticks(rotation=90)\n",
    "plt.show()"
   ]
  },
  {
   "cell_type": "markdown",
   "metadata": {},
   "source": [
    "## PCA"
   ]
  },
  {
   "cell_type": "code",
   "execution_count": null,
   "metadata": {},
   "outputs": [],
   "source": [
    "df_num.info()"
   ]
  },
  {
   "cell_type": "code",
   "execution_count": null,
   "metadata": {},
   "outputs": [],
   "source": [
    "from scipy.stats import zscore\n",
    "df_num_scaled=df_num.apply()\n",
    "df_num_scaled.head()"
   ]
  },
  {
   "cell_type": "code",
   "execution_count": null,
   "metadata": {},
   "outputs": [],
   "source": [
    "df_num_scaled.info()"
   ]
  },
  {
   "cell_type": "code",
   "execution_count": null,
   "metadata": {},
   "outputs": [],
   "source": [
    "df_num_scaled.boxplot(figsize=(20,3))\n",
    "plt.xticks(rotation=90)\n",
    "plt.show()"
   ]
  },
  {
   "cell_type": "markdown",
   "metadata": {},
   "source": [
    "### Statistical tests to be done before PCA"
   ]
  },
  {
   "cell_type": "markdown",
   "metadata": {},
   "source": [
    "#### Bartletts Test of Sphericity\n",
    "Bartlett's test of sphericity tests the hypothesis that the variables are uncorrelated in the population.\n",
    "\n",
    "- H0: All variables in the data are uncorrelated\n",
    "- Ha: At least one pair of variables in the data are correlated\n",
    "\n",
    "If the null hypothesis cannot be rejected, then PCA is not advisable.\n",
    "\n",
    "If the p-value is small, then we can reject the null hypothesis and agree that there is atleast one pair of vairbales in the data wihich are correlated hence PCA is recommended."
   ]
  },
  {
   "cell_type": "code",
   "execution_count": null,
   "metadata": {},
   "outputs": [],
   "source": [
    "from factor_analyzer.factor_analyzer import calculate_bartlett_sphericity\n",
    "chi_square_value,p_value=calculate_bartlett_sphericity(df_num_scaled)\n",
    "p_value"
   ]
  },
  {
   "cell_type": "markdown",
   "metadata": {},
   "source": [
    "#### KMO Test\n",
    "\n",
    "The Kaiser-Meyer-Olkin (KMO) - measure of sampling adequacy (MSA) is an index used to examine how appropriate PCA is.\n",
    "\n",
    "Generally, if MSA is less than 0.5, PCA is not recommended, since no reduction is expected. On the other hand, MSA > 0.7 is expected to provide a considerable reduction is the dimension and extraction of meaningful components."
   ]
  },
  {
   "cell_type": "code",
   "execution_count": null,
   "metadata": {},
   "outputs": [],
   "source": [
    "from factor_analyzer.factor_analyzer import calculate_kmo\n",
    "kmo_all,kmo_model=calculate_kmo(df_num_scaled)\n",
    "kmo_model"
   ]
  },
  {
   "cell_type": "code",
   "execution_count": null,
   "metadata": {},
   "outputs": [],
   "source": [
    "# Step 1- Create the covariance Matrix\n",
    "cov_matrix = np.cov(df_num_scaled.T)\n",
    "print('Covariance Matrix \\n%s', )"
   ]
  },
  {
   "cell_type": "code",
   "execution_count": null,
   "metadata": {},
   "outputs": [],
   "source": [
    "# Step 2- Get eigen values and eigen vector\n",
    "eig_vals, eig_vecs = np.linalg.eig(cov_matrix)\n",
    "print('\\n Eigen Values \\n %s', )\n",
    "print('\\n')\n",
    "print('Eigen Vectors \\n %s', )"
   ]
  },
  {
   "cell_type": "code",
   "execution_count": null,
   "metadata": {
    "ExecuteTime": {
     "end_time": "2020-04-09T06:29:41.779882Z",
     "start_time": "2020-04-09T06:29:41.759149Z"
    }
   },
   "outputs": [],
   "source": [
    "tot = sum(eig_vals)\n",
    "var_exp = [( i /tot ) * 100 for i in sorted(eig_vals, reverse=True)]\n",
    "cum_var_exp = np.cumsum(var_exp)\n",
    "print(\"Cumulative Variance Explained\", cum_var_exp)"
   ]
  },
  {
   "cell_type": "markdown",
   "metadata": {},
   "source": [
    "### Scree plot"
   ]
  },
  {
   "cell_type": "code",
   "execution_count": null,
   "metadata": {
    "ExecuteTime": {
     "end_time": "2020-04-09T06:29:42.046671Z",
     "start_time": "2020-04-09T06:29:41.780839Z"
    }
   },
   "outputs": [],
   "source": [
    "# Step 3 View Scree Plot to identify the number of components to be built\n",
    "plt.figure(figsize=(12,7))\n",
    "plt.xlabel('Number of Components',fontsize=15)\n",
    "plt.ylabel('Variance Explained',fontsize=15)\n",
    "plt.title('Scree Plot',fontsize=15)\n",
    "plt.grid()\n",
    "plt.show()"
   ]
  },
  {
   "cell_type": "code",
   "execution_count": null,
   "metadata": {
    "ExecuteTime": {
     "end_time": "2020-04-09T06:29:44.513369Z",
     "start_time": "2020-04-09T06:29:42.260689Z"
    }
   },
   "outputs": [],
   "source": [
    "# Step 4 Apply PCA for the number of decided components to get the loadings and component output\n",
    "\n",
    "# Using scikit learn PCA here. It does all the above steps and maps data to PCA dimensions in one shot\n",
    "from sklearn.decomposition import PCA\n",
    "# NOTE - we are generating only 8 PCA dimensions (dimensionality reduction from 33 to 8)\n",
    "pca = PCA(n_components=8, random_state=123)\n",
    "df_pca = pca.fit_transform(df_num_scaled)\n",
    "df_pca.transpose() # Component output"
   ]
  },
  {
   "cell_type": "code",
   "execution_count": null,
   "metadata": {
    "ExecuteTime": {
     "end_time": "2020-04-09T06:29:44.523343Z",
     "start_time": "2020-04-09T06:29:44.515365Z"
    }
   },
   "outputs": [],
   "source": [
    "# Loading of each feature on the components\n",
    "pca.components_"
   ]
  },
  {
   "cell_type": "code",
   "execution_count": null,
   "metadata": {
    "ExecuteTime": {
     "end_time": "2020-04-09T06:29:44.610110Z",
     "start_time": "2020-04-09T06:29:44.525338Z"
    }
   },
   "outputs": [],
   "source": [
    "pca.explained_variance_ratio_"
   ]
  },
  {
   "cell_type": "markdown",
   "metadata": {},
   "source": [
    "Let's create a dataframe of component loading against each field and identify the pattern"
   ]
  },
  {
   "cell_type": "code",
   "execution_count": null,
   "metadata": {
    "ExecuteTime": {
     "end_time": "2020-04-09T07:54:06.847723Z",
     "start_time": "2020-04-09T07:54:06.824755Z"
    }
   },
   "outputs": [],
   "source": [
    "df_pca_loading = pd.DataFrame(pca.components_,columns=list(df_num_scaled))\n",
    "df_pca_loading.shape"
   ]
  },
  {
   "cell_type": "code",
   "execution_count": null,
   "metadata": {},
   "outputs": [],
   "source": [
    "df_pca_loading.head(8)"
   ]
  },
  {
   "cell_type": "markdown",
   "metadata": {},
   "source": [
    "Let's identify which features have maximum loading across the components.\n",
    "\n"
   ]
  },
  {
   "cell_type": "code",
   "execution_count": null,
   "metadata": {},
   "outputs": [],
   "source": [
    "from matplotlib.patches import Rectangle"
   ]
  },
  {
   "cell_type": "code",
   "execution_count": null,
   "metadata": {},
   "outputs": [],
   "source": [
    "fig,ax = plt.subplots(figsize=(22, 10), facecolor='w', edgecolor='k')\n",
    "ax = sns.heatmap(df_pca_loading, annot=True, vmax=1.0, vmin=0, cmap='Blues', cbar=False, fmt='.2g', ax=ax,\n",
    "                 yticklabels=['PC0','PC1','PC2','PC3','PC4','PC5','PC6','PC7'])\n",
    "\n",
    "column_max = df_pca_loading.abs().idxmax(axis=0)\n",
    "\n",
    "for col, variable in enumerate(df_pca_loading.columns):\n",
    "    position = df_pca_loading.index.get_loc(column_max[variable])\n",
    "    ax.add_patch(Rectangle((col, position),1,1, fill=False, edgecolor='red', lw=3))"
   ]
  },
  {
   "cell_type": "code",
   "execution_count": null,
   "metadata": {},
   "outputs": [],
   "source": [
    "df_pca = pd.DataFrame(df_pca,columns=['pc_loan_repayment','pc_balance_loan','pc_interest_rate','pc_tenure',\n",
    "                                  'pc_pre_emi','pc_emi','pc_receiveable','pc_income'])\n",
    "df_pca.head()"
   ]
  },
  {
   "cell_type": "code",
   "execution_count": null,
   "metadata": {},
   "outputs": [],
   "source": [
    "df_pca.shape"
   ]
  },
  {
   "cell_type": "markdown",
   "metadata": {},
   "source": [
    "### EDA (Categorical Fields & Principal Components)"
   ]
  },
  {
   "cell_type": "code",
   "execution_count": null,
   "metadata": {},
   "outputs": [],
   "source": [
    "df_new = pd.concat([df_cat, df_pca], axis=1)"
   ]
  },
  {
   "cell_type": "code",
   "execution_count": null,
   "metadata": {},
   "outputs": [],
   "source": [
    "df_new.shape"
   ]
  },
  {
   "cell_type": "code",
   "execution_count": null,
   "metadata": {},
   "outputs": [],
   "source": [
    "df_new.head()"
   ]
  },
  {
   "cell_type": "code",
   "execution_count": null,
   "metadata": {},
   "outputs": [],
   "source": [
    "df_new.describe(include='all')"
   ]
  },
  {
   "cell_type": "code",
   "execution_count": null,
   "metadata": {},
   "outputs": [],
   "source": [
    "fig,ax = plt.subplots(figsize=(22,7))\n",
    "sns.boxplot(x='city',y='pc_loan_repayment', data=df_new)"
   ]
  },
  {
   "cell_type": "markdown",
   "metadata": {},
   "source": [
    "From above plots we observe that for Ahmedabad & Surat the loan repayment amount is comparatively lower than other cities. \n",
    "\n",
    "Loan repayment amount is highest for Chennai compared to other cities"
   ]
  },
  {
   "cell_type": "code",
   "execution_count": null,
   "metadata": {},
   "outputs": [],
   "source": [
    "fig,ax = plt.subplots(figsize=(22,7))\n",
    "sns.boxplot(x='city',y='pc_interest_rate', data=df_new)"
   ]
  },
  {
   "cell_type": "markdown",
   "metadata": {},
   "source": [
    "Interest rate is highest for Ahmedabad and lowest for Tirupur"
   ]
  },
  {
   "cell_type": "code",
   "execution_count": null,
   "metadata": {},
   "outputs": [],
   "source": [
    "fig,ax = plt.subplots(figsize=(22,7))\n",
    "sns.boxplot(x='city',y='pc_pre_emi', data=df_new)"
   ]
  },
  {
   "cell_type": "markdown",
   "metadata": {},
   "source": [
    "City of Erode seems to have highest pre-emi payments"
   ]
  },
  {
   "cell_type": "markdown",
   "metadata": {},
   "source": [
    "#### Observation\n",
    "\n",
    "- From above plots we observe that for Ahmedabad city, loan repayment amount is comparatively lower than other cities however, the interest rate charged to the customers is much higher\n",
    "\n",
    "- For Erode city, loan repayment amount is low, interest rate is comparative high and the pre-emi amount paid by customers from this city is also high"
   ]
  },
  {
   "cell_type": "markdown",
   "metadata": {},
   "source": [
    "### Apply rules & analyze patterns in data"
   ]
  },
  {
   "cell_type": "markdown",
   "metadata": {},
   "source": [
    "#### Case 1 - Advance Closure\n",
    "Customer who \n",
    "- has to pay lesser loan, \n",
    "- has done some payment as part of pre-emi and \n",
    "- has an high income \n",
    "have higher chances to do *advance payment* and close the loan in advance thus causing loss to the financial institute\n",
    "\n",
    "Let's create a subset dataframe *df_adv_closure* which satisfies all above conditions and analyze it further"
   ]
  },
  {
   "cell_type": "code",
   "execution_count": null,
   "metadata": {},
   "outputs": [],
   "source": [
    "cond1 = df_new.pc_loan_repayment < df_new.pc_loan_repayment.quantile(0.25) # customers paying lesser loan\n",
    "cond2 = df_new.pc_pre_emi > df_new.pc_pre_emi.quantile(0.75) # customers who have paid high pre-emi\n",
    "cond3 = df_new.pc_income > df_new.pc_income.quantile(0.75) # customers who have high income\n",
    "df_adv_closure = df_new[cond1 & cond2 & cond3] # Find customers satisifying all above conditions"
   ]
  },
  {
   "cell_type": "code",
   "execution_count": null,
   "metadata": {},
   "outputs": [],
   "source": [
    "df_adv_closure.index"
   ]
  },
  {
   "cell_type": "markdown",
   "metadata": {},
   "source": [
    "Above index corresponds to the rows or loan accounts which satisfy the Case 1 conditions. Let's create a new field 'advance_closure' which will hold a value of 1 for above indexed rows"
   ]
  },
  {
   "cell_type": "code",
   "execution_count": null,
   "metadata": {},
   "outputs": [],
   "source": [
    "df_adv_closure=df_adv_closure.assign(advance_closure=1)\n",
    "df_adv_closure.head()"
   ]
  },
  {
   "cell_type": "markdown",
   "metadata": {},
   "source": [
    "Let's merge *advance_closure* field with our original dataframe for the selected index and analyze further "
   ]
  },
  {
   "cell_type": "code",
   "execution_count": null,
   "metadata": {},
   "outputs": [],
   "source": [
    "df_merge = df.merge(df_adv_closure['advance_closure'],left_index=True,left_on=df.index, right_index=True, \n",
    "                    right_on=df_adv_closure.index, how='left')\n",
    "df_merge.head(252)"
   ]
  },
  {
   "cell_type": "code",
   "execution_count": null,
   "metadata": {},
   "outputs": [],
   "source": [
    "df_merge.advance_closure.fillna(0, inplace=)"
   ]
  },
  {
   "cell_type": "code",
   "execution_count": null,
   "metadata": {},
   "outputs": [],
   "source": [
    "df_merge.advance_closure.value_counts()"
   ]
  },
  {
   "cell_type": "markdown",
   "metadata": {},
   "source": [
    "#### Analyze data for probable customers who may payoff the loan in advance"
   ]
  },
  {
   "cell_type": "code",
   "execution_count": null,
   "metadata": {},
   "outputs": [],
   "source": [
    "sns.boxplot(df_merge.advance_closure, df_merge.num_emi_changes)"
   ]
  },
  {
   "cell_type": "code",
   "execution_count": null,
   "metadata": {},
   "outputs": [],
   "source": [
    "sns.boxplot(df_merge., df_merge.outstanding_principal)"
   ]
  },
  {
   "cell_type": "code",
   "execution_count": null,
   "metadata": {},
   "outputs": [],
   "source": [
    "sns.(df_merge.advance_closure, df_merge.paid_interest)"
   ]
  },
  {
   "cell_type": "markdown",
   "metadata": {},
   "source": [
    "#### Observation:\n",
    "\n",
    "28 customers have low outstanding principal, have paid less interest so far and we also see that there are more changes in emi value being paid. Hence, there is high probability that these customers may close the loans in advance"
   ]
  },
  {
   "cell_type": "markdown",
   "metadata": {},
   "source": [
    "#### Case 2 - Loan Default:\n",
    "\n",
    "Customers \n",
    "- with high loan, \n",
    "- low income and \n",
    "- high loan interest rate \n",
    "are probable customers to default.\n",
    "\n",
    "Let's create a subset dataframe *df_delay_closure* which satisfies all above conditions and analyze further"
   ]
  },
  {
   "cell_type": "code",
   "execution_count": null,
   "metadata": {},
   "outputs": [],
   "source": [
    "cond1 = df_new.pc_loan_repayment > df_new.pc_loan_repayment.quantile(0.75)# customers paying higher loan\n",
    "cond2 = df_new.pc_income < df_new.pc_income.quantile(0.25) # customers with lesser income\n",
    "cond3 = df_new.pc_interest_rate > df_new.pc_interest_rate.quantile(0.75) # customers paying higher interest\n",
    "\n",
    "df_delay_closure = df_new[cond1 & cond2 & cond3]# Find customers satisifying all above conditions"
   ]
  },
  {
   "cell_type": "code",
   "execution_count": null,
   "metadata": {},
   "outputs": [],
   "source": [
    "df_delay_closure.index"
   ]
  },
  {
   "cell_type": "markdown",
   "metadata": {},
   "source": [
    "Above index corresponds to the rows or loan accounts which satisfy the Case 2 conditions. Let's create a new field *'delay_closure'* which will hold a value of 1 for above indexed rows"
   ]
  },
  {
   "cell_type": "code",
   "execution_count": null,
   "metadata": {},
   "outputs": [],
   "source": [
    "df_delay_closure = df_delay_closure.assign(delay_closure=1)\n",
    "df_delay_closure.head()"
   ]
  },
  {
   "cell_type": "markdown",
   "metadata": {},
   "source": [
    "Let's merge the *df_delay_closure* with original dataframe *'df'* and just add the *'delay_closure'* field "
   ]
  },
  {
   "cell_type": "code",
   "execution_count": null,
   "metadata": {},
   "outputs": [],
   "source": [
    "df_merge = df.merge(df_delay_closure['delay_closure'],left_index=True,left_on=df.index, right_index=True, \n",
    "                    right_on=df_delay_closure.index, how='left')\n",
    "df_merge.head(79)"
   ]
  },
  {
   "cell_type": "code",
   "execution_count": null,
   "metadata": {},
   "outputs": [],
   "source": [
    "df_merge.delay_closure.fillna(0, inplace=True)"
   ]
  },
  {
   "cell_type": "code",
   "execution_count": null,
   "metadata": {},
   "outputs": [],
   "source": [
    "df_merge.delay_closure.value_counts()"
   ]
  },
  {
   "cell_type": "markdown",
   "metadata": {},
   "source": [
    "#### Analyze data for probable customers who may default"
   ]
  },
  {
   "cell_type": "code",
   "execution_count": null,
   "metadata": {},
   "outputs": [],
   "source": [
    "sns.(df_merge.delay_closure, df_merge.net_ltv)"
   ]
  },
  {
   "cell_type": "code",
   "execution_count": null,
   "metadata": {},
   "outputs": [],
   "source": [
    "sns.boxplot(df_merge., df_merge.outstanding_principal)"
   ]
  },
  {
   "cell_type": "code",
   "execution_count": null,
   "metadata": {},
   "outputs": [],
   "source": [
    "sns.boxplot(df_merge.delay_closure, df_merge.paid_interest)"
   ]
  },
  {
   "cell_type": "markdown",
   "metadata": {},
   "source": [
    "#### Observation:\n"
   ]
  },
  {
   "cell_type": "markdown",
   "metadata": {},
   "source": [
    "### Conclusion\n",
    "\n"
   ]
  },
  {
   "cell_type": "code",
   "execution_count": null,
   "metadata": {},
   "outputs": [],
   "source": []
  }
 ],
 "metadata": {
  "kernelspec": {
   "display_name": "Python 3",
   "language": "python",
   "name": "python3"
  },
  "language_info": {
   "codemirror_mode": {
    "name": "ipython",
    "version": 3
   },
   "file_extension": ".py",
   "mimetype": "text/x-python",
   "name": "python",
   "nbconvert_exporter": "python",
   "pygments_lexer": "ipython3",
   "version": "3.8.8"
  }
 },
 "nbformat": 4,
 "nbformat_minor": 4
}
