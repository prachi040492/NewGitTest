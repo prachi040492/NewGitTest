{
 "cells": [
  {
   "cell_type": "code",
   "execution_count": 29,
   "metadata": {
    "ExecuteTime": {
     "end_time": "2020-04-24T08:50:41.511617Z",
     "start_time": "2020-04-24T08:50:41.459755Z"
    },
    "colab": {},
    "colab_type": "code",
    "id": "RRIlDGgevFvW"
   },
   "outputs": [],
   "source": [
    "#Import Libraries\n",
    "import numpy as np\n",
    "import pandas as pd\n",
    "import seaborn as sns\n",
    "import math\n",
    "import matplotlib.pyplot as plt\n",
    "import scipy.stats as stats\n",
    "from scipy.stats import ttest_1samp, ttest_ind, ttest_rel, chi2_contingency"
   ]
  },
  {
   "cell_type": "markdown",
   "metadata": {
    "colab_type": "text",
    "id": "2eaGa3pwcdVd"
   },
   "source": [
    "Q1. Tom is working in a credit card processing company as a team leader. His team is responsible to validate certain data for new credit card applications. The time spent by his team on an application is normally distributed with average 300 minutes and standard deviation 40 minutes.Tom and his team worked on process improvement to reduce the time spent in processing new applications. After implementing the improvements, Tom checked the time spent by his team on randomly selected 25 new card applications. The average time spent is 290 min. Tom is happy that, though it is a small improvement, it is a step in right direction. He shares the good news with his manager Lisa. But Lisa in not convinced about the improvement. At 95% confidence, is the processes really improved?"
   ]
  },
  {
   "cell_type": "code",
   "execution_count": null,
   "metadata": {},
   "outputs": [],
   "source": [
    "# df = pd.DataFrame({'Before':[]})"
   ]
  },
  {
   "cell_type": "code",
   "execution_count": 6,
   "metadata": {},
   "outputs": [],
   "source": [
    "# H1 : process has improved : Tavg <300\n",
    "# Ho : process has not improved : Tavg =300\n",
    "meu = 290\n",
    "meu1 = 300\n",
    "stdev = 40\n",
    "n = 25\n",
    "\n",
    "Z = (meu - meu1)*math.sqrt(25)/stdev\n",
    "alpha = 0.05\n",
    "# t-statistic = ttest_1samp(mydata,300)"
   ]
  },
  {
   "cell_type": "markdown",
   "metadata": {},
   "source": [
    "# Question 2"
   ]
  },
  {
   "cell_type": "markdown",
   "metadata": {},
   "source": [
    "Q2.The Titan Insurance Company has just installed a new incentive payment scheme for its life policy sales-force. It wants to have an early view of the success or failure of the new scheme. Indications are that the sales force is selling more policies but sales always vary in an unpredictable pattern from month to month and it is not clear that the scheme has made a significant difference. Life Insurance companies typically measure the monthly output of a salesperson as the total sum assured for the policies sold by that person during the month.\n",
    "\n",
    "Titan's new scheme is that the sales force receive low regular salaries but are paid large bonuses related to their output (i.e. to the total sum assured of policies sold by them). The scheme is expensive for the company but they are looking for sales increases to compensate for it. The scheme has now been in operation for four months. It has settled down after fluctuations in the first two months due to the changeover.\n",
    "\n",
    "To test the effectiveness of the scheme, Titan has taken a random sample of 30 salespeople measured their output in the penultimate month prior to changeover and then measured it in the fourth month after the changeover (they have deliberately chosen months not too close to the changeover)."
   ]
  },
  {
   "cell_type": "markdown",
   "metadata": {
    "colab_type": "text",
    "id": "JDeOKgrNvFvc"
   },
   "source": [
    "# Importing CSV "
   ]
  },
  {
   "cell_type": "code",
   "execution_count": 7,
   "metadata": {
    "ExecuteTime": {
     "end_time": "2020-04-24T08:50:42.564798Z",
     "start_time": "2020-04-24T08:50:42.533881Z"
    },
    "colab": {},
    "colab_type": "code",
    "id": "NF1CiM10vFve"
   },
   "outputs": [],
   "source": [
    "mydata = pd.read_csv('Titan Case Study-1.csv')"
   ]
  },
  {
   "cell_type": "markdown",
   "metadata": {
    "colab_type": "text",
    "id": "ttDV8aafvFvj"
   },
   "source": [
    "# Checking the top 5 rows"
   ]
  },
  {
   "cell_type": "code",
   "execution_count": 8,
   "metadata": {
    "ExecuteTime": {
     "end_time": "2020-04-24T08:50:43.600028Z",
     "start_time": "2020-04-24T08:50:43.578087Z"
    },
    "colab": {},
    "colab_type": "code",
    "id": "3VXqkLTTvFvl",
    "outputId": "d85e9c81-9abb-4331-cd5d-1b38e1ff7bd0"
   },
   "outputs": [
    {
     "data": {
      "text/html": [
       "<div>\n",
       "<style scoped>\n",
       "    .dataframe tbody tr th:only-of-type {\n",
       "        vertical-align: middle;\n",
       "    }\n",
       "\n",
       "    .dataframe tbody tr th {\n",
       "        vertical-align: top;\n",
       "    }\n",
       "\n",
       "    .dataframe thead th {\n",
       "        text-align: right;\n",
       "    }\n",
       "</style>\n",
       "<table border=\"1\" class=\"dataframe\">\n",
       "  <thead>\n",
       "    <tr style=\"text-align: right;\">\n",
       "      <th></th>\n",
       "      <th>Salesperson</th>\n",
       "      <th>Old Scheme</th>\n",
       "      <th>New Scheme</th>\n",
       "    </tr>\n",
       "  </thead>\n",
       "  <tbody>\n",
       "    <tr>\n",
       "      <th>0</th>\n",
       "      <td>1</td>\n",
       "      <td>57</td>\n",
       "      <td>62</td>\n",
       "    </tr>\n",
       "    <tr>\n",
       "      <th>1</th>\n",
       "      <td>2</td>\n",
       "      <td>103</td>\n",
       "      <td>122</td>\n",
       "    </tr>\n",
       "    <tr>\n",
       "      <th>2</th>\n",
       "      <td>3</td>\n",
       "      <td>59</td>\n",
       "      <td>54</td>\n",
       "    </tr>\n",
       "    <tr>\n",
       "      <th>3</th>\n",
       "      <td>4</td>\n",
       "      <td>75</td>\n",
       "      <td>82</td>\n",
       "    </tr>\n",
       "    <tr>\n",
       "      <th>4</th>\n",
       "      <td>5</td>\n",
       "      <td>84</td>\n",
       "      <td>84</td>\n",
       "    </tr>\n",
       "  </tbody>\n",
       "</table>\n",
       "</div>"
      ],
      "text/plain": [
       "   Salesperson  Old Scheme  New Scheme\n",
       "0            1          57          62\n",
       "1            2         103         122\n",
       "2            3          59          54\n",
       "3            4          75          82\n",
       "4            5          84          84"
      ]
     },
     "execution_count": 8,
     "metadata": {},
     "output_type": "execute_result"
    }
   ],
   "source": [
    "mydata.head()"
   ]
  },
  {
   "cell_type": "markdown",
   "metadata": {
    "colab_type": "text",
    "id": "R985CGqTvFvr"
   },
   "source": [
    "# Checking Summary of data"
   ]
  },
  {
   "cell_type": "code",
   "execution_count": 9,
   "metadata": {
    "ExecuteTime": {
     "end_time": "2020-04-24T08:50:45.067104Z",
     "start_time": "2020-04-24T08:50:45.016240Z"
    },
    "colab": {},
    "colab_type": "code",
    "id": "Q9tEsekevFvt",
    "outputId": "eacbecee-bd36-45b7-945d-4427c58e987e"
   },
   "outputs": [
    {
     "name": "stdout",
     "output_type": "stream",
     "text": [
      "<class 'pandas.core.frame.DataFrame'>\n",
      "RangeIndex: 30 entries, 0 to 29\n",
      "Data columns (total 3 columns):\n",
      " #   Column       Non-Null Count  Dtype\n",
      "---  ------       --------------  -----\n",
      " 0   Salesperson  30 non-null     int64\n",
      " 1   Old Scheme   30 non-null     int64\n",
      " 2   New Scheme   30 non-null     int64\n",
      "dtypes: int64(3)\n",
      "memory usage: 848.0 bytes\n"
     ]
    }
   ],
   "source": [
    "mydata.info()"
   ]
  },
  {
   "cell_type": "markdown",
   "metadata": {
    "colab_type": "text",
    "id": "uXUxSer3vFvy"
   },
   "source": [
    "# Check for missing values"
   ]
  },
  {
   "cell_type": "code",
   "execution_count": 10,
   "metadata": {
    "ExecuteTime": {
     "end_time": "2020-04-24T08:50:47.454719Z",
     "start_time": "2020-04-24T08:50:47.437764Z"
    },
    "colab": {},
    "colab_type": "code",
    "id": "_ZvY_CvjvFv0",
    "outputId": "53975287-ac7f-431c-c551-b14df7674afd"
   },
   "outputs": [
    {
     "data": {
      "text/plain": [
       "Salesperson    False\n",
       "Old Scheme     False\n",
       "New Scheme     False\n",
       "dtype: bool"
      ]
     },
     "execution_count": 10,
     "metadata": {},
     "output_type": "execute_result"
    }
   ],
   "source": [
    "mydata.isnull().any()"
   ]
  },
  {
   "cell_type": "markdown",
   "metadata": {
    "colab_type": "text",
    "id": "_wQtjUHXvFv5"
   },
   "source": [
    "# Plot Histograms and boxplot"
   ]
  },
  {
   "cell_type": "code",
   "execution_count": 15,
   "metadata": {
    "ExecuteTime": {
     "end_time": "2020-04-24T08:50:51.669253Z",
     "start_time": "2020-04-24T08:50:51.518051Z"
    },
    "colab": {},
    "colab_type": "code",
    "id": "p0N_--aVvFwC",
    "outputId": "39050522-08cf-4eda-b90f-f03667f2b1d3"
   },
   "outputs": [
    {
     "data": {
      "image/png": "[encoded data removed]",
      "text/plain": [
       "<Figure size 720x720 with 4 Axes>"
      ]
     },
     "metadata": {
      "needs_background": "light"
     },
     "output_type": "display_data"
    }
   ],
   "source": [
    "mydata.hist(figsize=(10,10));"
   ]
  },
  {
   "cell_type": "code",
   "execution_count": 18,
   "metadata": {},
   "outputs": [
    {
     "data": {
      "text/plain": [
       "<AxesSubplot:>"
      ]
     },
     "execution_count": 18,
     "metadata": {},
     "output_type": "execute_result"
    },
    {
     "data": {
      "image/png": "[encoded data removed]",
      "text/plain": [
       "<Figure size 432x288 with 1 Axes>"
      ]
     },
     "metadata": {
      "needs_background": "light"
     },
     "output_type": "display_data"
    }
   ],
   "source": [
    "sns.boxplot(data= mydata, orient='h', palette='Set2')"
   ]
  },
  {
   "cell_type": "markdown",
   "metadata": {
    "colab_type": "text",
    "id": "vp55NPs8vFwH"
   },
   "source": [
    "# Describe the five per cent significance test you would apply to these data to determine whether new scheme has significantly raised outputs?"
   ]
  },
  {
   "cell_type": "code",
   "execution_count": 21,
   "metadata": {},
   "outputs": [
    {
     "name": "stdout",
     "output_type": "stream",
     "text": [
      "tstat 1.556\n",
      "p-value for one-tail: 0.06528776980668831\n"
     ]
    }
   ],
   "source": [
    "# Ho:\tNew scheme output =Old scheme output\n",
    "# H1:\tNew scheme has raised outputs\n",
    "\n",
    "t_statistic, p_value  = ttest_rel(mydata['New Scheme'],mydata['Old Scheme'])\n",
    "print('tstat %1.3f'% t_statistic)\n",
    "print(\"p-value for one-tail:\", p_value/2)\n",
    "# How to determine check b/w alpha & p-value to conclude if Ho is accepted or not"
   ]
  },
  {
   "cell_type": "markdown",
   "metadata": {
    "colab_type": "text",
    "id": "iYxzVrw4vFwI"
   },
   "source": [
    "- The level of significance (Alpha ) = 0.05.\n",
    "\n",
    "- But since the population standard deviation (Sigma) is unknown, we have to use a Tstat test.\n",
    "\n",
    "- Degree of Freedom: Since the sample is the same for both Sampling tests, we have N-1 degrees of freedom : 29\n",
    "\n",
    "- Since the sole purpose of the test is to check whether the New scheme is successful compared to old scheme, we would prefer a One-sided T-test."
   ]
  },
  {
   "cell_type": "code",
   "execution_count": 24,
   "metadata": {},
   "outputs": [
    {
     "name": "stdout",
     "output_type": "stream",
     "text": [
      "We do not have enough evidence to reject the null hypothesis in favour of alternative hypothesis\n"
     ]
    }
   ],
   "source": [
    "alpha_level = 0.05\n",
    "if (p_value/2) < alpha_level:\n",
    "    print('We have enough evidence to reject the null hypothesis in favour of alternative hypothesis')\n",
    "    \n",
    "else:\n",
    "    print('We do not have enough evidence to reject the null hypothesis in favour of alternative hypothesis')\n",
    "    "
   ]
  },
  {
   "cell_type": "markdown",
   "metadata": {
    "colab_type": "text",
    "id": "hsxPCQCzvFwP"
   },
   "source": [
    "# What conclusion does the test lead to?"
   ]
  },
  {
   "cell_type": "code",
   "execution_count": null,
   "metadata": {},
   "outputs": [],
   "source": []
  },
  {
   "cell_type": "markdown",
   "metadata": {
    "colab_type": "text",
    "id": "TktdiMZLvFwR"
   },
   "source": [
    "# What reservations have you about this result?"
   ]
  },
  {
   "cell_type": "code",
   "execution_count": null,
   "metadata": {},
   "outputs": [],
   "source": []
  },
  {
   "cell_type": "markdown",
   "metadata": {
    "colab_type": "text",
    "id": "XzREmUGgvFwT"
   },
   "source": [
    "# Suppose it has been calculated that in order for Titan to break even, the average output must increase by £5000. If this figure is alternative hypothesis, what is:"
   ]
  },
  {
   "cell_type": "markdown",
   "metadata": {
    "colab_type": "text",
    "id": "OPApZgSAvFwU"
   },
   "source": [
    "- The probability of a type 1 error?\n",
    "- The probability of a type 2 error?\n",
    "- The power of the test?"
   ]
  },
  {
   "cell_type": "code",
   "execution_count": null,
   "metadata": {},
   "outputs": [],
   "source": []
  },
  {
   "cell_type": "markdown",
   "metadata": {
    "colab_type": "text",
    "id": "w1MTXBpFN4Fd"
   },
   "source": [
    "## Finding Sample Standard Deviation for paired t-test"
   ]
  },
  {
   "cell_type": "code",
   "execution_count": 26,
   "metadata": {
    "ExecuteTime": {
     "end_time": "2020-04-24T08:51:34.558402Z",
     "start_time": "2020-04-24T08:51:34.550423Z"
    },
    "colab": {},
    "colab_type": "code",
    "id": "7ttCVPeyN4Ff"
   },
   "outputs": [
    {
     "data": {
      "text/plain": [
       "14.08104619937615"
      ]
     },
     "execution_count": 26,
     "metadata": {},
     "output_type": "execute_result"
    }
   ],
   "source": [
    "mydata['Diff']=mydata['Old Scheme']- mydata['New Scheme']\n",
    "mydata['Diff'].std()"
   ]
  },
  {
   "cell_type": "code",
   "execution_count": 27,
   "metadata": {},
   "outputs": [
    {
     "data": {
      "text/plain": [
       "14.08104619937615"
      ]
     },
     "execution_count": 27,
     "metadata": {},
     "output_type": "execute_result"
    }
   ],
   "source": [
    "np.std(mydata.Diff, ddof=1)"
   ]
  },
  {
   "cell_type": "markdown",
   "metadata": {
    "colab_type": "text",
    "id": "hUwoDazavFw4"
   },
   "source": [
    "# Probability of Type II Error ($\\beta$)"
   ]
  },
  {
   "cell_type": "code",
   "execution_count": 30,
   "metadata": {
    "ExecuteTime": {
     "end_time": "2020-04-24T08:52:00.417788Z",
     "start_time": "2020-04-24T08:52:00.406818Z"
    },
    "colab": {},
    "colab_type": "code",
    "id": "4vb4-vPzvFw5",
    "outputId": "0acd0d91-e5da-45b7-c2e3-a36743cb3c32"
   },
   "outputs": [
    {
     "data": {
      "text/plain": [
       "1.6991270265334977"
      ]
     },
     "execution_count": 30,
     "metadata": {},
     "output_type": "execute_result"
    }
   ],
   "source": [
    "# Tcritical at 5% confidence level with 29 Degree of Freedom: \n",
    "value = abs(stats.t.ppf(0.05,29))\n",
    "value"
   ]
  },
  {
   "cell_type": "markdown",
   "metadata": {
    "colab_type": "text",
    "id": "b1-HPqfXvFxA"
   },
   "source": [
    "# Power of the Test:\n",
    "    \n",
    "Power of the hypothesis test is 1 minus the probability of Type II error.\n",
    "Basically the power of a test is the probability that we make the right decision when the null is not correct (i.e. we correctly reject it)"
   ]
  },
  {
   "cell_type": "code",
   "execution_count": null,
   "metadata": {},
   "outputs": [],
   "source": []
  },
  {
   "cell_type": "markdown",
   "metadata": {
    "colab_type": "text",
    "id": "KmcdI-aMbS8D"
   },
   "source": [
    "# Extra Question"
   ]
  },
  {
   "cell_type": "markdown",
   "metadata": {
    "colab_type": "text",
    "id": "hp6oTiUsbS8F"
   },
   "source": [
    "# What sample size would make the probabilities of type 1 and type 2 errors equal?"
   ]
  },
  {
   "cell_type": "code",
   "execution_count": null,
   "metadata": {
    "ExecuteTime": {
     "end_time": "2020-04-24T08:54:10.634887Z",
     "start_time": "2020-04-24T08:54:10.621921Z"
    },
    "colab": {},
    "colab_type": "code",
    "id": "7uif9JACbS8J",
    "outputId": "f9cec436-fb33-47e7-b687-45ba00e195a9"
   },
   "outputs": [],
   "source": []
  },
  {
   "cell_type": "markdown",
   "metadata": {
    "colab_type": "text",
    "id": "TaV6F9MMN4GW"
   },
   "source": [
    "# Appendix\n",
    "\n",
    "## Procedure for carrying out a paired t-test\n",
    "    Suppose a sample of n students were given a diagnostic test before studying a particular\n",
    "    module and then again after completing the module. We want to find out if, in general,\n",
    "    our teaching leads to improvements in students’ knowledge/skills (i.e. test scores). We\n",
    "    can use the results from our sample of students to draw conclusions about the impact of\n",
    "    this module in general\n",
    "    \n",
    "   Let x = test score before the module, y = test score after the module\n",
    "   To test the null hypothesis that the true mean difference is zero, the procedure is as\n",
    "   follows:\n",
    "    1. Calculate the difference (di = yi − xi) between the two observations on each pair,\n",
    "    making sure you distinguish between positive and negative differences.\n",
    "    2. Calculate the mean difference, d.\n",
    "    3. Calculate the standard deviation of the differences, sd, and use this to calculate the\n",
    "    standard error of the mean difference, SE(d) = sd/√n\n",
    "    4. Calculate the t-statistic, which is given by T =d/SE(d), Under the null hypothesis, this statistic follows a t-distribution with n − 1 degrees of freedom.\n",
    "    5. Use tables of the t-distribution to compare your value for T to the tn-1 distribution.\n",
    "    This will give the p-value for the paired t-test."
   ]
  }
 ],
 "metadata": {
  "colab": {
   "collapsed_sections": [],
   "name": "Titan_casestudy.ipynb",
   "provenance": []
  },
  "kernelspec": {
   "display_name": "Python 3",
   "language": "python",
   "name": "python3"
  },
  "language_info": {
   "codemirror_mode": {
    "name": "ipython",
    "version": 3
   },
   "file_extension": ".py",
   "mimetype": "text/x-python",
   "name": "python",
   "nbconvert_exporter": "python",
   "pygments_lexer": "ipython3",
   "version": "3.8.8"
  },
  "toc": {
   "base_numbering": 1,
   "nav_menu": {},
   "number_sections": true,
   "sideBar": true,
   "skip_h1_title": false,
   "title_cell": "Table of Contents",
   "title_sidebar": "Contents",
   "toc_cell": false,
   "toc_position": {},
   "toc_section_display": true,
   "toc_window_display": false
  },
  "varInspector": {
   "cols": {
    "lenName": 16,
    "lenType": 16,
    "lenVar": 40
   },
   "kernels_config": {
    "python": {
     "delete_cmd_postfix": "",
     "delete_cmd_prefix": "del ",
     "library": "var_list.py",
     "varRefreshCmd": "print(var_dic_list())"
    },
    "r": {
     "delete_cmd_postfix": ") ",
     "delete_cmd_prefix": "rm(",
     "library": "var_list.r",
     "varRefreshCmd": "cat(var_dic_list()) "
    }
   },
   "types_to_exclude": [
    "module",
    "function",
    "builtin_function_or_method",
    "instance",
    "_Feature"
   ],
   "window_display": false
  }
 },
 "nbformat": 4,
 "nbformat_minor": 1
}
