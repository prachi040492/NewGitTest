{
 "cells": [
  {
   "cell_type": "code",
   "execution_count": 1,
   "metadata": {},
   "outputs": [],
   "source": [
    "import numpy as np\n"
   ]
  },
  {
   "cell_type": "code",
   "execution_count": 2,
   "metadata": {},
   "outputs": [
    {
     "data": {
      "text/plain": [
       "array([[0., 0., 0.],\n",
       "       [0., 0., 0.]])"
      ]
     },
     "execution_count": 2,
     "metadata": {},
     "output_type": "execute_result"
    }
   ],
   "source": [
    "n3=np.zeros((2,3))\n",
    "n3"
   ]
  },
  {
   "cell_type": "code",
   "execution_count": 3,
   "metadata": {},
   "outputs": [
    {
     "data": {
      "text/plain": [
       "array([[0., 0., 0., 0., 0., 0.],\n",
       "       [0., 0., 0., 0., 0., 0.],\n",
       "       [0., 0., 0., 0., 0., 0.],\n",
       "       [0., 0., 0., 0., 0., 0.],\n",
       "       [0., 0., 0., 0., 0., 0.],\n",
       "       [0., 0., 0., 0., 0., 0.]])"
      ]
     },
     "execution_count": 3,
     "metadata": {},
     "output_type": "execute_result"
    }
   ],
   "source": [
    "n4=np.zeros((6,6))\n",
    "n4"
   ]
  },
  {
   "cell_type": "code",
   "execution_count": 4,
   "metadata": {},
   "outputs": [
    {
     "data": {
      "text/plain": [
       "array([[8, 8, 8],\n",
       "       [8, 8, 8],\n",
       "       [8, 8, 8]])"
      ]
     },
     "execution_count": 4,
     "metadata": {},
     "output_type": "execute_result"
    }
   ],
   "source": [
    "n5 = np.full((3,3),(8))\n",
    "n5"
   ]
  },
  {
   "cell_type": "code",
   "execution_count": 5,
   "metadata": {},
   "outputs": [
    {
     "data": {
      "text/plain": [
       "array([[4, 4, 4, 4, 4, 4, 4, 4],\n",
       "       [4, 4, 4, 4, 4, 4, 4, 4],\n",
       "       [4, 4, 4, 4, 4, 4, 4, 4],\n",
       "       [4, 4, 4, 4, 4, 4, 4, 4],\n",
       "       [4, 4, 4, 4, 4, 4, 4, 4],\n",
       "       [4, 4, 4, 4, 4, 4, 4, 4]])"
      ]
     },
     "execution_count": 5,
     "metadata": {},
     "output_type": "execute_result"
    }
   ],
   "source": [
    "n6 = np.full((6,8),(4))\n",
    "n6\n"
   ]
  },
  {
   "cell_type": "code",
   "execution_count": 7,
   "metadata": {},
   "outputs": [
    {
     "data": {
      "text/plain": [
       "array([10, 11, 12, 13, 14, 15, 16, 17, 18, 19, 20, 21, 22, 23, 24, 25, 26,\n",
       "       27, 28, 29, 30, 31, 32, 33, 34, 35, 36, 37, 38, 39, 40, 41, 42, 43,\n",
       "       44, 45, 46, 47, 48])"
      ]
     },
     "execution_count": 7,
     "metadata": {},
     "output_type": "execute_result"
    }
   ],
   "source": [
    "n7 = np.arange(10,49)\n",
    "n7"
   ]
  },
  {
   "cell_type": "code",
   "execution_count": 8,
   "metadata": {},
   "outputs": [
    {
     "data": {
      "text/plain": [
       "array([ 3,  6,  9, 12, 15, 18, 21, 24, 27, 30, 33, 36, 39, 42, 45, 48, 51,\n",
       "       54, 57, 60, 63, 66, 69, 72, 75, 78, 81, 84, 87])"
      ]
     },
     "execution_count": 8,
     "metadata": {},
     "output_type": "execute_result"
    }
   ],
   "source": [
    "n8 = np.arange(3,90,3)\n",
    "n8"
   ]
  },
  {
   "cell_type": "code",
   "execution_count": 13,
   "metadata": {},
   "outputs": [
    {
     "data": {
      "text/plain": [
       "array([26, 37, 60, 19,  9, 21, 59, 46, 63, 59])"
      ]
     },
     "execution_count": 13,
     "metadata": {},
     "output_type": "execute_result"
    }
   ],
   "source": [
    "n9 = np.random.randint(4,68,10)\n",
    "n9"
   ]
  },
  {
   "cell_type": "code",
   "execution_count": 16,
   "metadata": {},
   "outputs": [
    {
     "data": {
      "text/plain": [
       "array([[7, 8],\n",
       "       [9, 2],\n",
       "       [3, 4]])"
      ]
     },
     "execution_count": 16,
     "metadata": {},
     "output_type": "execute_result"
    }
   ],
   "source": [
    "n10 = np.array([[7,8,9],[2,3,4]])\n",
    "n10.shape = (3,2)\n",
    "n10"
   ]
  },
  {
   "cell_type": "code",
   "execution_count": 7,
   "metadata": {
    "scrolled": true
   },
   "outputs": [
    {
     "data": {
      "text/html": [
       "<div>\n",
       "<style scoped>\n",
       "    .dataframe tbody tr th:only-of-type {\n",
       "        vertical-align: middle;\n",
       "    }\n",
       "\n",
       "    .dataframe tbody tr th {\n",
       "        vertical-align: top;\n",
       "    }\n",
       "\n",
       "    .dataframe thead th {\n",
       "        text-align: right;\n",
       "    }\n",
       "</style>\n",
       "<table border=\"1\" class=\"dataframe\">\n",
       "  <thead>\n",
       "    <tr style=\"text-align: right;\">\n",
       "      <th></th>\n",
       "      <th>S.No</th>\n",
       "      <th>Country</th>\n",
       "      <th>Population</th>\n",
       "      <th>Yearly_Change</th>\n",
       "      <th>Land_Area</th>\n",
       "      <th>Population_Density</th>\n",
       "      <th>Migrants_Net</th>\n",
       "      <th>Median_Age</th>\n",
       "      <th>Urban_Population</th>\n",
       "      <th>World_Share_in_Population</th>\n",
       "      <th>GDP</th>\n",
       "      <th>GDP_per_Capita</th>\n",
       "      <th>Share_of_World_GDP</th>\n",
       "      <th>Status</th>\n",
       "    </tr>\n",
       "  </thead>\n",
       "  <tbody>\n",
       "    <tr>\n",
       "      <th>0</th>\n",
       "      <td>1</td>\n",
       "      <td>China</td>\n",
       "      <td>1421021791</td>\n",
       "      <td>0.39</td>\n",
       "      <td>9388211</td>\n",
       "      <td>151.362362</td>\n",
       "      <td>-348399</td>\n",
       "      <td>38</td>\n",
       "      <td>61.0</td>\n",
       "      <td>18.47</td>\n",
       "      <td>12238.000</td>\n",
       "      <td>8.612113</td>\n",
       "      <td>15.12</td>\n",
       "      <td>Developing</td>\n",
       "    </tr>\n",
       "    <tr>\n",
       "      <th>1</th>\n",
       "      <td>2</td>\n",
       "      <td>India</td>\n",
       "      <td>1338676785</td>\n",
       "      <td>0.99</td>\n",
       "      <td>2973190</td>\n",
       "      <td>450.249323</td>\n",
       "      <td>-532687</td>\n",
       "      <td>28</td>\n",
       "      <td>35.0</td>\n",
       "      <td>17.70</td>\n",
       "      <td>2651.000</td>\n",
       "      <td>1.980314</td>\n",
       "      <td>3.28</td>\n",
       "      <td>Developing</td>\n",
       "    </tr>\n",
       "    <tr>\n",
       "      <th>2</th>\n",
       "      <td>3</td>\n",
       "      <td>United States</td>\n",
       "      <td>325084756</td>\n",
       "      <td>0.59</td>\n",
       "      <td>9147420</td>\n",
       "      <td>35.538409</td>\n",
       "      <td>954806</td>\n",
       "      <td>38</td>\n",
       "      <td>83.0</td>\n",
       "      <td>4.25</td>\n",
       "      <td>19485.000</td>\n",
       "      <td>59.938215</td>\n",
       "      <td>24.08</td>\n",
       "      <td>Developed</td>\n",
       "    </tr>\n",
       "    <tr>\n",
       "      <th>3</th>\n",
       "      <td>4</td>\n",
       "      <td>Indonesia</td>\n",
       "      <td>264650963</td>\n",
       "      <td>1.07</td>\n",
       "      <td>1811570</td>\n",
       "      <td>146.089283</td>\n",
       "      <td>-98955</td>\n",
       "      <td>30</td>\n",
       "      <td>56.0</td>\n",
       "      <td>3.51</td>\n",
       "      <td>1015.000</td>\n",
       "      <td>3.835240</td>\n",
       "      <td>1.25</td>\n",
       "      <td>Developing</td>\n",
       "    </tr>\n",
       "    <tr>\n",
       "      <th>4</th>\n",
       "      <td>5</td>\n",
       "      <td>Pakistan</td>\n",
       "      <td>207906209</td>\n",
       "      <td>2.00</td>\n",
       "      <td>770880</td>\n",
       "      <td>269.699835</td>\n",
       "      <td>-233379</td>\n",
       "      <td>23</td>\n",
       "      <td>35.0</td>\n",
       "      <td>2.83</td>\n",
       "      <td>305.000</td>\n",
       "      <td>1.467008</td>\n",
       "      <td>0.38</td>\n",
       "      <td>Developing</td>\n",
       "    </tr>\n",
       "    <tr>\n",
       "      <th>...</th>\n",
       "      <td>...</td>\n",
       "      <td>...</td>\n",
       "      <td>...</td>\n",
       "      <td>...</td>\n",
       "      <td>...</td>\n",
       "      <td>...</td>\n",
       "      <td>...</td>\n",
       "      <td>...</td>\n",
       "      <td>...</td>\n",
       "      <td>...</td>\n",
       "      <td>...</td>\n",
       "      <td>...</td>\n",
       "      <td>...</td>\n",
       "      <td>...</td>\n",
       "    </tr>\n",
       "    <tr>\n",
       "      <th>167</th>\n",
       "      <td>181</td>\n",
       "      <td>Vanuatu</td>\n",
       "      <td>77001</td>\n",
       "      <td>2.42</td>\n",
       "      <td>12190</td>\n",
       "      <td>6.316735</td>\n",
       "      <td>120</td>\n",
       "      <td>21</td>\n",
       "      <td>24.0</td>\n",
       "      <td>0.00</td>\n",
       "      <td>0.863</td>\n",
       "      <td>11.207647</td>\n",
       "      <td>0.00</td>\n",
       "      <td>Developing</td>\n",
       "    </tr>\n",
       "    <tr>\n",
       "      <th>168</th>\n",
       "      <td>183</td>\n",
       "      <td>Barbados</td>\n",
       "      <td>58058</td>\n",
       "      <td>0.12</td>\n",
       "      <td>430</td>\n",
       "      <td>135.018605</td>\n",
       "      <td>-79</td>\n",
       "      <td>40</td>\n",
       "      <td>31.0</td>\n",
       "      <td>0.00</td>\n",
       "      <td>4.670</td>\n",
       "      <td>80.436805</td>\n",
       "      <td>0.01</td>\n",
       "      <td>Developing</td>\n",
       "    </tr>\n",
       "    <tr>\n",
       "      <th>169</th>\n",
       "      <td>187</td>\n",
       "      <td>Sao Tome &amp; Principe</td>\n",
       "      <td>33671</td>\n",
       "      <td>1.91</td>\n",
       "      <td>960</td>\n",
       "      <td>35.073958</td>\n",
       "      <td>-1680</td>\n",
       "      <td>19</td>\n",
       "      <td>74.0</td>\n",
       "      <td>0.00</td>\n",
       "      <td>0.393</td>\n",
       "      <td>11.671765</td>\n",
       "      <td>0.00</td>\n",
       "      <td>Developing</td>\n",
       "    </tr>\n",
       "    <tr>\n",
       "      <th>170</th>\n",
       "      <td>188</td>\n",
       "      <td>Samoa</td>\n",
       "      <td>17808</td>\n",
       "      <td>0.67</td>\n",
       "      <td>2830</td>\n",
       "      <td>6.292580</td>\n",
       "      <td>-2803</td>\n",
       "      <td>22</td>\n",
       "      <td>18.0</td>\n",
       "      <td>0.00</td>\n",
       "      <td>0.841</td>\n",
       "      <td>47.225966</td>\n",
       "      <td>0.00</td>\n",
       "      <td>Developing</td>\n",
       "    </tr>\n",
       "    <tr>\n",
       "      <th>171</th>\n",
       "      <td>189</td>\n",
       "      <td>Saint Lucia</td>\n",
       "      <td>11370</td>\n",
       "      <td>0.46</td>\n",
       "      <td>610</td>\n",
       "      <td>18.639344</td>\n",
       "      <td>0</td>\n",
       "      <td>34</td>\n",
       "      <td>19.0</td>\n",
       "      <td>0.00</td>\n",
       "      <td>1.740</td>\n",
       "      <td>153.034301</td>\n",
       "      <td>0.00</td>\n",
       "      <td>Developing</td>\n",
       "    </tr>\n",
       "  </tbody>\n",
       "</table>\n",
       "<p>172 rows × 14 columns</p>\n",
       "</div>"
      ],
      "text/plain": [
       "     S.No              Country  Population  Yearly_Change  Land_Area  \\\n",
       "0       1                China  1421021791           0.39    9388211   \n",
       "1       2                India  1338676785           0.99    2973190   \n",
       "2       3        United States   325084756           0.59    9147420   \n",
       "3       4            Indonesia   264650963           1.07    1811570   \n",
       "4       5             Pakistan   207906209           2.00     770880   \n",
       "..    ...                  ...         ...            ...        ...   \n",
       "167   181              Vanuatu       77001           2.42      12190   \n",
       "168   183             Barbados       58058           0.12        430   \n",
       "169   187  Sao Tome & Principe       33671           1.91        960   \n",
       "170   188                Samoa       17808           0.67       2830   \n",
       "171   189          Saint Lucia       11370           0.46        610   \n",
       "\n",
       "     Population_Density  Migrants_Net  Median_Age  Urban_Population  \\\n",
       "0            151.362362       -348399          38              61.0   \n",
       "1            450.249323       -532687          28              35.0   \n",
       "2             35.538409        954806          38              83.0   \n",
       "3            146.089283        -98955          30              56.0   \n",
       "4            269.699835       -233379          23              35.0   \n",
       "..                  ...           ...         ...               ...   \n",
       "167            6.316735           120          21              24.0   \n",
       "168          135.018605           -79          40              31.0   \n",
       "169           35.073958         -1680          19              74.0   \n",
       "170            6.292580         -2803          22              18.0   \n",
       "171           18.639344             0          34              19.0   \n",
       "\n",
       "     World_Share_in_Population        GDP  GDP_per_Capita  Share_of_World_GDP  \\\n",
       "0                        18.47  12238.000        8.612113               15.12   \n",
       "1                        17.70   2651.000        1.980314                3.28   \n",
       "2                         4.25  19485.000       59.938215               24.08   \n",
       "3                         3.51   1015.000        3.835240                1.25   \n",
       "4                         2.83    305.000        1.467008                0.38   \n",
       "..                         ...        ...             ...                 ...   \n",
       "167                       0.00      0.863       11.207647                0.00   \n",
       "168                       0.00      4.670       80.436805                0.01   \n",
       "169                       0.00      0.393       11.671765                0.00   \n",
       "170                       0.00      0.841       47.225966                0.00   \n",
       "171                       0.00      1.740      153.034301                0.00   \n",
       "\n",
       "         Status  \n",
       "0    Developing  \n",
       "1    Developing  \n",
       "2     Developed  \n",
       "3    Developing  \n",
       "4    Developing  \n",
       "..          ...  \n",
       "167  Developing  \n",
       "168  Developing  \n",
       "169  Developing  \n",
       "170  Developing  \n",
       "171  Developing  \n",
       "\n",
       "[172 rows x 14 columns]"
      ]
     },
     "execution_count": 7,
     "metadata": {},
     "output_type": "execute_result"
    }
   ],
   "source": [
    "import pandas as pd\n",
    "dataset= pd.read_excel('GDP_Dataset.xlsx')\n",
    "dataset"
   ]
  },
  {
   "cell_type": "code",
   "execution_count": 22,
   "metadata": {},
   "outputs": [
    {
     "data": {
      "text/plain": [
       "S.No                         172\n",
       "Country                      172\n",
       "Population                   172\n",
       "Yearly_Change                172\n",
       "Land_Area                    172\n",
       "Population_Density           172\n",
       "Migrants_Net                 172\n",
       "Median_Age                   172\n",
       "Urban_Population             168\n",
       "World_Share_in_Population    172\n",
       "GDP                          172\n",
       "GDP_per_Capita               172\n",
       "Share_of_World_GDP           172\n",
       "Status                       172\n",
       "dtype: int64"
      ]
     },
     "execution_count": 22,
     "metadata": {},
     "output_type": "execute_result"
    }
   ],
   "source": [
    "dataset.shape[1] #total no of columns\n",
    "dataset.info\n",
    "col = dataset.columns\n",
    "col\n",
    "dsList = list(dataset)\n",
    "dsList\n",
    "dataset.count()"
   ]
  },
  {
   "cell_type": "code",
   "execution_count": 30,
   "metadata": {},
   "outputs": [
    {
     "data": {
      "text/html": [
       "<div>\n",
       "<style scoped>\n",
       "    .dataframe tbody tr th:only-of-type {\n",
       "        vertical-align: middle;\n",
       "    }\n",
       "\n",
       "    .dataframe tbody tr th {\n",
       "        vertical-align: top;\n",
       "    }\n",
       "\n",
       "    .dataframe thead tr th {\n",
       "        text-align: left;\n",
       "    }\n",
       "\n",
       "    .dataframe thead tr:last-of-type th {\n",
       "        text-align: right;\n",
       "    }\n",
       "</style>\n",
       "<table border=\"1\" class=\"dataframe\">\n",
       "  <thead>\n",
       "    <tr>\n",
       "      <th></th>\n",
       "      <th colspan=\"8\" halign=\"left\">S.No</th>\n",
       "      <th colspan=\"2\" halign=\"left\">Population</th>\n",
       "      <th>...</th>\n",
       "      <th colspan=\"2\" halign=\"left\">GDP_per_Capita</th>\n",
       "      <th colspan=\"8\" halign=\"left\">Share_of_World_GDP</th>\n",
       "    </tr>\n",
       "    <tr>\n",
       "      <th></th>\n",
       "      <th>count</th>\n",
       "      <th>mean</th>\n",
       "      <th>std</th>\n",
       "      <th>min</th>\n",
       "      <th>25%</th>\n",
       "      <th>50%</th>\n",
       "      <th>75%</th>\n",
       "      <th>max</th>\n",
       "      <th>count</th>\n",
       "      <th>mean</th>\n",
       "      <th>...</th>\n",
       "      <th>75%</th>\n",
       "      <th>max</th>\n",
       "      <th>count</th>\n",
       "      <th>mean</th>\n",
       "      <th>std</th>\n",
       "      <th>min</th>\n",
       "      <th>25%</th>\n",
       "      <th>50%</th>\n",
       "      <th>75%</th>\n",
       "      <th>max</th>\n",
       "    </tr>\n",
       "    <tr>\n",
       "      <th>Status</th>\n",
       "      <th></th>\n",
       "      <th></th>\n",
       "      <th></th>\n",
       "      <th></th>\n",
       "      <th></th>\n",
       "      <th></th>\n",
       "      <th></th>\n",
       "      <th></th>\n",
       "      <th></th>\n",
       "      <th></th>\n",
       "      <th></th>\n",
       "      <th></th>\n",
       "      <th></th>\n",
       "      <th></th>\n",
       "      <th></th>\n",
       "      <th></th>\n",
       "      <th></th>\n",
       "      <th></th>\n",
       "      <th></th>\n",
       "      <th></th>\n",
       "      <th></th>\n",
       "    </tr>\n",
       "  </thead>\n",
       "  <tbody>\n",
       "    <tr>\n",
       "      <th>Developed</th>\n",
       "      <td>34.0</td>\n",
       "      <td>92.676471</td>\n",
       "      <td>52.097066</td>\n",
       "      <td>3.0</td>\n",
       "      <td>43.00</td>\n",
       "      <td>95.5</td>\n",
       "      <td>125.50</td>\n",
       "      <td>180.0</td>\n",
       "      <td>34.0</td>\n",
       "      <td>2.914449e+07</td>\n",
       "      <td>...</td>\n",
       "      <td>60.513086</td>\n",
       "      <td>256.638652</td>\n",
       "      <td>34.0</td>\n",
       "      <td>1.638824</td>\n",
       "      <td>4.209974</td>\n",
       "      <td>0.02</td>\n",
       "      <td>0.09</td>\n",
       "      <td>0.360</td>\n",
       "      <td>1.4250</td>\n",
       "      <td>24.08</td>\n",
       "    </tr>\n",
       "    <tr>\n",
       "      <th>Developing</th>\n",
       "      <td>138.0</td>\n",
       "      <td>91.014493</td>\n",
       "      <td>54.086844</td>\n",
       "      <td>1.0</td>\n",
       "      <td>44.25</td>\n",
       "      <td>91.0</td>\n",
       "      <td>136.75</td>\n",
       "      <td>189.0</td>\n",
       "      <td>138.0</td>\n",
       "      <td>4.575749e+07</td>\n",
       "      <td>...</td>\n",
       "      <td>10.773471</td>\n",
       "      <td>153.034301</td>\n",
       "      <td>138.0</td>\n",
       "      <td>0.308841</td>\n",
       "      <td>1.352005</td>\n",
       "      <td>0.00</td>\n",
       "      <td>0.01</td>\n",
       "      <td>0.035</td>\n",
       "      <td>0.1475</td>\n",
       "      <td>15.12</td>\n",
       "    </tr>\n",
       "  </tbody>\n",
       "</table>\n",
       "<p>2 rows × 96 columns</p>\n",
       "</div>"
      ],
      "text/plain": [
       "             S.No                                                         \\\n",
       "            count       mean        std  min    25%   50%     75%    max   \n",
       "Status                                                                     \n",
       "Developed    34.0  92.676471  52.097066  3.0  43.00  95.5  125.50  180.0   \n",
       "Developing  138.0  91.014493  54.086844  1.0  44.25  91.0  136.75  189.0   \n",
       "\n",
       "           Population                ... GDP_per_Capita              \\\n",
       "                count          mean  ...            75%         max   \n",
       "Status                               ...                              \n",
       "Developed        34.0  2.914449e+07  ...      60.513086  256.638652   \n",
       "Developing      138.0  4.575749e+07  ...      10.773471  153.034301   \n",
       "\n",
       "           Share_of_World_GDP                                                 \\\n",
       "                        count      mean       std   min   25%    50%     75%   \n",
       "Status                                                                         \n",
       "Developed                34.0  1.638824  4.209974  0.02  0.09  0.360  1.4250   \n",
       "Developing              138.0  0.308841  1.352005  0.00  0.01  0.035  0.1475   \n",
       "\n",
       "                   \n",
       "              max  \n",
       "Status             \n",
       "Developed   24.08  \n",
       "Developing  15.12  \n",
       "\n",
       "[2 rows x 96 columns]"
      ]
     },
     "execution_count": 30,
     "metadata": {},
     "output_type": "execute_result"
    }
   ],
   "source": [
    "dsGroupedData = dataset.groupby(by='Status')\n",
    "dsGroupedData.describe()"
   ]
  },
  {
   "cell_type": "code",
   "execution_count": 31,
   "metadata": {},
   "outputs": [
    {
     "data": {
      "text/html": [
       "<div>\n",
       "<style scoped>\n",
       "    .dataframe tbody tr th:only-of-type {\n",
       "        vertical-align: middle;\n",
       "    }\n",
       "\n",
       "    .dataframe tbody tr th {\n",
       "        vertical-align: top;\n",
       "    }\n",
       "\n",
       "    .dataframe thead th {\n",
       "        text-align: right;\n",
       "    }\n",
       "</style>\n",
       "<table border=\"1\" class=\"dataframe\">\n",
       "  <thead>\n",
       "    <tr style=\"text-align: right;\">\n",
       "      <th></th>\n",
       "      <th>S.No</th>\n",
       "      <th>Population</th>\n",
       "      <th>Yearly_Change</th>\n",
       "      <th>Land_Area</th>\n",
       "      <th>Population_Density</th>\n",
       "      <th>Migrants_Net</th>\n",
       "      <th>Median_Age</th>\n",
       "      <th>Urban_Population</th>\n",
       "      <th>World_Share_in_Population</th>\n",
       "      <th>GDP</th>\n",
       "      <th>GDP_per_Capita</th>\n",
       "      <th>Share_of_World_GDP</th>\n",
       "    </tr>\n",
       "  </thead>\n",
       "  <tbody>\n",
       "    <tr>\n",
       "      <th>count</th>\n",
       "      <td>172.000000</td>\n",
       "      <td>1.720000e+02</td>\n",
       "      <td>172.000000</td>\n",
       "      <td>1.720000e+02</td>\n",
       "      <td>172.000000</td>\n",
       "      <td>172.000000</td>\n",
       "      <td>172.000000</td>\n",
       "      <td>168.000000</td>\n",
       "      <td>172.000000</td>\n",
       "      <td>172.000000</td>\n",
       "      <td>172.000000</td>\n",
       "      <td>172.000000</td>\n",
       "    </tr>\n",
       "    <tr>\n",
       "      <th>mean</th>\n",
       "      <td>91.343023</td>\n",
       "      <td>4.247352e+07</td>\n",
       "      <td>1.252558</td>\n",
       "      <td>7.365638e+05</td>\n",
       "      <td>256.511581</td>\n",
       "      <td>8183.203488</td>\n",
       "      <td>30.366279</td>\n",
       "      <td>59.119048</td>\n",
       "      <td>0.571453</td>\n",
       "      <td>462.496203</td>\n",
       "      <td>21.722370</td>\n",
       "      <td>0.571744</td>\n",
       "    </tr>\n",
       "    <tr>\n",
       "      <th>std</th>\n",
       "      <td>53.553207</td>\n",
       "      <td>1.532222e+08</td>\n",
       "      <td>1.084430</td>\n",
       "      <td>1.939793e+06</td>\n",
       "      <td>1100.876812</td>\n",
       "      <td>117854.957213</td>\n",
       "      <td>9.187432</td>\n",
       "      <td>22.014913</td>\n",
       "      <td>2.007700</td>\n",
       "      <td>1839.549604</td>\n",
       "      <td>36.585698</td>\n",
       "      <td>2.273114</td>\n",
       "    </tr>\n",
       "    <tr>\n",
       "      <th>min</th>\n",
       "      <td>1.000000</td>\n",
       "      <td>1.137000e+04</td>\n",
       "      <td>-1.350000</td>\n",
       "      <td>3.000000e+01</td>\n",
       "      <td>0.951880</td>\n",
       "      <td>-532687.000000</td>\n",
       "      <td>15.000000</td>\n",
       "      <td>13.000000</td>\n",
       "      <td>0.000000</td>\n",
       "      <td>0.393000</td>\n",
       "      <td>0.292786</td>\n",
       "      <td>0.000000</td>\n",
       "    </tr>\n",
       "    <tr>\n",
       "      <th>25%</th>\n",
       "      <td>43.750000</td>\n",
       "      <td>2.211687e+06</td>\n",
       "      <td>0.435000</td>\n",
       "      <td>3.034000e+04</td>\n",
       "      <td>22.706984</td>\n",
       "      <td>-10755.250000</td>\n",
       "      <td>22.000000</td>\n",
       "      <td>43.000000</td>\n",
       "      <td>0.040000</td>\n",
       "      <td>12.257500</td>\n",
       "      <td>2.054639</td>\n",
       "      <td>0.020000</td>\n",
       "    </tr>\n",
       "    <tr>\n",
       "      <th>50%</th>\n",
       "      <td>92.500000</td>\n",
       "      <td>8.637852e+06</td>\n",
       "      <td>1.155000</td>\n",
       "      <td>1.556800e+05</td>\n",
       "      <td>64.974567</td>\n",
       "      <td>-1364.500000</td>\n",
       "      <td>30.000000</td>\n",
       "      <td>59.000000</td>\n",
       "      <td>0.130000</td>\n",
       "      <td>41.090000</td>\n",
       "      <td>7.160957</td>\n",
       "      <td>0.050000</td>\n",
       "    </tr>\n",
       "    <tr>\n",
       "      <th>75%</th>\n",
       "      <td>136.250000</td>\n",
       "      <td>3.118956e+07</td>\n",
       "      <td>2.085000</td>\n",
       "      <td>5.673325e+05</td>\n",
       "      <td>135.131229</td>\n",
       "      <td>12298.250000</td>\n",
       "      <td>39.000000</td>\n",
       "      <td>78.000000</td>\n",
       "      <td>0.420000</td>\n",
       "      <td>238.750000</td>\n",
       "      <td>23.511084</td>\n",
       "      <td>0.295000</td>\n",
       "    </tr>\n",
       "    <tr>\n",
       "      <th>max</th>\n",
       "      <td>189.000000</td>\n",
       "      <td>1.421022e+09</td>\n",
       "      <td>3.840000</td>\n",
       "      <td>1.637687e+07</td>\n",
       "      <td>11146.433333</td>\n",
       "      <td>954806.000000</td>\n",
       "      <td>48.000000</td>\n",
       "      <td>98.000000</td>\n",
       "      <td>18.470000</td>\n",
       "      <td>19485.000000</td>\n",
       "      <td>256.638652</td>\n",
       "      <td>24.080000</td>\n",
       "    </tr>\n",
       "  </tbody>\n",
       "</table>\n",
       "</div>"
      ],
      "text/plain": [
       "             S.No    Population  Yearly_Change     Land_Area  \\\n",
       "count  172.000000  1.720000e+02     172.000000  1.720000e+02   \n",
       "mean    91.343023  4.247352e+07       1.252558  7.365638e+05   \n",
       "std     53.553207  1.532222e+08       1.084430  1.939793e+06   \n",
       "min      1.000000  1.137000e+04      -1.350000  3.000000e+01   \n",
       "25%     43.750000  2.211687e+06       0.435000  3.034000e+04   \n",
       "50%     92.500000  8.637852e+06       1.155000  1.556800e+05   \n",
       "75%    136.250000  3.118956e+07       2.085000  5.673325e+05   \n",
       "max    189.000000  1.421022e+09       3.840000  1.637687e+07   \n",
       "\n",
       "       Population_Density   Migrants_Net  Median_Age  Urban_Population  \\\n",
       "count          172.000000     172.000000  172.000000        168.000000   \n",
       "mean           256.511581    8183.203488   30.366279         59.119048   \n",
       "std           1100.876812  117854.957213    9.187432         22.014913   \n",
       "min              0.951880 -532687.000000   15.000000         13.000000   \n",
       "25%             22.706984  -10755.250000   22.000000         43.000000   \n",
       "50%             64.974567   -1364.500000   30.000000         59.000000   \n",
       "75%            135.131229   12298.250000   39.000000         78.000000   \n",
       "max          11146.433333  954806.000000   48.000000         98.000000   \n",
       "\n",
       "       World_Share_in_Population           GDP  GDP_per_Capita  \\\n",
       "count                 172.000000    172.000000      172.000000   \n",
       "mean                    0.571453    462.496203       21.722370   \n",
       "std                     2.007700   1839.549604       36.585698   \n",
       "min                     0.000000      0.393000        0.292786   \n",
       "25%                     0.040000     12.257500        2.054639   \n",
       "50%                     0.130000     41.090000        7.160957   \n",
       "75%                     0.420000    238.750000       23.511084   \n",
       "max                    18.470000  19485.000000      256.638652   \n",
       "\n",
       "       Share_of_World_GDP  \n",
       "count          172.000000  \n",
       "mean             0.571744  \n",
       "std              2.273114  \n",
       "min              0.000000  \n",
       "25%              0.020000  \n",
       "50%              0.050000  \n",
       "75%              0.295000  \n",
       "max             24.080000  "
      ]
     },
     "execution_count": 31,
     "metadata": {},
     "output_type": "execute_result"
    }
   ],
   "source": [
    "dataset.describe()"
   ]
  },
  {
   "cell_type": "code",
   "execution_count": 39,
   "metadata": {},
   "outputs": [
    {
     "name": "stdout",
     "output_type": "stream",
     "text": [
      "7305446192\n"
     ]
    }
   ],
   "source": [
    "# dsDataPop = dataset.groupby(by='Population')\n",
    "sum = dataset['Population'].sum()\n",
    "print(sum)"
   ]
  },
  {
   "cell_type": "code",
   "execution_count": 43,
   "metadata": {},
   "outputs": [
    {
     "name": "stdout",
     "output_type": "stream",
     "text": [
      "48\n"
     ]
    }
   ],
   "source": [
    "maxMage = dataset['Median_Age'].max()\n",
    "print(maxMage) #How to find country corresponding to this max number value: Ans: Japan"
   ]
  },
  {
   "cell_type": "code",
   "execution_count": 49,
   "metadata": {},
   "outputs": [
    {
     "data": {
      "text/plain": [
       "0      61.0\n",
       "1      35.0\n",
       "2      83.0\n",
       "3      56.0\n",
       "4      35.0\n",
       "       ... \n",
       "167    24.0\n",
       "168    31.0\n",
       "169    74.0\n",
       "170    18.0\n",
       "171    19.0\n",
       "Name: Urban_Population, Length: 172, dtype: float64"
      ]
     },
     "execution_count": 49,
     "metadata": {},
     "output_type": "execute_result"
    }
   ],
   "source": [
    "PerPop90 = sum*0.9\n",
    "num = dataset['Urban_Population']\n",
    "num #For how many countries' urban population is more than 90% of the total population.\n",
    "# CntryCnt = dataset.loc[num]>PerPop90"
   ]
  },
  {
   "cell_type": "code",
   "execution_count": 51,
   "metadata": {},
   "outputs": [
    {
     "data": {
      "text/plain": [
       "count      172.000000\n",
       "mean       256.511581\n",
       "std       1100.876812\n",
       "min          0.951880\n",
       "25%         22.706984\n",
       "50%         64.974567\n",
       "75%        135.131229\n",
       "max      11146.433333\n",
       "Name: Population_Density, dtype: float64"
      ]
     },
     "execution_count": 51,
     "metadata": {},
     "output_type": "execute_result"
    }
   ],
   "source": [
    "pdList = dataset['Population_Density'].describe()\n",
    "pdList #Which are the top 3 countries in terms of High Population Density?"
   ]
  },
  {
   "cell_type": "code",
   "execution_count": 57,
   "metadata": {},
   "outputs": [
    {
     "name": "stdout",
     "output_type": "stream",
     "text": [
      "      GDP\n",
      "1  2651.0\n"
     ]
    },
    {
     "data": {
      "text/plain": [
       "0      12238.000\n",
       "1       2651.000\n",
       "2      19485.000\n",
       "3       1015.000\n",
       "4        305.000\n",
       "         ...    \n",
       "167        0.863\n",
       "168        4.670\n",
       "169        0.393\n",
       "170        0.841\n",
       "171        1.740\n",
       "Name: GDP, Length: 172, dtype: float64"
      ]
     },
     "execution_count": 57,
     "metadata": {},
     "output_type": "execute_result"
    }
   ],
   "source": [
    "# how many countries have a GDP greater than the GDP of India?\n",
    "GdpIndia= print(dataset.loc[[1],['GDP']])\n",
    "dataset['GDP']"
   ]
  },
  {
   "cell_type": "code",
   "execution_count": 58,
   "metadata": {},
   "outputs": [
    {
     "ename": "SyntaxError",
     "evalue": "invalid syntax (<ipython-input-58-0b8b2af33632>, line 3)",
     "output_type": "error",
     "traceback": [
      "\u001b[1;36m  File \u001b[1;32m\"<ipython-input-58-0b8b2af33632>\"\u001b[1;36m, line \u001b[1;32m3\u001b[0m\n\u001b[1;33m    if(dataset['GDP']>GdpIndia)\u001b[0m\n\u001b[1;37m                               ^\u001b[0m\n\u001b[1;31mSyntaxError\u001b[0m\u001b[1;31m:\u001b[0m invalid syntax\n"
     ]
    }
   ],
   "source": [
    "c=0\n",
    "def countryCount(GdpIndia):\n",
    "    if(dataset['GDP']>GdpIndia)\n",
    "    c=c+1\n",
    "    return c\n",
    "\n",
    "print(countryCount(GdpIndia))"
   ]
  },
  {
   "cell_type": "code",
   "execution_count": 59,
   "metadata": {},
   "outputs": [],
   "source": [
    "# GDP per capita of the country which has a population greater than 10 crores and GDP equal to $250 Billion?\n",
    "def calGdpPerCapita():\n",
    "    if(dataset['Population']>100000000 and dataset['GDP']=250000000000)"
   ]
  },
  {
   "cell_type": "code",
   "execution_count": null,
   "metadata": {},
   "outputs": [],
   "source": []
  },
  {
   "cell_type": "code",
   "execution_count": null,
   "metadata": {},
   "outputs": [],
   "source": []
  },
  {
   "cell_type": "code",
   "execution_count": null,
   "metadata": {},
   "outputs": [],
   "source": []
  },
  {
   "cell_type": "code",
   "execution_count": null,
   "metadata": {},
   "outputs": [],
   "source": []
  }
 ],
 "metadata": {
  "kernelspec": {
   "display_name": "Python 3",
   "language": "python",
   "name": "python3"
  },
  "language_info": {
   "codemirror_mode": {
    "name": "ipython",
    "version": 3
   },
   "file_extension": ".py",
   "mimetype": "text/x-python",
   "name": "python",
   "nbconvert_exporter": "python",
   "pygments_lexer": "ipython3",
   "version": "3.8.5"
  }
 },
 "nbformat": 4,
 "nbformat_minor": 4
}
