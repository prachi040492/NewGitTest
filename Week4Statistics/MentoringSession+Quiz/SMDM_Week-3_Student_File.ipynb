{
 "cells": [
  {
   "cell_type": "code",
   "execution_count": 1,
   "metadata": {
    "ExecuteTime": {
     "end_time": "2020-04-24T08:50:41.511617Z",
     "start_time": "2020-04-24T08:50:41.459755Z"
    },
    "colab": {},
    "colab_type": "code",
    "id": "RRIlDGgevFvW"
   },
   "outputs": [],
   "source": [
    "import numpy as np\n",
    "import pandas as pd\n",
    "from scipy.stats import f\n",
    "import matplotlib.pyplot as plt \n",
    "%matplotlib inline\n",
    "import math\n",
    "import scipy.stats as stats\n",
    "import seaborn as sns\n",
    "import scipy.stats as stats\n",
    "from scipy.stats import ttest_1samp, ttest_ind\n",
    "from statsmodels.stats.power import ttest_power"
   ]
  },
  {
   "cell_type": "markdown",
   "metadata": {
    "colab_type": "text",
    "id": "2eaGa3pwcdVd"
   },
   "source": [
    "Q1. Tom is working in a credit card processing company as a team leader. His team is responsible to validate certain data for new credit card applications. The time spent by his team on an application is normally distributed with average 300 minutes and standard deviation 40 minutes.Tom and his team worked on process improvement to reduce the time spent in processing new applications. After implementing the improvements, Tom checked the time spent by his team on randomly selected 25 new card applications. The average time spent is 290 min. Tom is happy that, though it is a small improvement, it is a step in right direction. He shares the good news with his manager Lisa. But Lisa in not convinced about the improvement. At 95% confidence, is the processes really improved?"
   ]
  },
  {
   "cell_type": "markdown",
   "metadata": {
    "colab_type": "text",
    "id": "7Ng9MIdXckgW"
   },
   "source": [
    "Step 1: Given: n = 25, x¯¯ = 290, σ = 40, μ = 300\n",
    "\n",
    "• Step 2: Let us formulate the hypothesis. H0 (null hypothesis): μ (population mean) = Sample Mean = 300\n",
    "\n",
    "H1 (alternate hypothesis): Sample Mean < μ (population mean) i.e. < 300\n",
    "\n",
    "[this is an example of a one-tailed test]\n",
    "\n",
    "• Step 3: Define the test statistic based on the information in the question. Here, we are going to use the Zstat .\n",
    "\n",
    "Let us calculate the value of the test statistic."
   ]
  },
  {
   "cell_type": "markdown",
   "metadata": {
    "colab_type": "text",
    "id": "e67-MjfJeRGj"
   },
   "source": [
    "From the value of the Zstat , we understand that this is a lower tailed-test.\n",
    "\n",
    "• Step 4.1: Let us check the critical value with respect to α for the test statistic."
   ]
  },
  {
   "cell_type": "code",
   "execution_count": 8,
   "metadata": {},
   "outputs": [
    {
     "data": {
      "text/plain": [
       "-1.25"
      ]
     },
     "execution_count": 8,
     "metadata": {},
     "output_type": "execute_result"
    }
   ],
   "source": [
    "Zstat = (290-300)*np.sqrt(25)/40\n",
    "Zstat"
   ]
  },
  {
   "cell_type": "code",
   "execution_count": 9,
   "metadata": {},
   "outputs": [
    {
     "data": {
      "text/plain": [
       "-1.6448536269514729"
      ]
     },
     "execution_count": 9,
     "metadata": {},
     "output_type": "execute_result"
    }
   ],
   "source": [
    "Zcrit = stats.norm.ppf(0.05)\n",
    "Zcrit"
   ]
  },
  {
   "cell_type": "markdown",
   "metadata": {
    "colab_type": "text",
    "id": "305dXXgFfJdN"
   },
   "source": [
    "• Step 4.2: Let us calculate the p-value and compare it with α ."
   ]
  },
  {
   "cell_type": "code",
   "execution_count": 54,
   "metadata": {},
   "outputs": [
    {
     "data": {
      "text/plain": [
       "0.10564977366685535"
      ]
     },
     "execution_count": 54,
     "metadata": {},
     "output_type": "execute_result"
    }
   ],
   "source": [
    "p_val = stats.norm.sf(abs(Zstat))\n",
    "p_val"
   ]
  },
  {
   "cell_type": "code",
   "execution_count": 55,
   "metadata": {},
   "outputs": [
    {
     "data": {
      "text/plain": [
       "0.10564977366685535"
      ]
     },
     "execution_count": 55,
     "metadata": {},
     "output_type": "execute_result"
    }
   ],
   "source": [
    "stats.norm.cdf(Zstat)"
   ]
  },
  {
   "cell_type": "code",
   "execution_count": 13,
   "metadata": {},
   "outputs": [
    {
     "data": {
      "text/plain": [
       "0.10564977366685535"
      ]
     },
     "execution_count": 13,
     "metadata": {},
     "output_type": "execute_result"
    }
   ],
   "source": [
    "p_val = 1- stats.norm.cdf(abs(Zstat))\n",
    "p_val"
   ]
  },
  {
   "cell_type": "markdown",
   "metadata": {
    "colab_type": "text",
    "id": "oeaMRyJufPrL"
   },
   "source": [
    "We see that the p-value > α . Thus, it is confirmed we are failing to reject the the null hypothesis.\n",
    "\n",
    "With 95% confidence, we are able to accept the Null Hypothesis."
   ]
  },
  {
   "cell_type": "markdown",
   "metadata": {},
   "source": [
    "# Question 2"
   ]
  },
  {
   "cell_type": "markdown",
   "metadata": {},
   "source": [
    "Q2.The Titan Insurance Company has just installed a new incentive payment scheme for its life policy sales-force. It wants to have an early view of the success or failure of the new scheme. Indications are that the sales force is selling more policies but sales always vary in an unpredictable pattern from month to month and it is not clear that the scheme has made a significant difference. Life Insurance companies typically measure the monthly output of a salesperson as the total sum assured for the policies sold by that person during the month.\n",
    "\n",
    "Titan's new scheme is that the sales force receive low regular salaries but are paid large bonuses related to their output (i.e. to the total sum assured of policies sold by them). The scheme is expensive for the company but they are looking for sales increases to compensate for it. The scheme has now been in operation for four months. It has settled down after fluctuations in the first two months due to the changeover.\n",
    "\n",
    "To test the effectiveness of the scheme, Titan has taken a random sample of 30 salespeople measured their output in the penultimate month prior to changeover and then measured it in the fourth month after the changeover (they have deliberately chosen months not too close to the changeover)."
   ]
  },
  {
   "cell_type": "markdown",
   "metadata": {
    "colab_type": "text",
    "id": "JDeOKgrNvFvc"
   },
   "source": [
    "# Importing CSV "
   ]
  },
  {
   "cell_type": "code",
   "execution_count": 27,
   "metadata": {},
   "outputs": [
    {
     "data": {
      "text/html": [
       "<div>\n",
       "<style scoped>\n",
       "    .dataframe tbody tr th:only-of-type {\n",
       "        vertical-align: middle;\n",
       "    }\n",
       "\n",
       "    .dataframe tbody tr th {\n",
       "        vertical-align: top;\n",
       "    }\n",
       "\n",
       "    .dataframe thead th {\n",
       "        text-align: right;\n",
       "    }\n",
       "</style>\n",
       "<table border=\"1\" class=\"dataframe\">\n",
       "  <thead>\n",
       "    <tr style=\"text-align: right;\">\n",
       "      <th></th>\n",
       "      <th>Salesperson</th>\n",
       "      <th>Old Scheme</th>\n",
       "      <th>New Scheme</th>\n",
       "    </tr>\n",
       "  </thead>\n",
       "  <tbody>\n",
       "    <tr>\n",
       "      <th>0</th>\n",
       "      <td>1</td>\n",
       "      <td>57</td>\n",
       "      <td>62</td>\n",
       "    </tr>\n",
       "    <tr>\n",
       "      <th>1</th>\n",
       "      <td>2</td>\n",
       "      <td>103</td>\n",
       "      <td>122</td>\n",
       "    </tr>\n",
       "    <tr>\n",
       "      <th>2</th>\n",
       "      <td>3</td>\n",
       "      <td>59</td>\n",
       "      <td>54</td>\n",
       "    </tr>\n",
       "    <tr>\n",
       "      <th>3</th>\n",
       "      <td>4</td>\n",
       "      <td>75</td>\n",
       "      <td>82</td>\n",
       "    </tr>\n",
       "    <tr>\n",
       "      <th>4</th>\n",
       "      <td>5</td>\n",
       "      <td>84</td>\n",
       "      <td>84</td>\n",
       "    </tr>\n",
       "  </tbody>\n",
       "</table>\n",
       "</div>"
      ],
      "text/plain": [
       "   Salesperson  Old Scheme  New Scheme\n",
       "0            1          57          62\n",
       "1            2         103         122\n",
       "2            3          59          54\n",
       "3            4          75          82\n",
       "4            5          84          84"
      ]
     },
     "execution_count": 27,
     "metadata": {},
     "output_type": "execute_result"
    }
   ],
   "source": [
    "df = pd.read_csv('Titan Case Study-1.csv')\n",
    "df.head()"
   ]
  },
  {
   "cell_type": "markdown",
   "metadata": {
    "colab_type": "text",
    "id": "ttDV8aafvFvj"
   },
   "source": [
    "# Checking the top 5 rows"
   ]
  },
  {
   "cell_type": "markdown",
   "metadata": {
    "colab_type": "text",
    "id": "R985CGqTvFvr"
   },
   "source": [
    "# Checking Summary of data"
   ]
  },
  {
   "cell_type": "code",
   "execution_count": 28,
   "metadata": {},
   "outputs": [
    {
     "data": {
      "text/html": [
       "<div>\n",
       "<style scoped>\n",
       "    .dataframe tbody tr th:only-of-type {\n",
       "        vertical-align: middle;\n",
       "    }\n",
       "\n",
       "    .dataframe tbody tr th {\n",
       "        vertical-align: top;\n",
       "    }\n",
       "\n",
       "    .dataframe thead th {\n",
       "        text-align: right;\n",
       "    }\n",
       "</style>\n",
       "<table border=\"1\" class=\"dataframe\">\n",
       "  <thead>\n",
       "    <tr style=\"text-align: right;\">\n",
       "      <th></th>\n",
       "      <th>Salesperson</th>\n",
       "      <th>Old Scheme</th>\n",
       "      <th>New Scheme</th>\n",
       "    </tr>\n",
       "  </thead>\n",
       "  <tbody>\n",
       "    <tr>\n",
       "      <th>count</th>\n",
       "      <td>30.000000</td>\n",
       "      <td>30.000000</td>\n",
       "      <td>30.000000</td>\n",
       "    </tr>\n",
       "    <tr>\n",
       "      <th>mean</th>\n",
       "      <td>15.500000</td>\n",
       "      <td>68.033333</td>\n",
       "      <td>72.033333</td>\n",
       "    </tr>\n",
       "    <tr>\n",
       "      <th>std</th>\n",
       "      <td>8.803408</td>\n",
       "      <td>20.455980</td>\n",
       "      <td>24.062395</td>\n",
       "    </tr>\n",
       "    <tr>\n",
       "      <th>min</th>\n",
       "      <td>1.000000</td>\n",
       "      <td>28.000000</td>\n",
       "      <td>32.000000</td>\n",
       "    </tr>\n",
       "    <tr>\n",
       "      <th>25%</th>\n",
       "      <td>8.250000</td>\n",
       "      <td>54.000000</td>\n",
       "      <td>55.000000</td>\n",
       "    </tr>\n",
       "    <tr>\n",
       "      <th>50%</th>\n",
       "      <td>15.500000</td>\n",
       "      <td>67.000000</td>\n",
       "      <td>74.000000</td>\n",
       "    </tr>\n",
       "    <tr>\n",
       "      <th>75%</th>\n",
       "      <td>22.750000</td>\n",
       "      <td>81.500000</td>\n",
       "      <td>85.750000</td>\n",
       "    </tr>\n",
       "    <tr>\n",
       "      <th>max</th>\n",
       "      <td>30.000000</td>\n",
       "      <td>110.000000</td>\n",
       "      <td>122.000000</td>\n",
       "    </tr>\n",
       "  </tbody>\n",
       "</table>\n",
       "</div>"
      ],
      "text/plain": [
       "       Salesperson  Old Scheme  New Scheme\n",
       "count    30.000000   30.000000   30.000000\n",
       "mean     15.500000   68.033333   72.033333\n",
       "std       8.803408   20.455980   24.062395\n",
       "min       1.000000   28.000000   32.000000\n",
       "25%       8.250000   54.000000   55.000000\n",
       "50%      15.500000   67.000000   74.000000\n",
       "75%      22.750000   81.500000   85.750000\n",
       "max      30.000000  110.000000  122.000000"
      ]
     },
     "execution_count": 28,
     "metadata": {},
     "output_type": "execute_result"
    }
   ],
   "source": [
    "df.describe()"
   ]
  },
  {
   "cell_type": "markdown",
   "metadata": {
    "colab_type": "text",
    "id": "uXUxSer3vFvy"
   },
   "source": [
    "# Check for missing values"
   ]
  },
  {
   "cell_type": "markdown",
   "metadata": {
    "colab_type": "text",
    "id": "LwRELgNKvFv3"
   },
   "source": [
    "There are no missing values in the dataset."
   ]
  },
  {
   "cell_type": "code",
   "execution_count": 29,
   "metadata": {},
   "outputs": [
    {
     "data": {
      "text/plain": [
       "Salesperson    0\n",
       "Old Scheme     0\n",
       "New Scheme     0\n",
       "dtype: int64"
      ]
     },
     "execution_count": 29,
     "metadata": {},
     "output_type": "execute_result"
    }
   ],
   "source": [
    "df.isna().sum()"
   ]
  },
  {
   "cell_type": "markdown",
   "metadata": {
    "colab_type": "text",
    "id": "_wQtjUHXvFv5"
   },
   "source": [
    "# Plot Histograms and boxplot"
   ]
  },
  {
   "cell_type": "code",
   "execution_count": 37,
   "metadata": {},
   "outputs": [
    {
     "data": {
      "image/png": "[encoded data removed]",
      "text/plain": [
       "<Figure size 720x360 with 2 Axes>"
      ]
     },
     "metadata": {
      "needs_background": "light"
     },
     "output_type": "display_data"
    }
   ],
   "source": [
    "df.iloc[:,1:3].hist(figsize=(10,5));"
   ]
  },
  {
   "cell_type": "code",
   "execution_count": 46,
   "metadata": {},
   "outputs": [
    {
     "data": {
      "text/plain": [
       "<AxesSubplot:>"
      ]
     },
     "execution_count": 46,
     "metadata": {},
     "output_type": "execute_result"
    },
    {
     "data": {
      "image/png": "[encoded data removed]",
      "text/plain": [
       "<Figure size 432x288 with 1 Axes>"
      ]
     },
     "metadata": {
      "needs_background": "light"
     },
     "output_type": "display_data"
    }
   ],
   "source": [
    "df1 = df[['Old Scheme', 'New Scheme']]\n",
    "sns.boxplot(data = df1,orient='h', palette='Set2')"
   ]
  },
  {
   "cell_type": "markdown",
   "metadata": {
    "colab_type": "text",
    "id": "Tl-Mu2A7vFwG"
   },
   "source": [
    "- Mean and Median Values of each sample are not much different.\n",
    "\n",
    "- The Old scheme data looks more symmetrically distributed, whereas the New scheme data looks left skewed."
   ]
  },
  {
   "cell_type": "markdown",
   "metadata": {
    "colab_type": "text",
    "id": "vp55NPs8vFwH"
   },
   "source": [
    "# Describe the five per cent significance test you would apply to these data to determine whether new scheme has significantly raised outputs?"
   ]
  },
  {
   "cell_type": "markdown",
   "metadata": {
    "colab_type": "text",
    "id": "iYxzVrw4vFwI"
   },
   "source": [
    "- The level of significance (Alpha ) = 0.05.\n",
    "\n",
    "- But since the population standard deviation (Sigma) is unknown, we have to use a Tstat test.\n",
    "\n",
    "- Degree of Freedom: Since the sample is the same for both Sampling tests, we have N-1 degrees of freedom : 29\n",
    "\n",
    "- Since the sole purpose of the test is to check whether the New scheme is successful compared to old scheme, we would prefer a One-sided T-test."
   ]
  },
  {
   "cell_type": "markdown",
   "metadata": {
    "colab_type": "text",
    "id": "v41YTDaUvFwJ"
   },
   "source": [
    "Hypothesis Formulation\n",
    "\n",
    "Use the T Test: Paired two Sample for Means:"
   ]
  },
  {
   "cell_type": "markdown",
   "metadata": {
    "colab_type": "text",
    "id": "kTitnXm1vFwK"
   },
   "source": [
    "- Ho = $\\mu_{old} - \\mu_{new} \\geq 0$      (New Scheme did not raise the output significantly)\n",
    "\n",
    "- Ha = $\\mu_{old} - \\mu_{new} < 0$      (New Scheme raised the output significantly)"
   ]
  },
  {
   "cell_type": "code",
   "execution_count": 53,
   "metadata": {},
   "outputs": [
    {
     "name": "stdout",
     "output_type": "stream",
     "text": [
      "t_stat -1.556 \n",
      "p_value for a 1 tailed test 0.065 \n"
     ]
    }
   ],
   "source": [
    "alpha = 0.05\n",
    "dof = 29\n",
    "t_stat, p_value = stats.ttest_rel(df['Old Scheme'], df['New Scheme'])\n",
    "print('t_stat %1.3f ' %t_stat)\n",
    "print('p_value for a 1 tailed test %1.3f ' % (p_value/2))"
   ]
  },
  {
   "cell_type": "markdown",
   "metadata": {
    "colab_type": "text",
    "id": "G-x9qlFQbS5e"
   },
   "source": [
    "#### Note: The value of the test statistic does not change for a two-tailed test or a one-tailed test. Only the pvalue or the probability value associated with the test statistic changes."
   ]
  },
  {
   "cell_type": "markdown",
   "metadata": {
    "colab_type": "text",
    "id": "hsxPCQCzvFwP"
   },
   "source": [
    "# What conclusion does the test lead to?"
   ]
  },
  {
   "cell_type": "markdown",
   "metadata": {
    "colab_type": "text",
    "id": "qy9MUVDCvFwQ"
   },
   "source": [
    "In this scenario, the p value is 0.065 which is greater than the 0.05. Hence accept the null hypothesis that the new scheme did not raise the output significantly. "
   ]
  },
  {
   "cell_type": "markdown",
   "metadata": {
    "colab_type": "text",
    "id": "TktdiMZLvFwR"
   },
   "source": [
    "# What reservations have you about this result?"
   ]
  },
  {
   "cell_type": "markdown",
   "metadata": {
    "colab_type": "text",
    "id": "bDV6xVo6vFwS"
   },
   "source": [
    "- If we compare the means of the two sample distributions, we see that even though visually it seems as if New scheme has fared better, statistically it does not hold.\n",
    "- The higher mean in the case of New scheme can also be attributed to the higher variance compared to Old Scheme.\n",
    "- The variance of the second data set, 579.00, is 38% more than the variance of the first data set, 418.45. (Squaring of the standard deviation values gives us the values of the variance)\n",
    "- We are unsure of the sampling error present in the data.\n",
    "- Unpredictable pattern persist even after the bonus scheme direct the management to work on the lift (product portfolio) and to correct the bonus scheme in proportion to revenue generation rather than policy sale.\n",
    "- The scheme is expensive for the company but they are looking to compensate it by increase in sales. The agreement with the sales force is that if the scheme does not at least break even for the company, it will be abandoned after six months. So, it's better for the management to wait for another two months.\n",
    "- There is dip in the New Scheme towards end of the cycle, which suggests that the Sales team may have booked all their sales at the earlier part of the period to get their incentives early or may be waiting till the end of quarter (measurement period) to book all their sales at once. Hence aggregation of data for a quarter may provide more clarity on the performance than for a single month."
   ]
  },
  {
   "cell_type": "markdown",
   "metadata": {
    "colab_type": "text",
    "id": "XzREmUGgvFwT"
   },
   "source": [
    "# Suppose it has been calculated that in order for Titan to break even, the average output must increase by £5000. If this figure is alternative hypothesis, what is:"
   ]
  },
  {
   "cell_type": "markdown",
   "metadata": {
    "colab_type": "text",
    "id": "OPApZgSAvFwU"
   },
   "source": [
    "- The probability of a type 1 error?\n",
    "- The probability of a type 2 error?\n",
    "- The power of the test?"
   ]
  },
  {
   "cell_type": "markdown",
   "metadata": {
    "colab_type": "text",
    "id": "uatSCQBFvFwV"
   },
   "source": [
    "Type I error (𝜶): Probability of rejecting the null hypothesis when it is true. The probability of a Type I error in hypothesis testing is predetermined by the significance level."
   ]
  },
  {
   "cell_type": "markdown",
   "metadata": {
    "colab_type": "text",
    "id": "ViINb9FXvFwX"
   },
   "source": [
    "Type II error (𝜷) : Probability of failing to reject null when it is false. Type II error calculation depends on the population mean which is unknown."
   ]
  },
  {
   "cell_type": "markdown",
   "metadata": {
    "colab_type": "text",
    "id": "wB5lGB7yvFwa"
   },
   "source": [
    "If alternate hypothesis $\\mu_{New Scheme} – \\mu_{Old Scheme} = \\mu_d$ = £5000 is true. What is the type I and II error?\n",
    "\n",
    "- Null Hypothesis = $\\mu_{New Scheme} – \\mu_{Old Scheme} = \\mu_d$ = 0\n",
    "- First we need to calculate the probability of Type I error which is predetermined by the significance level. If the significance level is 0.05, then type I error is 0.05. i.e. 5% probability we make Type I error i.e. rejecting the null hypothesis when it is true.\n",
    "- Type II error calculation depends on a particular value of $\\mu$. In this case lets assume difference of population $\\mu_d$ is £5K. Lets also assume that the significance level for the test is 0.05. \n",
    "Then the calculation is as below :\n",
    "- This is a right tailed test"
   ]
  },
  {
   "cell_type": "markdown",
   "metadata": {
    "colab_type": "text",
    "id": "BK9EOkVIN4Fb"
   },
   "source": [
    "Refer to appendix for steps for conducting paired t-tests (given at the end of casestudy)"
   ]
  },
  {
   "cell_type": "markdown",
   "metadata": {
    "colab_type": "text",
    "id": "w1MTXBpFN4Fd"
   },
   "source": [
    "## Finding Sample Standard Deviation for paired t-test"
   ]
  },
  {
   "cell_type": "markdown",
   "metadata": {
    "colab_type": "text",
    "id": "JzvTbXYebS6n"
   },
   "source": [
    "We can calculate the standard deviation using both the function if we adjust the parameters appropriately."
   ]
  },
  {
   "cell_type": "markdown",
   "metadata": {
    "colab_type": "text",
    "id": "KbK8TyqgvFwf"
   },
   "source": [
    "We fail to reject the null hypothesis (commit a type II error) if we get a T-statistic less than 1.699127 for the sample size of 30"
   ]
  },
  {
   "cell_type": "markdown",
   "metadata": {
    "colab_type": "text",
    "id": "4iBWg8uOvFwg"
   },
   "source": [
    "To begin with, we need to find the $\\overline{D}$ until we fail to reject the null hypothesis. Then we need to identify the probability of calculated $\\overline{D}$ appearing when the $\\mu_𝑑$ = £5000."
   ]
  },
  {
   "cell_type": "markdown",
   "metadata": {
    "colab_type": "text",
    "id": "gF1YWgDRvFwh"
   },
   "source": [
    "# $𝑡_{𝑠𝑡𝑎𝑡}=\\frac{(\\overline{d}− \\mu_D)}{𝑆_𝑑/\\sqrt{𝑛}}$"
   ]
  },
  {
   "cell_type": "markdown",
   "metadata": {
    "colab_type": "text",
    "id": "As2KeA-pvFwj"
   },
   "source": [
    "## 1.699=$\\frac{(\\overline{d}-0)}{14.081/\\sqrt(30)}$"
   ]
  },
  {
   "cell_type": "markdown",
   "metadata": {
    "colab_type": "text",
    "id": "wmKJ6qA7vFwr"
   },
   "source": [
    "The above calculation states that we will incorrectly fail to reject the null hypothesis as long as we draw samples where the difference of mean is less than £4.37K."
   ]
  },
  {
   "cell_type": "markdown",
   "metadata": {
    "colab_type": "text",
    "id": "9rRhq81gvFws"
   },
   "source": [
    "Now given $\\mu_{old} – \\mu_{new} = 5K$, we can compute the probability of drawing the sample mean difference lesser than 4.37K as follows:"
   ]
  },
  {
   "cell_type": "markdown",
   "metadata": {},
   "source": [
    "# Probability of Type I Error ($\\alpha$)"
   ]
  },
  {
   "cell_type": "markdown",
   "metadata": {
    "colab_type": "text",
    "id": "hUwoDazavFw4"
   },
   "source": [
    "# Probability of Type II Error ($\\beta$)"
   ]
  },
  {
   "cell_type": "markdown",
   "metadata": {
    "colab_type": "text",
    "id": "b1-HPqfXvFxA"
   },
   "source": [
    "# Power of the Test:\n",
    "    \n",
    "Power of the hypothesis test is 1 minus the probability of Type II error.\n",
    "Basically the power of a test is the probability that we make the right decision when the null is not correct (i.e. we correctly reject it)"
   ]
  },
  {
   "cell_type": "markdown",
   "metadata": {
    "colab_type": "text",
    "id": "KmcdI-aMbS8D"
   },
   "source": [
    "# Extra Question"
   ]
  },
  {
   "cell_type": "markdown",
   "metadata": {
    "colab_type": "text",
    "id": "hp6oTiUsbS8F"
   },
   "source": [
    "# What sample size would make the probabilities of type 1 and type 2 errors equal?"
   ]
  },
  {
   "cell_type": "markdown",
   "metadata": {
    "colab_type": "text",
    "id": "3dYDdFXNbS8H"
   },
   "source": [
    "Let us assume we need Type 1 error and Type 2 error equal to .05\n",
    "\n",
    "Assuming sample standard deviation is equal to population standard deviation, we can calculate sample size needed as below :\n",
    "\n",
    "- Null hypothesis mean difference (M0) is 0\n",
    "- Alternative hypothesis mean difference (Ma) is 5\n",
    "- Sample standard Deviation is 14.081\n",
    "- Alpha value is 0.05\n",
    "- Beta value is 0.05 i.e. power of test is 0.95 = 95%\n",
    "\n",
    "Sample Size calculation :"
   ]
  },
  {
   "cell_type": "code",
   "execution_count": 30,
   "metadata": {},
   "outputs": [
    {
     "data": {
      "text/plain": [
       "0.05039072125025055"
      ]
     },
     "execution_count": 30,
     "metadata": {},
     "output_type": "execute_result"
    }
   ],
   "source": [
    "smp.tt_solve_power(effect_size=(5/14.081), nobs=87, alpha=None, power=0.95, alternative='larger')"
   ]
  },
  {
   "cell_type": "code",
   "execution_count": 31,
   "metadata": {},
   "outputs": [
    {
     "data": {
      "text/plain": [
       "0.3555075536203831"
      ]
     },
     "execution_count": 31,
     "metadata": {},
     "output_type": "execute_result"
    }
   ],
   "source": [
    "smp.tt_solve_power(effect_size=None, nobs=87, alpha=0.05, power=0.95, alternative='larger')"
   ]
  },
  {
   "cell_type": "code",
   "execution_count": 32,
   "metadata": {},
   "outputs": [
    {
     "data": {
      "text/plain": [
       "0.35508841701583693"
      ]
     },
     "execution_count": 32,
     "metadata": {},
     "output_type": "execute_result"
    }
   ],
   "source": [
    "5/14.081"
   ]
  },
  {
   "cell_type": "markdown",
   "metadata": {
    "colab_type": "text",
    "id": "QeN-82XKvFxS"
   },
   "source": [
    "# Conclusion\n",
    "\n",
    "From the given data, it may be concluded that, statistically there is no significant increase in sales because of the new incentive plan. However, our recommendation is that the test be carried out with a larger sample size covering a longer test period (at least a quarter) to improve the accuracy of test result and negating any one-time effect on the sales performance. Also, the results need to be interpreted and future actions be planned with the understanding of overall business performance."
   ]
  },
  {
   "cell_type": "markdown",
   "metadata": {
    "colab_type": "text",
    "id": "TaV6F9MMN4GW"
   },
   "source": [
    "# Appendix\n",
    "\n",
    "## Procedure for carrying out a paired t-test\n",
    "    Suppose a sample of n students were given a diagnostic test before studying a particular\n",
    "    module and then again after completing the module. We want to find out if, in general,\n",
    "    our teaching leads to improvements in students’ knowledge/skills (i.e. test scores). We\n",
    "    can use the results from our sample of students to draw conclusions about the impact of\n",
    "    this module in general\n",
    "    \n",
    "   Let x = test score before the module, y = test score after the module\n",
    "   To test the null hypothesis that the true mean difference is zero, the procedure is as\n",
    "   follows:\n",
    "    1. Calculate the difference (di = yi − xi) between the two observations on each pair,\n",
    "    making sure you distinguish between positive and negative differences.\n",
    "    2. Calculate the mean difference, d.\n",
    "    3. Calculate the standard deviation of the differences, sd, and use this to calculate the\n",
    "    standard error of the mean difference, SE(d) = sd/√n\n",
    "    4. Calculate the t-statistic, which is given by T =d/SE(d), Under the null hypothesis, this statistic follows a t-distribution with n − 1 degrees of freedom.\n",
    "    5. Use tables of the t-distribution to compare your value for T to the tn-1 distribution.\n",
    "    This will give the p-value for the paired t-test."
   ]
  }
 ],
 "metadata": {
  "colab": {
   "collapsed_sections": [],
   "name": "Titan_casestudy.ipynb",
   "provenance": []
  },
  "kernelspec": {
   "display_name": "Python 3",
   "language": "python",
   "name": "python3"
  },
  "language_info": {
   "codemirror_mode": {
    "name": "ipython",
    "version": 3
   },
   "file_extension": ".py",
   "mimetype": "text/x-python",
   "name": "python",
   "nbconvert_exporter": "python",
   "pygments_lexer": "ipython3",
   "version": "3.8.8"
  },
  "toc": {
   "base_numbering": 1,
   "nav_menu": {},
   "number_sections": true,
   "sideBar": true,
   "skip_h1_title": false,
   "title_cell": "Table of Contents",
   "title_sidebar": "Contents",
   "toc_cell": false,
   "toc_position": {},
   "toc_section_display": true,
   "toc_window_display": false
  },
  "varInspector": {
   "cols": {
    "lenName": 16,
    "lenType": 16,
    "lenVar": 40
   },
   "kernels_config": {
    "python": {
     "delete_cmd_postfix": "",
     "delete_cmd_prefix": "del ",
     "library": "var_list.py",
     "varRefreshCmd": "print(var_dic_list())"
    },
    "r": {
     "delete_cmd_postfix": ") ",
     "delete_cmd_prefix": "rm(",
     "library": "var_list.r",
     "varRefreshCmd": "cat(var_dic_list()) "
    }
   },
   "types_to_exclude": [
    "module",
    "function",
    "builtin_function_or_method",
    "instance",
    "_Feature"
   ],
   "window_display": false
  }
 },
 "nbformat": 4,
 "nbformat_minor": 1
}
