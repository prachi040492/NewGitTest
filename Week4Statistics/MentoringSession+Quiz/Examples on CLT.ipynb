{
 "cells": [
  {
   "cell_type": "markdown",
   "metadata": {},
   "source": [
    "On an average MMT gets 5000 queries a day with a SD of 500\n",
    "\n",
    "Assuming a month contains 30 days, on what proportion of days MMT will have more than 5250 queries\n",
    "\n",
    "Assuming a month contains 30 days, data is collected on 25 months and an average of 25 months is completed. What is the probability that average of 25 months is more than 5250\n"
   ]
  },
  {
   "cell_type": "code",
   "execution_count": 1,
   "metadata": {},
   "outputs": [],
   "source": [
    "import numpy as np\n",
    "import scipy.stats as stats\n",
    "import math as mt"
   ]
  },
  {
   "cell_type": "code",
   "execution_count": 2,
   "metadata": {},
   "outputs": [
    {
     "data": {
      "text/plain": [
       "0.3085375387259869"
      ]
     },
     "execution_count": 2,
     "metadata": {},
     "output_type": "execute_result"
    }
   ],
   "source": [
    "1 - stats.norm.cdf(5250,loc=5000,scale = 500)"
   ]
  },
  {
   "cell_type": "code",
   "execution_count": 3,
   "metadata": {},
   "outputs": [
    {
     "data": {
      "text/plain": [
       "0.006209665325776159"
      ]
     },
     "execution_count": 3,
     "metadata": {},
     "output_type": "execute_result"
    }
   ],
   "source": [
    "n = 25\n",
    "s = 500/mt.sqrt(n)\n",
    "\n",
    "1 - stats.norm.cdf(5250,loc=5000,scale = s)"
   ]
  },
  {
   "cell_type": "markdown",
   "metadata": {},
   "source": [
    "A survey was conducted with graduates from top 30 MBA programs. On the basis of the survey assume that the mean annual salary for male and female graduates 10 years after graduation is USD 168000\n",
    "and USD 117000. Assume the SD for male graduates to be USD 40000 and that for female graduates to be USD 25000\n",
    "\n",
    "1. What is the probability that a random sample of 40 male graduates will provide a sample mean within USD 10000\n",
    "2. What is the probability that a random sample of 40 female graduates will provide a sample mean within USD 10000\n",
    "3. In which of the preceeding 2 cases do we have a higher probability of obtaining a sample estimate within USD 10000 of the population mean and why\n",
    "4. What is the probability that a sample of 100 male graduates will provide a sample mean of USD 4000 below the population mean"
   ]
  },
  {
   "cell_type": "code",
   "execution_count": 4,
   "metadata": {},
   "outputs": [
    {
     "data": {
      "text/plain": [
       "0.8861537019933419"
      ]
     },
     "execution_count": 4,
     "metadata": {},
     "output_type": "execute_result"
    }
   ],
   "source": [
    "sd = 40000\n",
    "n = 40\n",
    "s = sd/mt.sqrt(n)\n",
    "\n",
    "stats.norm.cdf(178000, loc=168000, scale = s) - stats.norm.cdf(158000,loc=168000, scale = s)"
   ]
  },
  {
   "cell_type": "code",
   "execution_count": 5,
   "metadata": {},
   "outputs": [
    {
     "data": {
      "text/plain": [
       "0.9885879636139983"
      ]
     },
     "execution_count": 5,
     "metadata": {},
     "output_type": "execute_result"
    }
   ],
   "source": [
    "sd = 25000\n",
    "n = 40\n",
    "s = sd/mt.sqrt(n)\n",
    "\n",
    "stats.norm.cdf(127000, loc=117000, scale = s) - stats.norm.cdf(107000,loc=117000, scale = s)"
   ]
  },
  {
   "cell_type": "code",
   "execution_count": 6,
   "metadata": {},
   "outputs": [
    {
     "data": {
      "text/plain": [
       "0.15865525393145707"
      ]
     },
     "execution_count": 6,
     "metadata": {},
     "output_type": "execute_result"
    }
   ],
   "source": [
    "sd = 40000\n",
    "n = 100\n",
    "s = sd/mt.sqrt(n)\n",
    "\n",
    "stats.norm.cdf(164000, loc=168000, scale = s)"
   ]
  },
  {
   "cell_type": "markdown",
   "metadata": {},
   "source": [
    "It is known that the average stay of tourist in Singapore hotels has been 3.4 nights. A tourism industry wanted to test whether recent changes in the nature of tourism to Singapore have changed from the past average. The analyst obtained the following random sample of the number of the nights spent by tourists in Singapore hotels: 5,4,3,2,1, 1,5,7,8,4,3,3,2,5,7,1,3,1,1,3,3,4,2,2,2,6,1,7. Conduct the test using the 0.05 level of significance."
   ]
  },
  {
   "cell_type": "code",
   "execution_count": 7,
   "metadata": {},
   "outputs": [],
   "source": [
    "nights = np.array([5,4,3,2,1,1,5,7,8,4,3,3,2,5,7,1,3,1,1,5,3,4,2,2,2,6,1,7])"
   ]
  },
  {
   "cell_type": "code",
   "execution_count": 8,
   "metadata": {},
   "outputs": [
    {
     "data": {
      "text/plain": [
       "3.5"
      ]
     },
     "execution_count": 8,
     "metadata": {},
     "output_type": "execute_result"
    }
   ],
   "source": [
    "nights.mean()"
   ]
  },
  {
   "cell_type": "code",
   "execution_count": 9,
   "metadata": {},
   "outputs": [
    {
     "data": {
      "text/plain": [
       "2.0959143930173156"
      ]
     },
     "execution_count": 9,
     "metadata": {},
     "output_type": "execute_result"
    }
   ],
   "source": [
    "nights.std()"
   ]
  },
  {
   "cell_type": "markdown",
   "metadata": {},
   "source": [
    "Given:\n",
    "\n",
    "Number of samples = 1\n",
    "\n",
    "mu = 3.4\n",
    "\n",
    "alpha = 0.05\n",
    "\n",
    "1-Sample t-test (as population stdev is NOT known)\n",
    "\n",
    "H0: mu = 3.4\n",
    "\n",
    "H1: mu != 3.4"
   ]
  },
  {
   "cell_type": "code",
   "execution_count": 10,
   "metadata": {},
   "outputs": [],
   "source": [
    "from scipy.stats import ttest_1samp"
   ]
  },
  {
   "cell_type": "code",
   "execution_count": 11,
   "metadata": {},
   "outputs": [
    {
     "data": {
      "text/plain": [
       "Ttest_1sampResult(statistic=0.24791816116240142, pvalue=0.8060735232454601)"
      ]
     },
     "execution_count": 11,
     "metadata": {},
     "output_type": "execute_result"
    }
   ],
   "source": [
    "stats.ttest_1samp(nights, 3.4) # Python gives a 2-tailed result"
   ]
  },
  {
   "cell_type": "markdown",
   "metadata": {},
   "source": [
    "p-value > alpha value\n",
    "Fail to Reject the NULL Hypothesis"
   ]
  },
  {
   "cell_type": "code",
   "execution_count": null,
   "metadata": {},
   "outputs": [],
   "source": []
  }
 ],
 "metadata": {
  "kernelspec": {
   "display_name": "Python 3",
   "language": "python",
   "name": "python3"
  },
  "language_info": {
   "codemirror_mode": {
    "name": "ipython",
    "version": 3
   },
   "file_extension": ".py",
   "mimetype": "text/x-python",
   "name": "python",
   "nbconvert_exporter": "python",
   "pygments_lexer": "ipython3",
   "version": "3.8.8"
  }
 },
 "nbformat": 4,
 "nbformat_minor": 4
}
