{
 "cells": [
  {
   "cell_type": "markdown",
   "metadata": {},
   "source": [
    "# Pandas\n",
    "\n",
    "Pandas is a package used for managing data.\n",
    "\n",
    "Pandas main use is that it creates 2 new data types for storing data: series and dataframe.\n",
    "\n",
    "Think of a pandas dataframe like an excel spreadsheet that is storing some data.  One column can have customer name, one column can have product sold name, another column can have price or quantity... Then the rows could be individual sales.\n",
    "\n",
    "A dataframe is made up of several series.  Each column of a dataframe is a series.\n",
    "\n",
    "We can name each column and row of a dataframe.\n",
    "\n",
    "A pandas dataframe is very similar to a data.frame in R.\n",
    "\n",
    "Similar to numpy arrays, a dataframe is a more robust data type for storing data than lists of lists. Dataframes are more flexible than numpy arrays.\n",
    "\n",
    "A numpy array can create a matrix with all entries of the same data type.  In a dataframe each column can have its own datatype.  \n",
    "\n",
    "That's not to say numpy arrays aren't useful.  It is often easiest to convert some subset of a dataframe to a numpy array and then use that to do some math.\n",
    "\n",
    "Pandas also has SQL-like functions for merging, joining, and sorting dataframes.\n",
    "\n"
   ]
  },
  {
   "cell_type": "code",
   "execution_count": 3,
   "metadata": {},
   "outputs": [],
   "source": [
    "import pandas as pd\n",
    "import numpy as np  # numpy is not necessary for pandas, but we will use some np code in this example\n",
    "# in general it's good practice to import all pacakages at the beginning"
   ]
  },
  {
   "cell_type": "code",
   "execution_count": 7,
   "metadata": {},
   "outputs": [
    {
     "name": "stdout",
     "output_type": "stream",
     "text": [
      "[5.4, 6.1, 1.7, 99.8]\n",
      "[ 5.4  6.1  1.7 99.8]\n"
     ]
    }
   ],
   "source": [
    "# first let's look at series - think of this as a single column of a spreadsheet\n",
    "# each entry in a series corresponds to an individual row in the spreadsheet\n",
    "# we can create a series by converting a list, or numpy array\n",
    "\n",
    "mylist = [5.4,6.1,1.7,99.8]\n",
    "myarray = np.array(mylist)\n",
    "print(mylist)\n",
    "print(myarray)"
   ]
  },
  {
   "cell_type": "code",
   "execution_count": 8,
   "metadata": {},
   "outputs": [
    {
     "name": "stdout",
     "output_type": "stream",
     "text": [
      "0     5.4\n",
      "1     6.1\n",
      "2     1.7\n",
      "3    99.8\n",
      "dtype: float64\n",
      "0     5.4\n",
      "1     6.1\n",
      "2     1.7\n",
      "3    99.8\n",
      "dtype: float64\n"
     ]
    }
   ],
   "source": [
    "myseries1 = pd.Series(data=mylist)\n",
    "print(myseries1)\n",
    "myseries2 = pd.Series(data=myarray)\n",
    "print(myseries2)"
   ]
  },
  {
   "cell_type": "code",
   "execution_count": 9,
   "metadata": {},
   "outputs": [
    {
     "name": "stdout",
     "output_type": "stream",
     "text": [
      "1.7\n"
     ]
    }
   ],
   "source": [
    "# we access individual entries the same way as with lists and arrays\n",
    "print(myseries1[2])"
   ]
  },
  {
   "cell_type": "code",
   "execution_count": 10,
   "metadata": {},
   "outputs": [
    {
     "name": "stdout",
     "output_type": "stream",
     "text": [
      "first      5.4\n",
      "second     6.1\n",
      "third      1.7\n",
      "fourth    99.8\n",
      "dtype: float64\n"
     ]
    }
   ],
   "source": [
    "# we can add labels to the entries of a series\n",
    "\n",
    "mylabels = ['first','second','third','fourth']\n",
    "myseries3 = pd.Series(data=mylist,index=mylabels)\n",
    "print(myseries3)"
   ]
  },
  {
   "cell_type": "code",
   "execution_count": 11,
   "metadata": {},
   "outputs": [
    {
     "name": "stdout",
     "output_type": "stream",
     "text": [
      "first      5.4\n",
      "second     6.1\n",
      "third      1.7\n",
      "fourth    99.8\n",
      "dtype: float64\n"
     ]
    }
   ],
   "source": [
    "# we need not be explicit about the entries of pd.Series\n",
    "myseries4 = pd.Series(mylist,mylabels)\n",
    "print(myseries4)"
   ]
  },
  {
   "cell_type": "code",
   "execution_count": 12,
   "metadata": {},
   "outputs": [
    {
     "name": "stdout",
     "output_type": "stream",
     "text": [
      "6.1\n"
     ]
    }
   ],
   "source": [
    "# we can also access entries using the index labels\n",
    "print(myseries4['second'])"
   ]
  },
  {
   "cell_type": "code",
   "execution_count": 13,
   "metadata": {},
   "outputs": [
    {
     "name": "stdout",
     "output_type": "stream",
     "text": [
      "first     5.5\n",
      "third     1.1\n",
      "fourth    8.8\n",
      "fifth     1.6\n",
      "dtype: float64\n",
      "\n",
      "fifth       NaN\n",
      "first      10.9\n",
      "fourth    108.6\n",
      "second      NaN\n",
      "third       2.8\n",
      "dtype: float64\n"
     ]
    }
   ],
   "source": [
    "# we can do math on series \n",
    "myseries5 = pd.Series([5.5,1.1,8.8,1.6],['first','third','fourth','fifth'])\n",
    "print(myseries5)\n",
    "print('')\n",
    "print(myseries5+myseries4)"
   ]
  },
  {
   "cell_type": "code",
   "execution_count": 17,
   "metadata": {},
   "outputs": [
    {
     "data": {
      "text/html": [
       "<div>\n",
       "<style scoped>\n",
       "    .dataframe tbody tr th:only-of-type {\n",
       "        vertical-align: middle;\n",
       "    }\n",
       "\n",
       "    .dataframe tbody tr th {\n",
       "        vertical-align: top;\n",
       "    }\n",
       "\n",
       "    .dataframe thead th {\n",
       "        text-align: right;\n",
       "    }\n",
       "</style>\n",
       "<table border=\"1\" class=\"dataframe\">\n",
       "  <thead>\n",
       "    <tr style=\"text-align: right;\">\n",
       "      <th></th>\n",
       "      <th>0</th>\n",
       "      <th>1</th>\n",
       "    </tr>\n",
       "  </thead>\n",
       "  <tbody>\n",
       "    <tr>\n",
       "      <th>first</th>\n",
       "      <td>5.4</td>\n",
       "      <td>5.5</td>\n",
       "    </tr>\n",
       "    <tr>\n",
       "      <th>second</th>\n",
       "      <td>6.1</td>\n",
       "      <td>NaN</td>\n",
       "    </tr>\n",
       "    <tr>\n",
       "      <th>third</th>\n",
       "      <td>1.7</td>\n",
       "      <td>1.1</td>\n",
       "    </tr>\n",
       "    <tr>\n",
       "      <th>fourth</th>\n",
       "      <td>99.8</td>\n",
       "      <td>8.8</td>\n",
       "    </tr>\n",
       "    <tr>\n",
       "      <th>fifth</th>\n",
       "      <td>NaN</td>\n",
       "      <td>1.6</td>\n",
       "    </tr>\n",
       "  </tbody>\n",
       "</table>\n",
       "</div>"
      ],
      "text/plain": [
       "           0    1\n",
       "first    5.4  5.5\n",
       "second   6.1  NaN\n",
       "third    1.7  1.1\n",
       "fourth  99.8  8.8\n",
       "fifth    NaN  1.6"
      ]
     },
     "execution_count": 17,
     "metadata": {},
     "output_type": "execute_result"
    }
   ],
   "source": [
    "# we can combine series to create a dataframe using the concat function\n",
    "df1 = pd.concat([myseries4,myseries5],axis=1,sort=False)\n",
    "df1"
   ]
  },
  {
   "cell_type": "code",
   "execution_count": 40,
   "metadata": {},
   "outputs": [
    {
     "data": {
      "text/html": [
       "<div>\n",
       "<style scoped>\n",
       "    .dataframe tbody tr th:only-of-type {\n",
       "        vertical-align: middle;\n",
       "    }\n",
       "\n",
       "    .dataframe tbody tr th {\n",
       "        vertical-align: top;\n",
       "    }\n",
       "\n",
       "    .dataframe thead th {\n",
       "        text-align: right;\n",
       "    }\n",
       "</style>\n",
       "<table border=\"1\" class=\"dataframe\">\n",
       "  <thead>\n",
       "    <tr style=\"text-align: right;\">\n",
       "      <th></th>\n",
       "      <th>0</th>\n",
       "      <th>1</th>\n",
       "      <th>2</th>\n",
       "      <th>3</th>\n",
       "      <th>4</th>\n",
       "    </tr>\n",
       "  </thead>\n",
       "  <tbody>\n",
       "    <tr>\n",
       "      <th>0</th>\n",
       "      <td>0.833157</td>\n",
       "      <td>-0.306783</td>\n",
       "      <td>1.642800</td>\n",
       "      <td>0.729213</td>\n",
       "      <td>-0.033148</td>\n",
       "    </tr>\n",
       "    <tr>\n",
       "      <th>1</th>\n",
       "      <td>-1.011271</td>\n",
       "      <td>0.359786</td>\n",
       "      <td>0.109998</td>\n",
       "      <td>-0.354789</td>\n",
       "      <td>-0.985852</td>\n",
       "    </tr>\n",
       "    <tr>\n",
       "      <th>2</th>\n",
       "      <td>-0.289029</td>\n",
       "      <td>-1.393372</td>\n",
       "      <td>0.137235</td>\n",
       "      <td>-1.858014</td>\n",
       "      <td>0.474897</td>\n",
       "    </tr>\n",
       "    <tr>\n",
       "      <th>3</th>\n",
       "      <td>-0.928781</td>\n",
       "      <td>-0.488720</td>\n",
       "      <td>-0.679384</td>\n",
       "      <td>0.545164</td>\n",
       "      <td>-0.150044</td>\n",
       "    </tr>\n",
       "    <tr>\n",
       "      <th>4</th>\n",
       "      <td>-0.913097</td>\n",
       "      <td>1.149618</td>\n",
       "      <td>0.557477</td>\n",
       "      <td>1.038778</td>\n",
       "      <td>0.006992</td>\n",
       "    </tr>\n",
       "  </tbody>\n",
       "</table>\n",
       "</div>"
      ],
      "text/plain": [
       "          0         1         2         3         4\n",
       "0  0.833157 -0.306783  1.642800  0.729213 -0.033148\n",
       "1 -1.011271  0.359786  0.109998 -0.354789 -0.985852\n",
       "2 -0.289029 -1.393372  0.137235 -1.858014  0.474897\n",
       "3 -0.928781 -0.488720 -0.679384  0.545164 -0.150044\n",
       "4 -0.913097  1.149618  0.557477  1.038778  0.006992"
      ]
     },
     "execution_count": 40,
     "metadata": {},
     "output_type": "execute_result"
    }
   ],
   "source": [
    "# we can create a new dataframe \n",
    "df2 = pd.DataFrame(np.random.randn(5,5))\n",
    "df2"
   ]
  },
  {
   "cell_type": "code",
   "execution_count": 41,
   "metadata": {},
   "outputs": [
    {
     "data": {
      "text/html": [
       "<div>\n",
       "<style scoped>\n",
       "    .dataframe tbody tr th:only-of-type {\n",
       "        vertical-align: middle;\n",
       "    }\n",
       "\n",
       "    .dataframe tbody tr th {\n",
       "        vertical-align: top;\n",
       "    }\n",
       "\n",
       "    .dataframe thead th {\n",
       "        text-align: right;\n",
       "    }\n",
       "</style>\n",
       "<table border=\"1\" class=\"dataframe\">\n",
       "  <thead>\n",
       "    <tr style=\"text-align: right;\">\n",
       "      <th></th>\n",
       "      <th>first col</th>\n",
       "      <th>second col</th>\n",
       "      <th>third col</th>\n",
       "      <th>fourth col</th>\n",
       "      <th>fifth col</th>\n",
       "    </tr>\n",
       "  </thead>\n",
       "  <tbody>\n",
       "    <tr>\n",
       "      <th>first row</th>\n",
       "      <td>0.114805</td>\n",
       "      <td>-0.156721</td>\n",
       "      <td>0.460685</td>\n",
       "      <td>-0.624799</td>\n",
       "      <td>0.031447</td>\n",
       "    </tr>\n",
       "    <tr>\n",
       "      <th>second row</th>\n",
       "      <td>-0.269686</td>\n",
       "      <td>0.154850</td>\n",
       "      <td>-0.273914</td>\n",
       "      <td>-0.250234</td>\n",
       "      <td>-0.305364</td>\n",
       "    </tr>\n",
       "    <tr>\n",
       "      <th>third row</th>\n",
       "      <td>-1.156688</td>\n",
       "      <td>0.154720</td>\n",
       "      <td>0.252347</td>\n",
       "      <td>-1.154788</td>\n",
       "      <td>0.367549</td>\n",
       "    </tr>\n",
       "    <tr>\n",
       "      <th>fourth row</th>\n",
       "      <td>0.510674</td>\n",
       "      <td>-0.301236</td>\n",
       "      <td>1.482755</td>\n",
       "      <td>-0.001274</td>\n",
       "      <td>0.420024</td>\n",
       "    </tr>\n",
       "    <tr>\n",
       "      <th>fifth row</th>\n",
       "      <td>-0.259813</td>\n",
       "      <td>-0.214607</td>\n",
       "      <td>-0.241380</td>\n",
       "      <td>-0.014989</td>\n",
       "      <td>-1.649892</td>\n",
       "    </tr>\n",
       "  </tbody>\n",
       "</table>\n",
       "</div>"
      ],
      "text/plain": [
       "            first col  second col  third col  fourth col  fifth col\n",
       "first row    0.114805   -0.156721   0.460685   -0.624799   0.031447\n",
       "second row  -0.269686    0.154850  -0.273914   -0.250234  -0.305364\n",
       "third row   -1.156688    0.154720   0.252347   -1.154788   0.367549\n",
       "fourth row   0.510674   -0.301236   1.482755   -0.001274   0.420024\n",
       "fifth row   -0.259813   -0.214607  -0.241380   -0.014989  -1.649892"
      ]
     },
     "execution_count": 41,
     "metadata": {},
     "output_type": "execute_result"
    }
   ],
   "source": [
    "# lets give labels to rows and columns\n",
    "df3 = pd.DataFrame(np.random.randn(5,5),index=['first row','second row','third row','fourth row','fifth row'],\n",
    "                   columns=['first col','second col','third col','fourth col','fifth col'])\n",
    "df3"
   ]
  },
  {
   "cell_type": "code",
   "execution_count": 42,
   "metadata": {},
   "outputs": [
    {
     "name": "stdout",
     "output_type": "stream",
     "text": [
      "first row    -0.156721\n",
      "second row    0.154850\n",
      "third row     0.154720\n",
      "fourth row   -0.301236\n",
      "fifth row    -0.214607\n",
      "Name: second col, dtype: float64\n",
      "\n"
     ]
    },
    {
     "data": {
      "text/html": [
       "<div>\n",
       "<style scoped>\n",
       "    .dataframe tbody tr th:only-of-type {\n",
       "        vertical-align: middle;\n",
       "    }\n",
       "\n",
       "    .dataframe tbody tr th {\n",
       "        vertical-align: top;\n",
       "    }\n",
       "\n",
       "    .dataframe thead th {\n",
       "        text-align: right;\n",
       "    }\n",
       "</style>\n",
       "<table border=\"1\" class=\"dataframe\">\n",
       "  <thead>\n",
       "    <tr style=\"text-align: right;\">\n",
       "      <th></th>\n",
       "      <th>third col</th>\n",
       "      <th>first col</th>\n",
       "    </tr>\n",
       "  </thead>\n",
       "  <tbody>\n",
       "    <tr>\n",
       "      <th>first row</th>\n",
       "      <td>0.460685</td>\n",
       "      <td>0.114805</td>\n",
       "    </tr>\n",
       "    <tr>\n",
       "      <th>second row</th>\n",
       "      <td>-0.273914</td>\n",
       "      <td>-0.269686</td>\n",
       "    </tr>\n",
       "    <tr>\n",
       "      <th>third row</th>\n",
       "      <td>0.252347</td>\n",
       "      <td>-1.156688</td>\n",
       "    </tr>\n",
       "    <tr>\n",
       "      <th>fourth row</th>\n",
       "      <td>1.482755</td>\n",
       "      <td>0.510674</td>\n",
       "    </tr>\n",
       "    <tr>\n",
       "      <th>fifth row</th>\n",
       "      <td>-0.241380</td>\n",
       "      <td>-0.259813</td>\n",
       "    </tr>\n",
       "  </tbody>\n",
       "</table>\n",
       "</div>"
      ],
      "text/plain": [
       "            third col  first col\n",
       "first row    0.460685   0.114805\n",
       "second row  -0.273914  -0.269686\n",
       "third row    0.252347  -1.156688\n",
       "fourth row   1.482755   0.510674\n",
       "fifth row   -0.241380  -0.259813"
      ]
     },
     "execution_count": 42,
     "metadata": {},
     "output_type": "execute_result"
    }
   ],
   "source": [
    "# we can access individual series in a data frame\n",
    "print(df3['second col'])\n",
    "print('')\n",
    "df3[['third col','first col']]"
   ]
  },
  {
   "cell_type": "code",
   "execution_count": 21,
   "metadata": {},
   "outputs": [
    {
     "data": {
      "text/plain": [
       "first col    -0.120163\n",
       "second col   -0.491637\n",
       "third col    -0.331811\n",
       "fourth col    0.657705\n",
       "fifth col    -0.577323\n",
       "Name: fourth row, dtype: float64"
      ]
     },
     "execution_count": 21,
     "metadata": {},
     "output_type": "execute_result"
    }
   ],
   "source": [
    "# we can access rows of a dataframe\n",
    "df3.loc['fourth row']"
   ]
  },
  {
   "cell_type": "code",
   "execution_count": 22,
   "metadata": {},
   "outputs": [
    {
     "data": {
      "text/plain": [
       "first col    -1.073762\n",
       "second col    1.186480\n",
       "third col    -0.958005\n",
       "fourth col    0.563519\n",
       "fifth col    -1.087462\n",
       "Name: third row, dtype: float64"
      ]
     },
     "execution_count": 22,
     "metadata": {},
     "output_type": "execute_result"
    }
   ],
   "source": [
    "df3.iloc[2]"
   ]
  },
  {
   "cell_type": "code",
   "execution_count": 23,
   "metadata": {},
   "outputs": [
    {
     "data": {
      "text/html": [
       "<div>\n",
       "<style scoped>\n",
       "    .dataframe tbody tr th:only-of-type {\n",
       "        vertical-align: middle;\n",
       "    }\n",
       "\n",
       "    .dataframe tbody tr th {\n",
       "        vertical-align: top;\n",
       "    }\n",
       "\n",
       "    .dataframe thead th {\n",
       "        text-align: right;\n",
       "    }\n",
       "</style>\n",
       "<table border=\"1\" class=\"dataframe\">\n",
       "  <thead>\n",
       "    <tr style=\"text-align: right;\">\n",
       "      <th></th>\n",
       "      <th>second col</th>\n",
       "      <th>third col</th>\n",
       "    </tr>\n",
       "  </thead>\n",
       "  <tbody>\n",
       "    <tr>\n",
       "      <th>fourth row</th>\n",
       "      <td>-0.491637</td>\n",
       "      <td>-0.331811</td>\n",
       "    </tr>\n",
       "    <tr>\n",
       "      <th>first row</th>\n",
       "      <td>-0.267274</td>\n",
       "      <td>-0.014247</td>\n",
       "    </tr>\n",
       "  </tbody>\n",
       "</table>\n",
       "</div>"
      ],
      "text/plain": [
       "            second col  third col\n",
       "fourth row   -0.491637  -0.331811\n",
       "first row    -0.267274  -0.014247"
      ]
     },
     "execution_count": 23,
     "metadata": {},
     "output_type": "execute_result"
    }
   ],
   "source": [
    "df3.loc[['fourth row','first row'],['second col','third col']]"
   ]
  },
  {
   "cell_type": "code",
   "execution_count": 24,
   "metadata": {},
   "outputs": [
    {
     "data": {
      "text/html": [
       "<div>\n",
       "<style scoped>\n",
       "    .dataframe tbody tr th:only-of-type {\n",
       "        vertical-align: middle;\n",
       "    }\n",
       "\n",
       "    .dataframe tbody tr th {\n",
       "        vertical-align: top;\n",
       "    }\n",
       "\n",
       "    .dataframe thead th {\n",
       "        text-align: right;\n",
       "    }\n",
       "</style>\n",
       "<table border=\"1\" class=\"dataframe\">\n",
       "  <thead>\n",
       "    <tr style=\"text-align: right;\">\n",
       "      <th></th>\n",
       "      <th>first col</th>\n",
       "      <th>second col</th>\n",
       "      <th>third col</th>\n",
       "      <th>fourth col</th>\n",
       "      <th>fifth col</th>\n",
       "    </tr>\n",
       "  </thead>\n",
       "  <tbody>\n",
       "    <tr>\n",
       "      <th>first row</th>\n",
       "      <td>True</td>\n",
       "      <td>False</td>\n",
       "      <td>False</td>\n",
       "      <td>True</td>\n",
       "      <td>True</td>\n",
       "    </tr>\n",
       "    <tr>\n",
       "      <th>second row</th>\n",
       "      <td>True</td>\n",
       "      <td>False</td>\n",
       "      <td>True</td>\n",
       "      <td>False</td>\n",
       "      <td>True</td>\n",
       "    </tr>\n",
       "    <tr>\n",
       "      <th>third row</th>\n",
       "      <td>False</td>\n",
       "      <td>True</td>\n",
       "      <td>False</td>\n",
       "      <td>True</td>\n",
       "      <td>False</td>\n",
       "    </tr>\n",
       "    <tr>\n",
       "      <th>fourth row</th>\n",
       "      <td>False</td>\n",
       "      <td>False</td>\n",
       "      <td>False</td>\n",
       "      <td>True</td>\n",
       "      <td>False</td>\n",
       "    </tr>\n",
       "    <tr>\n",
       "      <th>fifth row</th>\n",
       "      <td>True</td>\n",
       "      <td>False</td>\n",
       "      <td>False</td>\n",
       "      <td>False</td>\n",
       "      <td>False</td>\n",
       "    </tr>\n",
       "  </tbody>\n",
       "</table>\n",
       "</div>"
      ],
      "text/plain": [
       "            first col  second col  third col  fourth col  fifth col\n",
       "first row        True       False      False        True       True\n",
       "second row       True       False       True       False       True\n",
       "third row       False        True      False        True      False\n",
       "fourth row      False       False      False        True      False\n",
       "fifth row        True       False      False       False      False"
      ]
     },
     "execution_count": 24,
     "metadata": {},
     "output_type": "execute_result"
    }
   ],
   "source": [
    "# we can use logical indexing for dataframes just like for numpy arrays\n",
    "df3>0"
   ]
  },
  {
   "cell_type": "code",
   "execution_count": 25,
   "metadata": {},
   "outputs": [
    {
     "name": "stdout",
     "output_type": "stream",
     "text": [
      "            first col  second col  third col  fourth col  fifth col\n",
      "first row    1.639712         NaN        NaN    0.470665   0.390266\n",
      "second row   0.795189         NaN    1.56018         NaN   0.321614\n",
      "third row         NaN     1.18648        NaN    0.563519        NaN\n",
      "fourth row        NaN         NaN        NaN    0.657705        NaN\n",
      "fifth row    2.320845         NaN        NaN         NaN        NaN\n"
     ]
    }
   ],
   "source": [
    "print(df3[df3>0])"
   ]
  },
  {
   "cell_type": "code",
   "execution_count": 44,
   "metadata": {},
   "outputs": [
    {
     "data": {
      "text/html": [
       "<div>\n",
       "<style scoped>\n",
       "    .dataframe tbody tr th:only-of-type {\n",
       "        vertical-align: middle;\n",
       "    }\n",
       "\n",
       "    .dataframe tbody tr th {\n",
       "        vertical-align: top;\n",
       "    }\n",
       "\n",
       "    .dataframe thead th {\n",
       "        text-align: right;\n",
       "    }\n",
       "</style>\n",
       "<table border=\"1\" class=\"dataframe\">\n",
       "  <thead>\n",
       "    <tr style=\"text-align: right;\">\n",
       "      <th></th>\n",
       "      <th>first col</th>\n",
       "      <th>second col</th>\n",
       "      <th>third col</th>\n",
       "      <th>fourth col</th>\n",
       "      <th>fifth col</th>\n",
       "      <th>sixth col</th>\n",
       "    </tr>\n",
       "  </thead>\n",
       "  <tbody>\n",
       "    <tr>\n",
       "      <th>first row</th>\n",
       "      <td>0.114805</td>\n",
       "      <td>-0.156721</td>\n",
       "      <td>0.460685</td>\n",
       "      <td>-0.624799</td>\n",
       "      <td>0.031447</td>\n",
       "      <td>-1.169138</td>\n",
       "    </tr>\n",
       "    <tr>\n",
       "      <th>second row</th>\n",
       "      <td>-0.269686</td>\n",
       "      <td>0.154850</td>\n",
       "      <td>-0.273914</td>\n",
       "      <td>-0.250234</td>\n",
       "      <td>-0.305364</td>\n",
       "      <td>-0.083714</td>\n",
       "    </tr>\n",
       "    <tr>\n",
       "      <th>third row</th>\n",
       "      <td>-1.156688</td>\n",
       "      <td>0.154720</td>\n",
       "      <td>0.252347</td>\n",
       "      <td>-1.154788</td>\n",
       "      <td>0.367549</td>\n",
       "      <td>0.589082</td>\n",
       "    </tr>\n",
       "    <tr>\n",
       "      <th>fourth row</th>\n",
       "      <td>0.510674</td>\n",
       "      <td>-0.301236</td>\n",
       "      <td>1.482755</td>\n",
       "      <td>-0.001274</td>\n",
       "      <td>0.420024</td>\n",
       "      <td>0.723523</td>\n",
       "    </tr>\n",
       "    <tr>\n",
       "      <th>fifth row</th>\n",
       "      <td>-0.259813</td>\n",
       "      <td>-0.214607</td>\n",
       "      <td>-0.241380</td>\n",
       "      <td>-0.014989</td>\n",
       "      <td>-1.649892</td>\n",
       "      <td>1.293339</td>\n",
       "    </tr>\n",
       "  </tbody>\n",
       "</table>\n",
       "</div>"
      ],
      "text/plain": [
       "            first col  second col  third col  fourth col  fifth col  sixth col\n",
       "first row    0.114805   -0.156721   0.460685   -0.624799   0.031447  -1.169138\n",
       "second row  -0.269686    0.154850  -0.273914   -0.250234  -0.305364  -0.083714\n",
       "third row   -1.156688    0.154720   0.252347   -1.154788   0.367549   0.589082\n",
       "fourth row   0.510674   -0.301236   1.482755   -0.001274   0.420024   0.723523\n",
       "fifth row   -0.259813   -0.214607  -0.241380   -0.014989  -1.649892   1.293339"
      ]
     },
     "execution_count": 44,
     "metadata": {},
     "output_type": "execute_result"
    }
   ],
   "source": [
    "# we can add columns to a dataframe\n",
    "df3['sixth col'] = np.random.randn(5,1)\n",
    "df3"
   ]
  },
  {
   "cell_type": "code",
   "execution_count": 39,
   "metadata": {},
   "outputs": [
    {
     "ename": "KeyError",
     "evalue": "\"['first col'] not found in axis\"",
     "output_type": "error",
     "traceback": [
      "\u001b[1;31m---------------------------------------------------------------------------\u001b[0m",
      "\u001b[1;31mKeyError\u001b[0m                                  Traceback (most recent call last)",
      "\u001b[1;32m<ipython-input-39-18785828149f>\u001b[0m in \u001b[0;36m<module>\u001b[1;34m\u001b[0m\n\u001b[0;32m      1\u001b[0m \u001b[1;31m# we can remove columns or rows from a dataframe\u001b[0m\u001b[1;33m\u001b[0m\u001b[1;33m\u001b[0m\u001b[1;33m\u001b[0m\u001b[0m\n\u001b[1;32m----> 2\u001b[1;33m \u001b[0mdf3\u001b[0m\u001b[1;33m.\u001b[0m\u001b[0mdrop\u001b[0m\u001b[1;33m(\u001b[0m\u001b[1;34m'first col'\u001b[0m\u001b[1;33m,\u001b[0m\u001b[0maxis\u001b[0m\u001b[1;33m=\u001b[0m\u001b[1;36m1\u001b[0m\u001b[1;33m,\u001b[0m\u001b[0minplace\u001b[0m\u001b[1;33m=\u001b[0m\u001b[1;32mTrue\u001b[0m\u001b[1;33m)\u001b[0m\u001b[1;33m\u001b[0m\u001b[1;33m\u001b[0m\u001b[0m\n\u001b[0m",
      "\u001b[1;32m~\\Anaconda3\\lib\\site-packages\\pandas\\core\\frame.py\u001b[0m in \u001b[0;36mdrop\u001b[1;34m(self, labels, axis, index, columns, level, inplace, errors)\u001b[0m\n\u001b[0;32m   4161\u001b[0m                 \u001b[0mweight\u001b[0m  \u001b[1;36m1.0\u001b[0m     \u001b[1;36m0.8\u001b[0m\u001b[1;33m\u001b[0m\u001b[1;33m\u001b[0m\u001b[0m\n\u001b[0;32m   4162\u001b[0m         \"\"\"\n\u001b[1;32m-> 4163\u001b[1;33m         return super().drop(\n\u001b[0m\u001b[0;32m   4164\u001b[0m             \u001b[0mlabels\u001b[0m\u001b[1;33m=\u001b[0m\u001b[0mlabels\u001b[0m\u001b[1;33m,\u001b[0m\u001b[1;33m\u001b[0m\u001b[1;33m\u001b[0m\u001b[0m\n\u001b[0;32m   4165\u001b[0m             \u001b[0maxis\u001b[0m\u001b[1;33m=\u001b[0m\u001b[0maxis\u001b[0m\u001b[1;33m,\u001b[0m\u001b[1;33m\u001b[0m\u001b[1;33m\u001b[0m\u001b[0m\n",
      "\u001b[1;32m~\\Anaconda3\\lib\\site-packages\\pandas\\core\\generic.py\u001b[0m in \u001b[0;36mdrop\u001b[1;34m(self, labels, axis, index, columns, level, inplace, errors)\u001b[0m\n\u001b[0;32m   3885\u001b[0m         \u001b[1;32mfor\u001b[0m \u001b[0maxis\u001b[0m\u001b[1;33m,\u001b[0m \u001b[0mlabels\u001b[0m \u001b[1;32min\u001b[0m \u001b[0maxes\u001b[0m\u001b[1;33m.\u001b[0m\u001b[0mitems\u001b[0m\u001b[1;33m(\u001b[0m\u001b[1;33m)\u001b[0m\u001b[1;33m:\u001b[0m\u001b[1;33m\u001b[0m\u001b[1;33m\u001b[0m\u001b[0m\n\u001b[0;32m   3886\u001b[0m             \u001b[1;32mif\u001b[0m \u001b[0mlabels\u001b[0m \u001b[1;32mis\u001b[0m \u001b[1;32mnot\u001b[0m \u001b[1;32mNone\u001b[0m\u001b[1;33m:\u001b[0m\u001b[1;33m\u001b[0m\u001b[1;33m\u001b[0m\u001b[0m\n\u001b[1;32m-> 3887\u001b[1;33m                 \u001b[0mobj\u001b[0m \u001b[1;33m=\u001b[0m \u001b[0mobj\u001b[0m\u001b[1;33m.\u001b[0m\u001b[0m_drop_axis\u001b[0m\u001b[1;33m(\u001b[0m\u001b[0mlabels\u001b[0m\u001b[1;33m,\u001b[0m \u001b[0maxis\u001b[0m\u001b[1;33m,\u001b[0m \u001b[0mlevel\u001b[0m\u001b[1;33m=\u001b[0m\u001b[0mlevel\u001b[0m\u001b[1;33m,\u001b[0m \u001b[0merrors\u001b[0m\u001b[1;33m=\u001b[0m\u001b[0merrors\u001b[0m\u001b[1;33m)\u001b[0m\u001b[1;33m\u001b[0m\u001b[1;33m\u001b[0m\u001b[0m\n\u001b[0m\u001b[0;32m   3888\u001b[0m \u001b[1;33m\u001b[0m\u001b[0m\n\u001b[0;32m   3889\u001b[0m         \u001b[1;32mif\u001b[0m \u001b[0minplace\u001b[0m\u001b[1;33m:\u001b[0m\u001b[1;33m\u001b[0m\u001b[1;33m\u001b[0m\u001b[0m\n",
      "\u001b[1;32m~\\Anaconda3\\lib\\site-packages\\pandas\\core\\generic.py\u001b[0m in \u001b[0;36m_drop_axis\u001b[1;34m(self, labels, axis, level, errors)\u001b[0m\n\u001b[0;32m   3919\u001b[0m                 \u001b[0mnew_axis\u001b[0m \u001b[1;33m=\u001b[0m \u001b[0maxis\u001b[0m\u001b[1;33m.\u001b[0m\u001b[0mdrop\u001b[0m\u001b[1;33m(\u001b[0m\u001b[0mlabels\u001b[0m\u001b[1;33m,\u001b[0m \u001b[0mlevel\u001b[0m\u001b[1;33m=\u001b[0m\u001b[0mlevel\u001b[0m\u001b[1;33m,\u001b[0m \u001b[0merrors\u001b[0m\u001b[1;33m=\u001b[0m\u001b[0merrors\u001b[0m\u001b[1;33m)\u001b[0m\u001b[1;33m\u001b[0m\u001b[1;33m\u001b[0m\u001b[0m\n\u001b[0;32m   3920\u001b[0m             \u001b[1;32melse\u001b[0m\u001b[1;33m:\u001b[0m\u001b[1;33m\u001b[0m\u001b[1;33m\u001b[0m\u001b[0m\n\u001b[1;32m-> 3921\u001b[1;33m                 \u001b[0mnew_axis\u001b[0m \u001b[1;33m=\u001b[0m \u001b[0maxis\u001b[0m\u001b[1;33m.\u001b[0m\u001b[0mdrop\u001b[0m\u001b[1;33m(\u001b[0m\u001b[0mlabels\u001b[0m\u001b[1;33m,\u001b[0m \u001b[0merrors\u001b[0m\u001b[1;33m=\u001b[0m\u001b[0merrors\u001b[0m\u001b[1;33m)\u001b[0m\u001b[1;33m\u001b[0m\u001b[1;33m\u001b[0m\u001b[0m\n\u001b[0m\u001b[0;32m   3922\u001b[0m             \u001b[0mresult\u001b[0m \u001b[1;33m=\u001b[0m \u001b[0mself\u001b[0m\u001b[1;33m.\u001b[0m\u001b[0mreindex\u001b[0m\u001b[1;33m(\u001b[0m\u001b[1;33m**\u001b[0m\u001b[1;33m{\u001b[0m\u001b[0maxis_name\u001b[0m\u001b[1;33m:\u001b[0m \u001b[0mnew_axis\u001b[0m\u001b[1;33m}\u001b[0m\u001b[1;33m)\u001b[0m\u001b[1;33m\u001b[0m\u001b[1;33m\u001b[0m\u001b[0m\n\u001b[0;32m   3923\u001b[0m \u001b[1;33m\u001b[0m\u001b[0m\n",
      "\u001b[1;32m~\\Anaconda3\\lib\\site-packages\\pandas\\core\\indexes\\base.py\u001b[0m in \u001b[0;36mdrop\u001b[1;34m(self, labels, errors)\u001b[0m\n\u001b[0;32m   5280\u001b[0m         \u001b[1;32mif\u001b[0m \u001b[0mmask\u001b[0m\u001b[1;33m.\u001b[0m\u001b[0many\u001b[0m\u001b[1;33m(\u001b[0m\u001b[1;33m)\u001b[0m\u001b[1;33m:\u001b[0m\u001b[1;33m\u001b[0m\u001b[1;33m\u001b[0m\u001b[0m\n\u001b[0;32m   5281\u001b[0m             \u001b[1;32mif\u001b[0m \u001b[0merrors\u001b[0m \u001b[1;33m!=\u001b[0m \u001b[1;34m\"ignore\"\u001b[0m\u001b[1;33m:\u001b[0m\u001b[1;33m\u001b[0m\u001b[1;33m\u001b[0m\u001b[0m\n\u001b[1;32m-> 5282\u001b[1;33m                 \u001b[1;32mraise\u001b[0m \u001b[0mKeyError\u001b[0m\u001b[1;33m(\u001b[0m\u001b[1;34mf\"{labels[mask]} not found in axis\"\u001b[0m\u001b[1;33m)\u001b[0m\u001b[1;33m\u001b[0m\u001b[1;33m\u001b[0m\u001b[0m\n\u001b[0m\u001b[0;32m   5283\u001b[0m             \u001b[0mindexer\u001b[0m \u001b[1;33m=\u001b[0m \u001b[0mindexer\u001b[0m\u001b[1;33m[\u001b[0m\u001b[1;33m~\u001b[0m\u001b[0mmask\u001b[0m\u001b[1;33m]\u001b[0m\u001b[1;33m\u001b[0m\u001b[1;33m\u001b[0m\u001b[0m\n\u001b[0;32m   5284\u001b[0m         \u001b[1;32mreturn\u001b[0m \u001b[0mself\u001b[0m\u001b[1;33m.\u001b[0m\u001b[0mdelete\u001b[0m\u001b[1;33m(\u001b[0m\u001b[0mindexer\u001b[0m\u001b[1;33m)\u001b[0m\u001b[1;33m\u001b[0m\u001b[1;33m\u001b[0m\u001b[0m\n",
      "\u001b[1;31mKeyError\u001b[0m: \"['first col'] not found in axis\""
     ]
    }
   ],
   "source": [
    "# we can remove columns or rows from a dataframe\n",
    "df3.drop('first col',axis=1,inplace=True)"
   ]
  },
  {
   "cell_type": "code",
   "execution_count": 46,
   "metadata": {},
   "outputs": [
    {
     "data": {
      "text/html": [
       "<div>\n",
       "<style scoped>\n",
       "    .dataframe tbody tr th:only-of-type {\n",
       "        vertical-align: middle;\n",
       "    }\n",
       "\n",
       "    .dataframe tbody tr th {\n",
       "        vertical-align: top;\n",
       "    }\n",
       "\n",
       "    .dataframe thead th {\n",
       "        text-align: right;\n",
       "    }\n",
       "</style>\n",
       "<table border=\"1\" class=\"dataframe\">\n",
       "  <thead>\n",
       "    <tr style=\"text-align: right;\">\n",
       "      <th></th>\n",
       "      <th>first col</th>\n",
       "      <th>second col</th>\n",
       "      <th>third col</th>\n",
       "      <th>fourth col</th>\n",
       "      <th>fifth col</th>\n",
       "      <th>sixth col</th>\n",
       "    </tr>\n",
       "  </thead>\n",
       "  <tbody>\n",
       "    <tr>\n",
       "      <th>first row</th>\n",
       "      <td>0.114805</td>\n",
       "      <td>-0.156721</td>\n",
       "      <td>0.460685</td>\n",
       "      <td>-0.624799</td>\n",
       "      <td>0.031447</td>\n",
       "      <td>-1.169138</td>\n",
       "    </tr>\n",
       "    <tr>\n",
       "      <th>second row</th>\n",
       "      <td>-0.269686</td>\n",
       "      <td>0.154850</td>\n",
       "      <td>-0.273914</td>\n",
       "      <td>-0.250234</td>\n",
       "      <td>-0.305364</td>\n",
       "      <td>-0.083714</td>\n",
       "    </tr>\n",
       "    <tr>\n",
       "      <th>third row</th>\n",
       "      <td>-1.156688</td>\n",
       "      <td>0.154720</td>\n",
       "      <td>0.252347</td>\n",
       "      <td>-1.154788</td>\n",
       "      <td>0.367549</td>\n",
       "      <td>0.589082</td>\n",
       "    </tr>\n",
       "    <tr>\n",
       "      <th>fourth row</th>\n",
       "      <td>0.510674</td>\n",
       "      <td>-0.301236</td>\n",
       "      <td>1.482755</td>\n",
       "      <td>-0.001274</td>\n",
       "      <td>0.420024</td>\n",
       "      <td>0.723523</td>\n",
       "    </tr>\n",
       "    <tr>\n",
       "      <th>fifth row</th>\n",
       "      <td>-0.259813</td>\n",
       "      <td>-0.214607</td>\n",
       "      <td>-0.241380</td>\n",
       "      <td>-0.014989</td>\n",
       "      <td>-1.649892</td>\n",
       "      <td>1.293339</td>\n",
       "    </tr>\n",
       "  </tbody>\n",
       "</table>\n",
       "</div>"
      ],
      "text/plain": [
       "            first col  second col  third col  fourth col  fifth col  sixth col\n",
       "first row    0.114805   -0.156721   0.460685   -0.624799   0.031447  -1.169138\n",
       "second row  -0.269686    0.154850  -0.273914   -0.250234  -0.305364  -0.083714\n",
       "third row   -1.156688    0.154720   0.252347   -1.154788   0.367549   0.589082\n",
       "fourth row   0.510674   -0.301236   1.482755   -0.001274   0.420024   0.723523\n",
       "fifth row   -0.259813   -0.214607  -0.241380   -0.014989  -1.649892   1.293339"
      ]
     },
     "execution_count": 46,
     "metadata": {},
     "output_type": "execute_result"
    }
   ],
   "source": [
    "df3"
   ]
  },
  {
   "cell_type": "code",
   "execution_count": 47,
   "metadata": {},
   "outputs": [
    {
     "data": {
      "text/html": [
       "<div>\n",
       "<style scoped>\n",
       "    .dataframe tbody tr th:only-of-type {\n",
       "        vertical-align: middle;\n",
       "    }\n",
       "\n",
       "    .dataframe tbody tr th {\n",
       "        vertical-align: top;\n",
       "    }\n",
       "\n",
       "    .dataframe thead th {\n",
       "        text-align: right;\n",
       "    }\n",
       "</style>\n",
       "<table border=\"1\" class=\"dataframe\">\n",
       "  <thead>\n",
       "    <tr style=\"text-align: right;\">\n",
       "      <th></th>\n",
       "      <th>second col</th>\n",
       "      <th>third col</th>\n",
       "      <th>fourth col</th>\n",
       "      <th>fifth col</th>\n",
       "      <th>sixth col</th>\n",
       "    </tr>\n",
       "  </thead>\n",
       "  <tbody>\n",
       "    <tr>\n",
       "      <th>first row</th>\n",
       "      <td>-0.156721</td>\n",
       "      <td>0.460685</td>\n",
       "      <td>-0.624799</td>\n",
       "      <td>0.031447</td>\n",
       "      <td>-1.169138</td>\n",
       "    </tr>\n",
       "    <tr>\n",
       "      <th>second row</th>\n",
       "      <td>0.154850</td>\n",
       "      <td>-0.273914</td>\n",
       "      <td>-0.250234</td>\n",
       "      <td>-0.305364</td>\n",
       "      <td>-0.083714</td>\n",
       "    </tr>\n",
       "    <tr>\n",
       "      <th>third row</th>\n",
       "      <td>0.154720</td>\n",
       "      <td>0.252347</td>\n",
       "      <td>-1.154788</td>\n",
       "      <td>0.367549</td>\n",
       "      <td>0.589082</td>\n",
       "    </tr>\n",
       "    <tr>\n",
       "      <th>fourth row</th>\n",
       "      <td>-0.301236</td>\n",
       "      <td>1.482755</td>\n",
       "      <td>-0.001274</td>\n",
       "      <td>0.420024</td>\n",
       "      <td>0.723523</td>\n",
       "    </tr>\n",
       "    <tr>\n",
       "      <th>fifth row</th>\n",
       "      <td>-0.214607</td>\n",
       "      <td>-0.241380</td>\n",
       "      <td>-0.014989</td>\n",
       "      <td>-1.649892</td>\n",
       "      <td>1.293339</td>\n",
       "    </tr>\n",
       "  </tbody>\n",
       "</table>\n",
       "</div>"
      ],
      "text/plain": [
       "            second col  third col  fourth col  fifth col  sixth col\n",
       "first row    -0.156721   0.460685   -0.624799   0.031447  -1.169138\n",
       "second row    0.154850  -0.273914   -0.250234  -0.305364  -0.083714\n",
       "third row     0.154720   0.252347   -1.154788   0.367549   0.589082\n",
       "fourth row   -0.301236   1.482755   -0.001274   0.420024   0.723523\n",
       "fifth row    -0.214607  -0.241380   -0.014989  -1.649892   1.293339"
      ]
     },
     "execution_count": 47,
     "metadata": {},
     "output_type": "execute_result"
    }
   ],
   "source": [
    "df4 = df3.drop('first col',axis=1)\n",
    "df4"
   ]
  },
  {
   "cell_type": "code",
   "execution_count": 48,
   "metadata": {},
   "outputs": [
    {
     "data": {
      "text/html": [
       "<div>\n",
       "<style scoped>\n",
       "    .dataframe tbody tr th:only-of-type {\n",
       "        vertical-align: middle;\n",
       "    }\n",
       "\n",
       "    .dataframe tbody tr th {\n",
       "        vertical-align: top;\n",
       "    }\n",
       "\n",
       "    .dataframe thead th {\n",
       "        text-align: right;\n",
       "    }\n",
       "</style>\n",
       "<table border=\"1\" class=\"dataframe\">\n",
       "  <thead>\n",
       "    <tr style=\"text-align: right;\">\n",
       "      <th></th>\n",
       "      <th>first col</th>\n",
       "      <th>second col</th>\n",
       "      <th>third col</th>\n",
       "      <th>fourth col</th>\n",
       "      <th>fifth col</th>\n",
       "      <th>sixth col</th>\n",
       "    </tr>\n",
       "  </thead>\n",
       "  <tbody>\n",
       "    <tr>\n",
       "      <th>first row</th>\n",
       "      <td>0.114805</td>\n",
       "      <td>-0.156721</td>\n",
       "      <td>0.460685</td>\n",
       "      <td>-0.624799</td>\n",
       "      <td>0.031447</td>\n",
       "      <td>-1.169138</td>\n",
       "    </tr>\n",
       "    <tr>\n",
       "      <th>third row</th>\n",
       "      <td>-1.156688</td>\n",
       "      <td>0.154720</td>\n",
       "      <td>0.252347</td>\n",
       "      <td>-1.154788</td>\n",
       "      <td>0.367549</td>\n",
       "      <td>0.589082</td>\n",
       "    </tr>\n",
       "    <tr>\n",
       "      <th>fourth row</th>\n",
       "      <td>0.510674</td>\n",
       "      <td>-0.301236</td>\n",
       "      <td>1.482755</td>\n",
       "      <td>-0.001274</td>\n",
       "      <td>0.420024</td>\n",
       "      <td>0.723523</td>\n",
       "    </tr>\n",
       "    <tr>\n",
       "      <th>fifth row</th>\n",
       "      <td>-0.259813</td>\n",
       "      <td>-0.214607</td>\n",
       "      <td>-0.241380</td>\n",
       "      <td>-0.014989</td>\n",
       "      <td>-1.649892</td>\n",
       "      <td>1.293339</td>\n",
       "    </tr>\n",
       "  </tbody>\n",
       "</table>\n",
       "</div>"
      ],
      "text/plain": [
       "            first col  second col  third col  fourth col  fifth col  sixth col\n",
       "first row    0.114805   -0.156721   0.460685   -0.624799   0.031447  -1.169138\n",
       "third row   -1.156688    0.154720   0.252347   -1.154788   0.367549   0.589082\n",
       "fourth row   0.510674   -0.301236   1.482755   -0.001274   0.420024   0.723523\n",
       "fifth row   -0.259813   -0.214607  -0.241380   -0.014989  -1.649892   1.293339"
      ]
     },
     "execution_count": 48,
     "metadata": {},
     "output_type": "execute_result"
    }
   ],
   "source": [
    "df5 = df3.drop('second row',axis=0)\n",
    "df5"
   ]
  },
  {
   "cell_type": "code",
   "execution_count": 49,
   "metadata": {},
   "outputs": [
    {
     "data": {
      "text/html": [
       "<div>\n",
       "<style scoped>\n",
       "    .dataframe tbody tr th:only-of-type {\n",
       "        vertical-align: middle;\n",
       "    }\n",
       "\n",
       "    .dataframe tbody tr th {\n",
       "        vertical-align: top;\n",
       "    }\n",
       "\n",
       "    .dataframe thead th {\n",
       "        text-align: right;\n",
       "    }\n",
       "</style>\n",
       "<table border=\"1\" class=\"dataframe\">\n",
       "  <thead>\n",
       "    <tr style=\"text-align: right;\">\n",
       "      <th></th>\n",
       "      <th>index</th>\n",
       "      <th>first col</th>\n",
       "      <th>second col</th>\n",
       "      <th>third col</th>\n",
       "      <th>fourth col</th>\n",
       "      <th>fifth col</th>\n",
       "      <th>sixth col</th>\n",
       "    </tr>\n",
       "  </thead>\n",
       "  <tbody>\n",
       "    <tr>\n",
       "      <th>0</th>\n",
       "      <td>first row</td>\n",
       "      <td>0.114805</td>\n",
       "      <td>-0.156721</td>\n",
       "      <td>0.460685</td>\n",
       "      <td>-0.624799</td>\n",
       "      <td>0.031447</td>\n",
       "      <td>-1.169138</td>\n",
       "    </tr>\n",
       "    <tr>\n",
       "      <th>1</th>\n",
       "      <td>third row</td>\n",
       "      <td>-1.156688</td>\n",
       "      <td>0.154720</td>\n",
       "      <td>0.252347</td>\n",
       "      <td>-1.154788</td>\n",
       "      <td>0.367549</td>\n",
       "      <td>0.589082</td>\n",
       "    </tr>\n",
       "    <tr>\n",
       "      <th>2</th>\n",
       "      <td>fourth row</td>\n",
       "      <td>0.510674</td>\n",
       "      <td>-0.301236</td>\n",
       "      <td>1.482755</td>\n",
       "      <td>-0.001274</td>\n",
       "      <td>0.420024</td>\n",
       "      <td>0.723523</td>\n",
       "    </tr>\n",
       "    <tr>\n",
       "      <th>3</th>\n",
       "      <td>fifth row</td>\n",
       "      <td>-0.259813</td>\n",
       "      <td>-0.214607</td>\n",
       "      <td>-0.241380</td>\n",
       "      <td>-0.014989</td>\n",
       "      <td>-1.649892</td>\n",
       "      <td>1.293339</td>\n",
       "    </tr>\n",
       "  </tbody>\n",
       "</table>\n",
       "</div>"
      ],
      "text/plain": [
       "        index  first col  second col  third col  fourth col  fifth col  \\\n",
       "0   first row   0.114805   -0.156721   0.460685   -0.624799   0.031447   \n",
       "1   third row  -1.156688    0.154720   0.252347   -1.154788   0.367549   \n",
       "2  fourth row   0.510674   -0.301236   1.482755   -0.001274   0.420024   \n",
       "3   fifth row  -0.259813   -0.214607  -0.241380   -0.014989  -1.649892   \n",
       "\n",
       "   sixth col  \n",
       "0  -1.169138  \n",
       "1   0.589082  \n",
       "2   0.723523  \n",
       "3   1.293339  "
      ]
     },
     "execution_count": 49,
     "metadata": {},
     "output_type": "execute_result"
    }
   ],
   "source": [
    "# we can remove a dataframe's index labels\n",
    "df5.reset_index()"
   ]
  },
  {
   "cell_type": "code",
   "execution_count": 56,
   "metadata": {},
   "outputs": [
    {
     "data": {
      "text/html": [
       "<div>\n",
       "<style scoped>\n",
       "    .dataframe tbody tr th:only-of-type {\n",
       "        vertical-align: middle;\n",
       "    }\n",
       "\n",
       "    .dataframe tbody tr th {\n",
       "        vertical-align: top;\n",
       "    }\n",
       "\n",
       "    .dataframe thead th {\n",
       "        text-align: right;\n",
       "    }\n",
       "</style>\n",
       "<table border=\"1\" class=\"dataframe\">\n",
       "  <thead>\n",
       "    <tr style=\"text-align: right;\">\n",
       "      <th></th>\n",
       "      <th>index</th>\n",
       "      <th>first col</th>\n",
       "      <th>second col</th>\n",
       "      <th>third col</th>\n",
       "      <th>fourth col</th>\n",
       "      <th>fifth col</th>\n",
       "      <th>sixth col</th>\n",
       "    </tr>\n",
       "    <tr>\n",
       "      <th>new name</th>\n",
       "      <th></th>\n",
       "      <th></th>\n",
       "      <th></th>\n",
       "      <th></th>\n",
       "      <th></th>\n",
       "      <th></th>\n",
       "      <th></th>\n",
       "    </tr>\n",
       "  </thead>\n",
       "  <tbody>\n",
       "    <tr>\n",
       "      <th>This</th>\n",
       "      <td>first row</td>\n",
       "      <td>0.114805</td>\n",
       "      <td>-0.156721</td>\n",
       "      <td>0.460685</td>\n",
       "      <td>-0.624799</td>\n",
       "      <td>0.031447</td>\n",
       "      <td>-1.169138</td>\n",
       "    </tr>\n",
       "    <tr>\n",
       "      <th>is</th>\n",
       "      <td>third row</td>\n",
       "      <td>-1.156688</td>\n",
       "      <td>0.154720</td>\n",
       "      <td>0.252347</td>\n",
       "      <td>-1.154788</td>\n",
       "      <td>0.367549</td>\n",
       "      <td>0.589082</td>\n",
       "    </tr>\n",
       "    <tr>\n",
       "      <th>the</th>\n",
       "      <td>fourth row</td>\n",
       "      <td>0.510674</td>\n",
       "      <td>-0.301236</td>\n",
       "      <td>1.482755</td>\n",
       "      <td>-0.001274</td>\n",
       "      <td>0.420024</td>\n",
       "      <td>0.723523</td>\n",
       "    </tr>\n",
       "    <tr>\n",
       "      <th>row</th>\n",
       "      <td>fifth row</td>\n",
       "      <td>-0.259813</td>\n",
       "      <td>-0.214607</td>\n",
       "      <td>-0.241380</td>\n",
       "      <td>-0.014989</td>\n",
       "      <td>-1.649892</td>\n",
       "      <td>1.293339</td>\n",
       "    </tr>\n",
       "  </tbody>\n",
       "</table>\n",
       "</div>"
      ],
      "text/plain": [
       "               index  first col  second col  third col  fourth col  fifth col  \\\n",
       "new name                                                                        \n",
       "This       first row   0.114805   -0.156721   0.460685   -0.624799   0.031447   \n",
       "is         third row  -1.156688    0.154720   0.252347   -1.154788   0.367549   \n",
       "the       fourth row   0.510674   -0.301236   1.482755   -0.001274   0.420024   \n",
       "row        fifth row  -0.259813   -0.214607  -0.241380   -0.014989  -1.649892   \n",
       "\n",
       "          sixth col  \n",
       "new name             \n",
       "This      -1.169138  \n",
       "is         0.589082  \n",
       "the        0.723523  \n",
       "row        1.293339  "
      ]
     },
     "execution_count": 56,
     "metadata": {},
     "output_type": "execute_result"
    }
   ],
   "source": [
    "df5"
   ]
  },
  {
   "cell_type": "code",
   "execution_count": 51,
   "metadata": {},
   "outputs": [
    {
     "data": {
      "text/html": [
       "<div>\n",
       "<style scoped>\n",
       "    .dataframe tbody tr th:only-of-type {\n",
       "        vertical-align: middle;\n",
       "    }\n",
       "\n",
       "    .dataframe tbody tr th {\n",
       "        vertical-align: top;\n",
       "    }\n",
       "\n",
       "    .dataframe thead th {\n",
       "        text-align: right;\n",
       "    }\n",
       "</style>\n",
       "<table border=\"1\" class=\"dataframe\">\n",
       "  <thead>\n",
       "    <tr style=\"text-align: right;\">\n",
       "      <th></th>\n",
       "      <th>index</th>\n",
       "      <th>first col</th>\n",
       "      <th>second col</th>\n",
       "      <th>third col</th>\n",
       "      <th>fourth col</th>\n",
       "      <th>fifth col</th>\n",
       "      <th>sixth col</th>\n",
       "    </tr>\n",
       "  </thead>\n",
       "  <tbody>\n",
       "    <tr>\n",
       "      <th>0</th>\n",
       "      <td>first row</td>\n",
       "      <td>0.114805</td>\n",
       "      <td>-0.156721</td>\n",
       "      <td>0.460685</td>\n",
       "      <td>-0.624799</td>\n",
       "      <td>0.031447</td>\n",
       "      <td>-1.169138</td>\n",
       "    </tr>\n",
       "    <tr>\n",
       "      <th>1</th>\n",
       "      <td>third row</td>\n",
       "      <td>-1.156688</td>\n",
       "      <td>0.154720</td>\n",
       "      <td>0.252347</td>\n",
       "      <td>-1.154788</td>\n",
       "      <td>0.367549</td>\n",
       "      <td>0.589082</td>\n",
       "    </tr>\n",
       "    <tr>\n",
       "      <th>2</th>\n",
       "      <td>fourth row</td>\n",
       "      <td>0.510674</td>\n",
       "      <td>-0.301236</td>\n",
       "      <td>1.482755</td>\n",
       "      <td>-0.001274</td>\n",
       "      <td>0.420024</td>\n",
       "      <td>0.723523</td>\n",
       "    </tr>\n",
       "    <tr>\n",
       "      <th>3</th>\n",
       "      <td>fifth row</td>\n",
       "      <td>-0.259813</td>\n",
       "      <td>-0.214607</td>\n",
       "      <td>-0.241380</td>\n",
       "      <td>-0.014989</td>\n",
       "      <td>-1.649892</td>\n",
       "      <td>1.293339</td>\n",
       "    </tr>\n",
       "  </tbody>\n",
       "</table>\n",
       "</div>"
      ],
      "text/plain": [
       "        index  first col  second col  third col  fourth col  fifth col  \\\n",
       "0   first row   0.114805   -0.156721   0.460685   -0.624799   0.031447   \n",
       "1   third row  -1.156688    0.154720   0.252347   -1.154788   0.367549   \n",
       "2  fourth row   0.510674   -0.301236   1.482755   -0.001274   0.420024   \n",
       "3   fifth row  -0.259813   -0.214607  -0.241380   -0.014989  -1.649892   \n",
       "\n",
       "   sixth col  \n",
       "0  -1.169138  \n",
       "1   0.589082  \n",
       "2   0.723523  \n",
       "3   1.293339  "
      ]
     },
     "execution_count": 51,
     "metadata": {},
     "output_type": "execute_result"
    }
   ],
   "source": [
    "df5.reset_index(inplace=True)\n",
    "df5"
   ]
  },
  {
   "cell_type": "code",
   "execution_count": 53,
   "metadata": {},
   "outputs": [
    {
     "data": {
      "text/html": [
       "<div>\n",
       "<style scoped>\n",
       "    .dataframe tbody tr th:only-of-type {\n",
       "        vertical-align: middle;\n",
       "    }\n",
       "\n",
       "    .dataframe tbody tr th {\n",
       "        vertical-align: top;\n",
       "    }\n",
       "\n",
       "    .dataframe thead th {\n",
       "        text-align: right;\n",
       "    }\n",
       "</style>\n",
       "<table border=\"1\" class=\"dataframe\">\n",
       "  <thead>\n",
       "    <tr style=\"text-align: right;\">\n",
       "      <th></th>\n",
       "      <th>index</th>\n",
       "      <th>first col</th>\n",
       "      <th>second col</th>\n",
       "      <th>third col</th>\n",
       "      <th>fourth col</th>\n",
       "      <th>fifth col</th>\n",
       "      <th>sixth col</th>\n",
       "      <th>new name</th>\n",
       "    </tr>\n",
       "  </thead>\n",
       "  <tbody>\n",
       "    <tr>\n",
       "      <th>0</th>\n",
       "      <td>first row</td>\n",
       "      <td>0.114805</td>\n",
       "      <td>-0.156721</td>\n",
       "      <td>0.460685</td>\n",
       "      <td>-0.624799</td>\n",
       "      <td>0.031447</td>\n",
       "      <td>-1.169138</td>\n",
       "      <td>This</td>\n",
       "    </tr>\n",
       "    <tr>\n",
       "      <th>1</th>\n",
       "      <td>third row</td>\n",
       "      <td>-1.156688</td>\n",
       "      <td>0.154720</td>\n",
       "      <td>0.252347</td>\n",
       "      <td>-1.154788</td>\n",
       "      <td>0.367549</td>\n",
       "      <td>0.589082</td>\n",
       "      <td>is</td>\n",
       "    </tr>\n",
       "    <tr>\n",
       "      <th>2</th>\n",
       "      <td>fourth row</td>\n",
       "      <td>0.510674</td>\n",
       "      <td>-0.301236</td>\n",
       "      <td>1.482755</td>\n",
       "      <td>-0.001274</td>\n",
       "      <td>0.420024</td>\n",
       "      <td>0.723523</td>\n",
       "      <td>the</td>\n",
       "    </tr>\n",
       "    <tr>\n",
       "      <th>3</th>\n",
       "      <td>fifth row</td>\n",
       "      <td>-0.259813</td>\n",
       "      <td>-0.214607</td>\n",
       "      <td>-0.241380</td>\n",
       "      <td>-0.014989</td>\n",
       "      <td>-1.649892</td>\n",
       "      <td>1.293339</td>\n",
       "      <td>row</td>\n",
       "    </tr>\n",
       "  </tbody>\n",
       "</table>\n",
       "</div>"
      ],
      "text/plain": [
       "        index  first col  second col  third col  fourth col  fifth col  \\\n",
       "0   first row   0.114805   -0.156721   0.460685   -0.624799   0.031447   \n",
       "1   third row  -1.156688    0.154720   0.252347   -1.154788   0.367549   \n",
       "2  fourth row   0.510674   -0.301236   1.482755   -0.001274   0.420024   \n",
       "3   fifth row  -0.259813   -0.214607  -0.241380   -0.014989  -1.649892   \n",
       "\n",
       "   sixth col new name  \n",
       "0  -1.169138     This  \n",
       "1   0.589082       is  \n",
       "2   0.723523      the  \n",
       "3   1.293339      row  "
      ]
     },
     "execution_count": 53,
     "metadata": {},
     "output_type": "execute_result"
    }
   ],
   "source": [
    "# we can assign new names to the index\n",
    "df5['new name'] = ['This','is','the','row']\n",
    "df5\n"
   ]
  },
  {
   "cell_type": "code",
   "execution_count": 55,
   "metadata": {
    "scrolled": true
   },
   "outputs": [
    {
     "data": {
      "text/html": [
       "<div>\n",
       "<style scoped>\n",
       "    .dataframe tbody tr th:only-of-type {\n",
       "        vertical-align: middle;\n",
       "    }\n",
       "\n",
       "    .dataframe tbody tr th {\n",
       "        vertical-align: top;\n",
       "    }\n",
       "\n",
       "    .dataframe thead th {\n",
       "        text-align: right;\n",
       "    }\n",
       "</style>\n",
       "<table border=\"1\" class=\"dataframe\">\n",
       "  <thead>\n",
       "    <tr style=\"text-align: right;\">\n",
       "      <th></th>\n",
       "      <th>index</th>\n",
       "      <th>first col</th>\n",
       "      <th>second col</th>\n",
       "      <th>third col</th>\n",
       "      <th>fourth col</th>\n",
       "      <th>fifth col</th>\n",
       "      <th>sixth col</th>\n",
       "    </tr>\n",
       "    <tr>\n",
       "      <th>new name</th>\n",
       "      <th></th>\n",
       "      <th></th>\n",
       "      <th></th>\n",
       "      <th></th>\n",
       "      <th></th>\n",
       "      <th></th>\n",
       "      <th></th>\n",
       "    </tr>\n",
       "  </thead>\n",
       "  <tbody>\n",
       "    <tr>\n",
       "      <th>This</th>\n",
       "      <td>first row</td>\n",
       "      <td>0.114805</td>\n",
       "      <td>-0.156721</td>\n",
       "      <td>0.460685</td>\n",
       "      <td>-0.624799</td>\n",
       "      <td>0.031447</td>\n",
       "      <td>-1.169138</td>\n",
       "    </tr>\n",
       "    <tr>\n",
       "      <th>is</th>\n",
       "      <td>third row</td>\n",
       "      <td>-1.156688</td>\n",
       "      <td>0.154720</td>\n",
       "      <td>0.252347</td>\n",
       "      <td>-1.154788</td>\n",
       "      <td>0.367549</td>\n",
       "      <td>0.589082</td>\n",
       "    </tr>\n",
       "    <tr>\n",
       "      <th>the</th>\n",
       "      <td>fourth row</td>\n",
       "      <td>0.510674</td>\n",
       "      <td>-0.301236</td>\n",
       "      <td>1.482755</td>\n",
       "      <td>-0.001274</td>\n",
       "      <td>0.420024</td>\n",
       "      <td>0.723523</td>\n",
       "    </tr>\n",
       "    <tr>\n",
       "      <th>row</th>\n",
       "      <td>fifth row</td>\n",
       "      <td>-0.259813</td>\n",
       "      <td>-0.214607</td>\n",
       "      <td>-0.241380</td>\n",
       "      <td>-0.014989</td>\n",
       "      <td>-1.649892</td>\n",
       "      <td>1.293339</td>\n",
       "    </tr>\n",
       "  </tbody>\n",
       "</table>\n",
       "</div>"
      ],
      "text/plain": [
       "               index  first col  second col  third col  fourth col  fifth col  \\\n",
       "new name                                                                        \n",
       "This       first row   0.114805   -0.156721   0.460685   -0.624799   0.031447   \n",
       "is         third row  -1.156688    0.154720   0.252347   -1.154788   0.367549   \n",
       "the       fourth row   0.510674   -0.301236   1.482755   -0.001274   0.420024   \n",
       "row        fifth row  -0.259813   -0.214607  -0.241380   -0.014989  -1.649892   \n",
       "\n",
       "          sixth col  \n",
       "new name             \n",
       "This      -1.169138  \n",
       "is         0.589082  \n",
       "the        0.723523  \n",
       "row        1.293339  "
      ]
     },
     "execution_count": 55,
     "metadata": {},
     "output_type": "execute_result"
    }
   ],
   "source": [
    "df5.set_index('new name',inplace=True)\n",
    "df5"
   ]
  },
  {
   "cell_type": "markdown",
   "metadata": {},
   "source": [
    "# Combining data frames\n",
    "\n",
    "The ways dataframes are combined in pandas is similar to SQL\n",
    "\n",
    "We will examine 3 methods for combining dataframes\n",
    "\n",
    "1. concat\n",
    "2. join\n",
    "3. merge"
   ]
  },
  {
   "cell_type": "code",
   "execution_count": 58,
   "metadata": {},
   "outputs": [],
   "source": [
    "\n",
    "\n",
    "df7 = pd.DataFrame({\"customer\":['101','102','103','104'], \n",
    "                    'category': ['cat2','cat2','cat1','cat3'],\n",
    "                    'important': ['yes','no','yes','yes'],\n",
    "                    'sales': [123,52,214,663]},index=[0,1,2,3])\n",
    "\n",
    "df8 = pd.DataFrame({\"customer\":['101','103','104','105'], \n",
    "                    'color': ['yellow','green','green','blue'],\n",
    "                    'distance': [12,9,44,21],\n",
    "                    'sales': [123,214,663,331]},index=[4,5,6,7])"
   ]
  },
  {
   "cell_type": "code",
   "execution_count": 61,
   "metadata": {},
   "outputs": [
    {
     "data": {
      "text/html": [
       "<div>\n",
       "<style scoped>\n",
       "    .dataframe tbody tr th:only-of-type {\n",
       "        vertical-align: middle;\n",
       "    }\n",
       "\n",
       "    .dataframe tbody tr th {\n",
       "        vertical-align: top;\n",
       "    }\n",
       "\n",
       "    .dataframe thead th {\n",
       "        text-align: right;\n",
       "    }\n",
       "</style>\n",
       "<table border=\"1\" class=\"dataframe\">\n",
       "  <thead>\n",
       "    <tr style=\"text-align: right;\">\n",
       "      <th></th>\n",
       "      <th>customer</th>\n",
       "      <th>category</th>\n",
       "      <th>important</th>\n",
       "      <th>sales</th>\n",
       "      <th>customer</th>\n",
       "      <th>color</th>\n",
       "      <th>distance</th>\n",
       "      <th>sales</th>\n",
       "    </tr>\n",
       "  </thead>\n",
       "  <tbody>\n",
       "    <tr>\n",
       "      <th>0</th>\n",
       "      <td>101</td>\n",
       "      <td>cat2</td>\n",
       "      <td>yes</td>\n",
       "      <td>123.0</td>\n",
       "      <td>NaN</td>\n",
       "      <td>NaN</td>\n",
       "      <td>NaN</td>\n",
       "      <td>NaN</td>\n",
       "    </tr>\n",
       "    <tr>\n",
       "      <th>1</th>\n",
       "      <td>102</td>\n",
       "      <td>cat2</td>\n",
       "      <td>no</td>\n",
       "      <td>52.0</td>\n",
       "      <td>NaN</td>\n",
       "      <td>NaN</td>\n",
       "      <td>NaN</td>\n",
       "      <td>NaN</td>\n",
       "    </tr>\n",
       "    <tr>\n",
       "      <th>2</th>\n",
       "      <td>103</td>\n",
       "      <td>cat1</td>\n",
       "      <td>yes</td>\n",
       "      <td>214.0</td>\n",
       "      <td>NaN</td>\n",
       "      <td>NaN</td>\n",
       "      <td>NaN</td>\n",
       "      <td>NaN</td>\n",
       "    </tr>\n",
       "    <tr>\n",
       "      <th>3</th>\n",
       "      <td>104</td>\n",
       "      <td>cat3</td>\n",
       "      <td>yes</td>\n",
       "      <td>663.0</td>\n",
       "      <td>NaN</td>\n",
       "      <td>NaN</td>\n",
       "      <td>NaN</td>\n",
       "      <td>NaN</td>\n",
       "    </tr>\n",
       "    <tr>\n",
       "      <th>4</th>\n",
       "      <td>NaN</td>\n",
       "      <td>NaN</td>\n",
       "      <td>NaN</td>\n",
       "      <td>NaN</td>\n",
       "      <td>101</td>\n",
       "      <td>yellow</td>\n",
       "      <td>12.0</td>\n",
       "      <td>123.0</td>\n",
       "    </tr>\n",
       "    <tr>\n",
       "      <th>5</th>\n",
       "      <td>NaN</td>\n",
       "      <td>NaN</td>\n",
       "      <td>NaN</td>\n",
       "      <td>NaN</td>\n",
       "      <td>103</td>\n",
       "      <td>green</td>\n",
       "      <td>9.0</td>\n",
       "      <td>214.0</td>\n",
       "    </tr>\n",
       "    <tr>\n",
       "      <th>6</th>\n",
       "      <td>NaN</td>\n",
       "      <td>NaN</td>\n",
       "      <td>NaN</td>\n",
       "      <td>NaN</td>\n",
       "      <td>104</td>\n",
       "      <td>green</td>\n",
       "      <td>44.0</td>\n",
       "      <td>663.0</td>\n",
       "    </tr>\n",
       "    <tr>\n",
       "      <th>7</th>\n",
       "      <td>NaN</td>\n",
       "      <td>NaN</td>\n",
       "      <td>NaN</td>\n",
       "      <td>NaN</td>\n",
       "      <td>105</td>\n",
       "      <td>blue</td>\n",
       "      <td>21.0</td>\n",
       "      <td>331.0</td>\n",
       "    </tr>\n",
       "  </tbody>\n",
       "</table>\n",
       "</div>"
      ],
      "text/plain": [
       "  customer category important  sales customer   color  distance  sales\n",
       "0      101     cat2       yes  123.0      NaN     NaN       NaN    NaN\n",
       "1      102     cat2        no   52.0      NaN     NaN       NaN    NaN\n",
       "2      103     cat1       yes  214.0      NaN     NaN       NaN    NaN\n",
       "3      104     cat3       yes  663.0      NaN     NaN       NaN    NaN\n",
       "4      NaN      NaN       NaN    NaN      101  yellow      12.0  123.0\n",
       "5      NaN      NaN       NaN    NaN      103   green       9.0  214.0\n",
       "6      NaN      NaN       NaN    NaN      104   green      44.0  663.0\n",
       "7      NaN      NaN       NaN    NaN      105    blue      21.0  331.0"
      ]
     },
     "execution_count": 61,
     "metadata": {},
     "output_type": "execute_result"
    }
   ],
   "source": [
    "pd.concat([df7,df8],axis=1,sort=False)"
   ]
  },
  {
   "cell_type": "code",
   "execution_count": 62,
   "metadata": {},
   "outputs": [
    {
     "data": {
      "text/html": [
       "<div>\n",
       "<style scoped>\n",
       "    .dataframe tbody tr th:only-of-type {\n",
       "        vertical-align: middle;\n",
       "    }\n",
       "\n",
       "    .dataframe tbody tr th {\n",
       "        vertical-align: top;\n",
       "    }\n",
       "\n",
       "    .dataframe thead th {\n",
       "        text-align: right;\n",
       "    }\n",
       "</style>\n",
       "<table border=\"1\" class=\"dataframe\">\n",
       "  <thead>\n",
       "    <tr style=\"text-align: right;\">\n",
       "      <th></th>\n",
       "      <th>category</th>\n",
       "      <th>color</th>\n",
       "      <th>customer</th>\n",
       "      <th>distance</th>\n",
       "      <th>important</th>\n",
       "      <th>sales</th>\n",
       "    </tr>\n",
       "  </thead>\n",
       "  <tbody>\n",
       "    <tr>\n",
       "      <th>0</th>\n",
       "      <td>cat2</td>\n",
       "      <td>NaN</td>\n",
       "      <td>101</td>\n",
       "      <td>NaN</td>\n",
       "      <td>yes</td>\n",
       "      <td>123</td>\n",
       "    </tr>\n",
       "    <tr>\n",
       "      <th>1</th>\n",
       "      <td>cat2</td>\n",
       "      <td>NaN</td>\n",
       "      <td>102</td>\n",
       "      <td>NaN</td>\n",
       "      <td>no</td>\n",
       "      <td>52</td>\n",
       "    </tr>\n",
       "    <tr>\n",
       "      <th>2</th>\n",
       "      <td>cat1</td>\n",
       "      <td>NaN</td>\n",
       "      <td>103</td>\n",
       "      <td>NaN</td>\n",
       "      <td>yes</td>\n",
       "      <td>214</td>\n",
       "    </tr>\n",
       "    <tr>\n",
       "      <th>3</th>\n",
       "      <td>cat3</td>\n",
       "      <td>NaN</td>\n",
       "      <td>104</td>\n",
       "      <td>NaN</td>\n",
       "      <td>yes</td>\n",
       "      <td>663</td>\n",
       "    </tr>\n",
       "    <tr>\n",
       "      <th>4</th>\n",
       "      <td>NaN</td>\n",
       "      <td>yellow</td>\n",
       "      <td>101</td>\n",
       "      <td>12.0</td>\n",
       "      <td>NaN</td>\n",
       "      <td>123</td>\n",
       "    </tr>\n",
       "    <tr>\n",
       "      <th>5</th>\n",
       "      <td>NaN</td>\n",
       "      <td>green</td>\n",
       "      <td>103</td>\n",
       "      <td>9.0</td>\n",
       "      <td>NaN</td>\n",
       "      <td>214</td>\n",
       "    </tr>\n",
       "    <tr>\n",
       "      <th>6</th>\n",
       "      <td>NaN</td>\n",
       "      <td>green</td>\n",
       "      <td>104</td>\n",
       "      <td>44.0</td>\n",
       "      <td>NaN</td>\n",
       "      <td>663</td>\n",
       "    </tr>\n",
       "    <tr>\n",
       "      <th>7</th>\n",
       "      <td>NaN</td>\n",
       "      <td>blue</td>\n",
       "      <td>105</td>\n",
       "      <td>21.0</td>\n",
       "      <td>NaN</td>\n",
       "      <td>331</td>\n",
       "    </tr>\n",
       "  </tbody>\n",
       "</table>\n",
       "</div>"
      ],
      "text/plain": [
       "  category   color customer  distance important  sales\n",
       "0     cat2     NaN      101       NaN       yes    123\n",
       "1     cat2     NaN      102       NaN        no     52\n",
       "2     cat1     NaN      103       NaN       yes    214\n",
       "3     cat3     NaN      104       NaN       yes    663\n",
       "4      NaN  yellow      101      12.0       NaN    123\n",
       "5      NaN   green      103       9.0       NaN    214\n",
       "6      NaN   green      104      44.0       NaN    663\n",
       "7      NaN    blue      105      21.0       NaN    331"
      ]
     },
     "execution_count": 62,
     "metadata": {},
     "output_type": "execute_result"
    }
   ],
   "source": [
    "pd.concat([df7,df8],axis=0,sort=True)"
   ]
  },
  {
   "cell_type": "code",
   "execution_count": null,
   "metadata": {},
   "outputs": [],
   "source": [
    "pd.concat([df7,df8],axis=1,sort=False)"
   ]
  },
  {
   "cell_type": "markdown",
   "metadata": {},
   "source": [
    "# Merge and Join\n",
    "\n",
    "Merge combines dataframes using a column's values to identify common entries\n",
    "\n",
    "Join combines dataframes using the index to identify common entries"
   ]
  },
  {
   "cell_type": "code",
   "execution_count": null,
   "metadata": {},
   "outputs": [],
   "source": [
    "pd.merge(df7,df8,how='outer',on='customer') # outer merge is union of on"
   ]
  },
  {
   "cell_type": "code",
   "execution_count": null,
   "metadata": {},
   "outputs": [],
   "source": [
    "pd.merge(df7,df8,how='inner',on='customer') # inner merge is intersection of on"
   ]
  },
  {
   "cell_type": "code",
   "execution_count": null,
   "metadata": {},
   "outputs": [],
   "source": [
    "pd.merge(df7,df8,how='right',on='customer') # left merge is just first on, but all columns ... right is second"
   ]
  },
  {
   "cell_type": "code",
   "execution_count": null,
   "metadata": {},
   "outputs": [],
   "source": [
    "df9 = pd.DataFrame({'Q1': [101,102,103],\n",
    "                    'Q2': [201,202,203]},\n",
    "                   index=['I0','I1','I2'])\n",
    "\n",
    "df10 = pd.DataFrame({'Q3': [301,302,303],\n",
    "                    'Q4': [401,402,403]},\n",
    "                   index=['I0','I2','I3'])"
   ]
  },
  {
   "cell_type": "code",
   "execution_count": null,
   "metadata": {},
   "outputs": [],
   "source": [
    "# join behaves just like merge, \n",
    "# except instead of using the values of one of the columns \n",
    "# to combine data frames, it uses the index labels\n",
    "df9.join(df10,how='right') # outer, inner, left, and right work the same as merge"
   ]
  },
  {
   "cell_type": "code",
   "execution_count": null,
   "metadata": {},
   "outputs": [],
   "source": [
    "# let's now go over a few more basic functialities of pandas\n",
    "\n",
    "df8['color'].unique()"
   ]
  },
  {
   "cell_type": "code",
   "execution_count": null,
   "metadata": {},
   "outputs": [],
   "source": [
    "df8['color'].value_counts()"
   ]
  },
  {
   "cell_type": "code",
   "execution_count": null,
   "metadata": {},
   "outputs": [],
   "source": [
    "df9.mean()"
   ]
  },
  {
   "cell_type": "code",
   "execution_count": null,
   "metadata": {},
   "outputs": [],
   "source": [
    "df8.columns"
   ]
  },
  {
   "cell_type": "code",
   "execution_count": null,
   "metadata": {},
   "outputs": [],
   "source": [
    "df8"
   ]
  },
  {
   "cell_type": "code",
   "execution_count": null,
   "metadata": {},
   "outputs": [],
   "source": [
    "new_df = df8[(df8['customer']!='105') & (df8['color']!='green')]\n",
    "new_df"
   ]
  },
  {
   "cell_type": "code",
   "execution_count": null,
   "metadata": {},
   "outputs": [],
   "source": [
    "print(df8['sales'].sum())\n",
    "print(df8['distance'].min())\n"
   ]
  },
  {
   "cell_type": "code",
   "execution_count": null,
   "metadata": {},
   "outputs": [],
   "source": [
    "def profit(s):\n",
    "    return s*0.5 # 50% markup..."
   ]
  },
  {
   "cell_type": "code",
   "execution_count": null,
   "metadata": {},
   "outputs": [],
   "source": [
    "df8['sales'].apply(profit)"
   ]
  },
  {
   "cell_type": "code",
   "execution_count": null,
   "metadata": {},
   "outputs": [],
   "source": [
    "df8['color'].apply(len)"
   ]
  },
  {
   "cell_type": "code",
   "execution_count": null,
   "metadata": {},
   "outputs": [],
   "source": [
    "df11 = df8[['distance','sales']]\n",
    "df11.applymap(profit)"
   ]
  },
  {
   "cell_type": "code",
   "execution_count": null,
   "metadata": {},
   "outputs": [],
   "source": [
    "def col_sum(co):\n",
    "    return sum(co)\n",
    "df11.apply(col_sum)"
   ]
  },
  {
   "cell_type": "code",
   "execution_count": null,
   "metadata": {},
   "outputs": [],
   "source": [
    "df11.applymap(col_sum)"
   ]
  },
  {
   "cell_type": "code",
   "execution_count": null,
   "metadata": {},
   "outputs": [],
   "source": [
    "del df8['color']\n",
    "df8"
   ]
  },
  {
   "cell_type": "code",
   "execution_count": null,
   "metadata": {},
   "outputs": [],
   "source": [
    "df8.index"
   ]
  },
  {
   "cell_type": "code",
   "execution_count": null,
   "metadata": {},
   "outputs": [],
   "source": [
    "df8.sort_values(by='distance',inplace=True)\n",
    "df8"
   ]
  },
  {
   "cell_type": "code",
   "execution_count": null,
   "metadata": {},
   "outputs": [],
   "source": [
    "df8"
   ]
  },
  {
   "cell_type": "code",
   "execution_count": null,
   "metadata": {},
   "outputs": [],
   "source": [
    "# if some series has multiple of the same value then we can group all the unique entries together\n",
    "mydict = {'customer': ['Customer 1','Customer 1','Customer2','Customer2','Customer3','Customer3'], \n",
    "          'product1': [1.1,2.1,3.8,4.2,5.5,6.9],\n",
    "          'product2': [8.2,9.1,11.1,5.2,44.66,983]}\n",
    "df6 = pd.DataFrame(mydict,index=['Purchase 1','Purchase 2','Purchase 3','Purchase 4','Purchase 5','Purchase 6'])\n",
    "df6"
   ]
  },
  {
   "cell_type": "code",
   "execution_count": null,
   "metadata": {},
   "outputs": [],
   "source": [
    "grouped_data = df6.groupby('customer')\n",
    "print(grouped_data)"
   ]
  },
  {
   "cell_type": "code",
   "execution_count": null,
   "metadata": {},
   "outputs": [],
   "source": [
    "grouped_data.std()"
   ]
  },
  {
   "cell_type": "code",
   "execution_count": null,
   "metadata": {},
   "outputs": [],
   "source": [
    "df8"
   ]
  },
  {
   "cell_type": "code",
   "execution_count": null,
   "metadata": {},
   "outputs": [],
   "source": [
    "# similar to numpy arrays, we can also save and load dataframes to csv files, and also Excel files\n",
    "\n",
    "df8.to_csv('df8.csv',index=True)"
   ]
  },
  {
   "cell_type": "code",
   "execution_count": null,
   "metadata": {},
   "outputs": [],
   "source": [
    "new_df8 = pd.read_csv('df8.csv',index_col=0)\n",
    "new_df8"
   ]
  },
  {
   "cell_type": "code",
   "execution_count": null,
   "metadata": {},
   "outputs": [],
   "source": [
    "df8.to_excel('df8.xlsx',index=False,sheet_name='first sheet')\n",
    "newer_df8 = pd.read_excel('df8.xlsx',sheet_name='first sheet',index_col=1)\n",
    "newer_df8"
   ]
  },
  {
   "cell_type": "code",
   "execution_count": null,
   "metadata": {},
   "outputs": [],
   "source": []
  }
 ],
 "metadata": {
  "kernelspec": {
   "display_name": "Python 3",
   "language": "python",
   "name": "python3"
  },
  "language_info": {
   "codemirror_mode": {
    "name": "ipython",
    "version": 3
   },
   "file_extension": ".py",
   "mimetype": "text/x-python",
   "name": "python",
   "nbconvert_exporter": "python",
   "pygments_lexer": "ipython3",
   "version": "3.8.5"
  }
 },
 "nbformat": 4,
 "nbformat_minor": 2
}
