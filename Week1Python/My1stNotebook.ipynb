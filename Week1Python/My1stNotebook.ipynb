{
 "cells": [
  {
   "cell_type": "code",
   "execution_count": 1,
   "metadata": {},
   "outputs": [
    {
     "ename": "TypeError",
     "evalue": "'builtin_function_or_method' object is not subscriptable",
     "output_type": "error",
     "traceback": [
      "\u001b[1;31m---------------------------------------------------------------------------\u001b[0m",
      "\u001b[1;31mTypeError\u001b[0m                                 Traceback (most recent call last)",
      "\u001b[1;32m<ipython-input-1-b04e0ce7a6ac>\u001b[0m in \u001b[0;36m<module>\u001b[1;34m\u001b[0m\n\u001b[1;32m----> 1\u001b[1;33m \u001b[0mprint\u001b[0m\u001b[1;33m[\u001b[0m\u001b[1;34m\"This is spartaaa!\"\u001b[0m\u001b[1;33m]\u001b[0m\u001b[1;33m\u001b[0m\u001b[1;33m\u001b[0m\u001b[0m\n\u001b[0m",
      "\u001b[1;31mTypeError\u001b[0m: 'builtin_function_or_method' object is not subscriptable"
     ]
    }
   ],
   "source": [
    "print[\"This is spartaaa!\"]"
   ]
  },
  {
   "cell_type": "code",
   "execution_count": 4,
   "metadata": {},
   "outputs": [
    {
     "name": "stdout",
     "output_type": "stream",
     "text": [
      "This is spartaaa!\n"
     ]
    }
   ],
   "source": [
    "print(\"This is spartaaa!\")"
   ]
  },
  {
   "cell_type": "code",
   "execution_count": 9,
   "metadata": {},
   "outputs": [
    {
     "ename": "NameError",
     "evalue": "name 'simple_list' is not defined",
     "output_type": "error",
     "traceback": [
      "\u001b[1;31m---------------------------------------------------------------------------\u001b[0m",
      "\u001b[1;31mNameError\u001b[0m                                 Traceback (most recent call last)",
      "\u001b[1;32m<ipython-input-9-dd16367e185b>\u001b[0m in \u001b[0;36m<module>\u001b[1;34m\u001b[0m\n\u001b[0;32m      1\u001b[0m \u001b[0msimpl_list\u001b[0m \u001b[1;33m=\u001b[0m \u001b[1;33m[\u001b[0m\u001b[1;36m345\u001b[0m\u001b[1;33m,\u001b[0m\u001b[1;34m\"man\"\u001b[0m\u001b[1;33m,\u001b[0m\u001b[1;33m[\u001b[0m\u001b[1;34m'a'\u001b[0m\u001b[1;33m,\u001b[0m\u001b[1;34m'e'\u001b[0m\u001b[1;33m,\u001b[0m\u001b[1;34m'i'\u001b[0m\u001b[1;33m,\u001b[0m\u001b[1;34m'o'\u001b[0m\u001b[1;33m,\u001b[0m\u001b[1;34m'u'\u001b[0m\u001b[1;33m]\u001b[0m\u001b[1;33m,\u001b[0m\u001b[1;36m5678\u001b[0m\u001b[1;33m,\u001b[0m \u001b[1;32mTrue\u001b[0m\u001b[1;33m]\u001b[0m\u001b[1;33m\u001b[0m\u001b[1;33m\u001b[0m\u001b[0m\n\u001b[1;32m----> 2\u001b[1;33m \u001b[0mprint\u001b[0m\u001b[1;33m(\u001b[0m\u001b[0msimple_list\u001b[0m\u001b[1;33m)\u001b[0m\u001b[1;33m\u001b[0m\u001b[1;33m\u001b[0m\u001b[0m\n\u001b[0m",
      "\u001b[1;31mNameError\u001b[0m: name 'simple_list' is not defined"
     ]
    }
   ],
   "source": [
    "simpl_list = [345,\"man\",5678, True]\n",
    "simpl_list.append\n",
    "print(simple_list)"
   ]
  },
  {
   "cell_type": "markdown",
   "metadata": {},
   "source": [
    "# This is Heading\n",
    "## This is subheading\n",
    "latex commands: $\\int_0^\\infty f(x) dx$\n",
    "equations:\n",
    "\n",
    "$$\\sum_(i=1)^\\infty frac(1)(2)$$"
   ]
  },
  {
   "cell_type": "code",
   "execution_count": 4,
   "metadata": {},
   "outputs": [
    {
     "name": "stdout",
     "output_type": "stream",
     "text": [
      "['dan', 'man', 'can', 45, 67, 'java', 'new_value']\n",
      "['dan', 'man', 'can', 45, 67, 'java', 'new_value']\n",
      "['dan', 'man', 'can', 67, 'java', 'new_value']\n",
      "['dan', 'man', 'can', 67, 'java', 'new_value']\n"
     ]
    }
   ],
   "source": [
    "lst = ['dan','man', 'can',45,67,'java']\n",
    "simpleList = lst\n",
    "lst.append('new_value')\n",
    "print(lst)\n",
    "print(simpleList)\n",
    "lst.pop(3)\n",
    "print(lst)\n",
    "print(simpleList)\n"
   ]
  },
  {
   "cell_type": "code",
   "execution_count": 9,
   "metadata": {},
   "outputs": [
    {
     "name": "stdout",
     "output_type": "stream",
     "text": [
      "12\n",
      "[6, 3, 2, 6, 3, 2, 6, 3, 2, 6, 3, 2]\n"
     ]
    }
   ],
   "source": [
    "repeated_lst = [6,3,2]*4\n",
    "print(len(repeated_lst))\n",
    "print(repeated_lst)"
   ]
  },
  {
   "cell_type": "code",
   "execution_count": 3,
   "metadata": {},
   "outputs": [
    {
     "ename": "NameError",
     "evalue": "name 'lst' is not defined",
     "output_type": "error",
     "traceback": [
      "\u001b[1;31m---------------------------------------------------------------------------\u001b[0m",
      "\u001b[1;31mNameError\u001b[0m                                 Traceback (most recent call last)",
      "\u001b[1;32m<ipython-input-3-3bd9cc25f742>\u001b[0m in \u001b[0;36m<module>\u001b[1;34m\u001b[0m\n\u001b[1;32m----> 1\u001b[1;33m \u001b[0mlst\u001b[0m\u001b[1;33m[\u001b[0m\u001b[1;36m2\u001b[0m\u001b[1;33m]\u001b[0m\u001b[1;33m=\u001b[0m\u001b[1;33m[\u001b[0m\u001b[1;36m4\u001b[0m\u001b[1;33m,\u001b[0m\u001b[1;36m5\u001b[0m\u001b[1;33m,\u001b[0m\u001b[1;36m6\u001b[0m\u001b[1;33m,\u001b[0m\u001b[1;36m7\u001b[0m\u001b[1;33m]\u001b[0m\u001b[1;33m\u001b[0m\u001b[1;33m\u001b[0m\u001b[0m\n\u001b[0m\u001b[0;32m      2\u001b[0m \u001b[0mListCpy\u001b[0m \u001b[1;33m=\u001b[0m \u001b[0mlst\u001b[0m\u001b[1;33m[\u001b[0m\u001b[1;36m2\u001b[0m\u001b[1;33m]\u001b[0m\u001b[1;33m.\u001b[0m\u001b[0mcopy\u001b[0m\u001b[1;33m(\u001b[0m\u001b[1;33m)\u001b[0m\u001b[1;33m\u001b[0m\u001b[1;33m\u001b[0m\u001b[0m\n\u001b[0;32m      3\u001b[0m \u001b[0mlst\u001b[0m\u001b[1;33m[\u001b[0m\u001b[1;36m2\u001b[0m\u001b[1;33m]\u001b[0m\u001b[1;33m.\u001b[0m\u001b[0mpop\u001b[0m\u001b[1;33m(\u001b[0m\u001b[1;36m1\u001b[0m\u001b[1;33m)\u001b[0m\u001b[1;33m\u001b[0m\u001b[1;33m\u001b[0m\u001b[0m\n\u001b[0;32m      4\u001b[0m \u001b[0mprint\u001b[0m\u001b[1;33m(\u001b[0m\u001b[0mListCpy\u001b[0m\u001b[1;33m)\u001b[0m\u001b[1;33m\u001b[0m\u001b[1;33m\u001b[0m\u001b[0m\n\u001b[0;32m      5\u001b[0m \u001b[0mprint\u001b[0m\u001b[1;33m(\u001b[0m\u001b[0mlst\u001b[0m\u001b[1;33m)\u001b[0m\u001b[1;33m\u001b[0m\u001b[1;33m\u001b[0m\u001b[0m\n",
      "\u001b[1;31mNameError\u001b[0m: name 'lst' is not defined"
     ]
    }
   ],
   "source": [
    "lst[2]=[4,5,6,7]\n",
    "ListCpy = lst[2].copy()\n",
    "lst[2].pop(1)\n",
    "print(ListCpy)\n",
    "print(lst)\n",
    "print(lst[2][2])"
   ]
  },
  {
   "cell_type": "code",
   "execution_count": 33,
   "metadata": {},
   "outputs": [
    {
     "name": "stdout",
     "output_type": "stream",
     "text": [
      "(12, 45, 56, 43, 567, 2342)\n",
      "[12, 45, 111, 43, 567, 2342]\n",
      "(12, 45, 56, 43, 567, 2342)\n"
     ]
    }
   ],
   "source": [
    "tuple1 = (12,45,56,43,567,2342)\n",
    "print(tuple1)\n",
    "# tuple[2]='abc' --value changes not allowed in tuple\n",
    "dummy = list(tuple1)\n",
    "dummy[2]=111\n",
    "print(dummy)\n",
    "# tuple1 = tuple(dummy)\n",
    "print(tuple1)"
   ]
  },
  {
   "cell_type": "code",
   "execution_count": 35,
   "metadata": {},
   "outputs": [
    {
     "name": "stdout",
     "output_type": "stream",
     "text": [
      "{'abc', 'xyz', -76, 6}\n",
      "True\n"
     ]
    }
   ],
   "source": [
    "# set: unordered collection, doesn't allow duplication\n",
    "simplSet = {6,-76,'abc',\"xyz\",-76}\n",
    "print(simplSet)\n",
    "print('xyz' in simplSet)\n",
    "simplSet.add(-76)"
   ]
  },
  {
   "cell_type": "code",
   "execution_count": 34,
   "metadata": {},
   "outputs": [
    {
     "name": "stdout",
     "output_type": "stream",
     "text": [
      "{'FName': 'Joe', 'LName': 'Smith', 'Age': 56, 'Working': True}\n",
      "Name is : Joe  Smith\n"
     ]
    }
   ],
   "source": [
    "# Dictionary uses index based on strings, values are indexed, but unordered & changeable\n",
    "simplDict= {\n",
    "    \"FName\":\"Joe\",\n",
    "    \"LName\":\"Smith\",\n",
    "    \"Age\": 56,\n",
    "    'Working': True\n",
    "}\n",
    "print(simplDict)\n",
    "print(\"Name is :\",simplDict['FName'],'',simplDict['LName'])"
   ]
  },
  {
   "cell_type": "code",
   "execution_count": 40,
   "metadata": {},
   "outputs": [
    {
     "name": "stdout",
     "output_type": "stream",
     "text": [
      "4\n",
      "56\n",
      "3\n",
      "567\n",
      "888\n",
      "63\n",
      "23\n",
      "0\n",
      "-234\n",
      "the loop cycled 9 times\n"
     ]
    }
   ],
   "source": [
    "smplList = [4,56,3,567,888,63,23,0,-234]\n",
    "counter=0\n",
    "for i in smplList:\n",
    "    print(i)\n",
    "    counter=counter+1\n",
    "print('the loop cycled',counter,'times')"
   ]
  },
  {
   "cell_type": "code",
   "execution_count": 45,
   "metadata": {},
   "outputs": [
    {
     "name": "stdout",
     "output_type": "stream",
     "text": [
      "4\n",
      "4\n",
      "4\n",
      "outside loop\n",
      "56\n",
      "56\n",
      "56\n",
      "outside loop\n",
      "3\n",
      "3\n",
      "3\n",
      "outside loop\n",
      "567\n",
      "567\n",
      "567\n",
      "outside loop\n",
      "exited successfully\n"
     ]
    }
   ],
   "source": [
    "for i in smplList[0:4]:\n",
    "    for j in smplList[4:7]:\n",
    "        print(i)\n",
    "        counter=counter+1\n",
    "    print('outside loop')\n",
    "print('exited successfully')"
   ]
  },
  {
   "cell_type": "code",
   "execution_count": 48,
   "metadata": {},
   "outputs": [
    {
     "name": "stdout",
     "output_type": "stream",
     "text": [
      "0\n",
      "1\n",
      "2\n",
      "3\n",
      "4\n",
      "5\n"
     ]
    }
   ],
   "source": [
    "for i in range(6):\n",
    "    print(i)\n"
   ]
  },
  {
   "cell_type": "code",
   "execution_count": 54,
   "metadata": {},
   "outputs": [
    {
     "name": "stdout",
     "output_type": "stream",
     "text": [
      "2\n",
      "4\n",
      "6\n",
      "8\n"
     ]
    }
   ],
   "source": [
    "list=[2,4,6,8]\n",
    "for i in list:\n",
    "    print(i)\n",
    "# list(range(6,18,3))"
   ]
  },
  {
   "cell_type": "code",
   "execution_count": 51,
   "metadata": {},
   "outputs": [
    {
     "name": "stdout",
     "output_type": "stream",
     "text": [
      "3\n",
      "4\n",
      "5\n",
      "6\n",
      "7\n",
      "exited the loop\n"
     ]
    }
   ],
   "source": [
    "i=3\n",
    "while(i<8):\n",
    "    print(i)\n",
    "    i=i+1\n",
    "print('exited the loop')"
   ]
  },
  {
   "cell_type": "code",
   "execution_count": 52,
   "metadata": {},
   "outputs": [
    {
     "name": "stdout",
     "output_type": "stream",
     "text": [
      "range(0, 6)\n"
     ]
    }
   ],
   "source": [
    "print(range(6))"
   ]
  },
  {
   "cell_type": "code",
   "execution_count": 66,
   "metadata": {},
   "outputs": [
    {
     "name": "stdout",
     "output_type": "stream",
     "text": [
      "greater then 10\n"
     ]
    }
   ],
   "source": [
    "i=10\n",
    "if i>10:\n",
    "    print(i , 'is less than 10')\n",
    "elif i<5:\n",
    "    print('this is less than 5')\n",
    "elif i<3:\n",
    "    print('this is less than 3')\n",
    "else:\n",
    "    print('greater then 10')"
   ]
  },
  {
   "cell_type": "code",
   "execution_count": 69,
   "metadata": {},
   "outputs": [
    {
     "name": "stdout",
     "output_type": "stream",
     "text": [
      "78090.77777777778\n"
     ]
    }
   ],
   "source": [
    "x=5\n",
    "y=7\n",
    "z=9\n",
    "print((x**y) + (y/z) + (x-y) +(z-y) - (y*x))"
   ]
  },
  {
   "cell_type": "code",
   "execution_count": 70,
   "metadata": {},
   "outputs": [
    {
     "ename": "SyntaxError",
     "evalue": "EOL while scanning string literal (<ipython-input-70-eaac87876c3b>, line 1)",
     "output_type": "error",
     "traceback": [
      "\u001b[1;36m  File \u001b[1;32m\"<ipython-input-70-eaac87876c3b>\"\u001b[1;36m, line \u001b[1;32m1\u001b[0m\n\u001b[1;33m    print('\\')\u001b[0m\n\u001b[1;37m              ^\u001b[0m\n\u001b[1;31mSyntaxError\u001b[0m\u001b[1;31m:\u001b[0m EOL while scanning string literal\n"
     ]
    }
   ],
   "source": [
    "print('\\')"
   ]
  },
  {
   "cell_type": "code",
   "execution_count": 77,
   "metadata": {},
   "outputs": [
    {
     "name": "stdout",
     "output_type": "stream",
     "text": [
      "1\n",
      "2\n",
      "6\n",
      "24\n",
      "120\n"
     ]
    }
   ],
   "source": [
    "a= 1\n",
    "for i in range(1,6):\n",
    "    a= a* i\n",
    "    print(a)\n",
    "        "
   ]
  },
  {
   "cell_type": "code",
   "execution_count": 82,
   "metadata": {},
   "outputs": [],
   "source": [
    "num = 20\n",
    "while(num<=12):\n",
    "    if(num%2==0):\n",
    "        print(num)\n",
    "        num=num+2\n",
    "    else:\n",
    "        print('Invalid input provided')"
   ]
  },
  {
   "cell_type": "code",
   "execution_count": 85,
   "metadata": {},
   "outputs": [
    {
     "name": "stdout",
     "output_type": "stream",
     "text": [
      "2\n",
      "4\n",
      "6\n",
      "8\n",
      "10\n",
      "12\n"
     ]
    }
   ],
   "source": [
    "num = 2\n",
    "while(num<=12):\n",
    "    if(num%2==0):\n",
    "        print(num)\n",
    "        num=num+2"
   ]
  },
  {
   "cell_type": "code",
   "execution_count": 88,
   "metadata": {},
   "outputs": [
    {
     "name": "stdout",
     "output_type": "stream",
     "text": [
      "50  is minimum\n"
     ]
    }
   ],
   "source": [
    "x=50\n",
    "y=70\n",
    "z=90\n",
    "if(x<y):\n",
    "    if(x<z):\n",
    "        print(x,' is minimum')\n",
    "    else:\n",
    "        print(z, ' is minimum')\n",
    "else:\n",
    "    print(y, ' is minimum')"
   ]
  },
  {
   "cell_type": "code",
   "execution_count": null,
   "metadata": {},
   "outputs": [],
   "source": []
  }
 ],
 "metadata": {
  "kernelspec": {
   "display_name": "Python 3",
   "language": "python",
   "name": "python3"
  },
  "language_info": {
   "codemirror_mode": {
    "name": "ipython",
    "version": 3
   },
   "file_extension": ".py",
   "mimetype": "text/x-python",
   "name": "python",
   "nbconvert_exporter": "python",
   "pygments_lexer": "ipython3",
   "version": "3.8.5"
  }
 },
 "nbformat": 4,
 "nbformat_minor": 4
}
