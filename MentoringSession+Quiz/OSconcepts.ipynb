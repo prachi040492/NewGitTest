{
 "cells": [
  {
   "cell_type": "code",
   "execution_count": 41,
   "id": "medical-egyptian",
   "metadata": {},
   "outputs": [],
   "source": [
    "import os"
   ]
  },
  {
   "cell_type": "code",
   "execution_count": 42,
   "id": "entitled-estate",
   "metadata": {},
   "outputs": [
    {
     "name": "stdout",
     "output_type": "stream",
     "text": [
      "nt\n"
     ]
    }
   ],
   "source": [
    "print(os.name) #nt: windows, posix: all unix based systems(Mac,Linux..)"
   ]
  },
  {
   "cell_type": "code",
   "execution_count": 43,
   "id": "stable-software",
   "metadata": {},
   "outputs": [
    {
     "data": {
      "text/plain": [
       "'C:\\\\Users\\\\guptap6\\\\OneDrive - Automatic Data Processing Inc\\\\Documents\\\\jupyter_GL\\\\PythonGL'"
      ]
     },
     "execution_count": 43,
     "metadata": {},
     "output_type": "execute_result"
    }
   ],
   "source": [
    "os.getcwd()"
   ]
  },
  {
   "cell_type": "code",
   "execution_count": 44,
   "id": "endless-venture",
   "metadata": {},
   "outputs": [
    {
     "name": "stdout",
     "output_type": "stream",
     "text": [
      "C:\\Users\\guptap6\\OneDrive - Automatic Data Processing Inc\\Documents\\jupyter_GL\\PythonGL\n"
     ]
    }
   ],
   "source": [
    "print(os.getcwd())"
   ]
  },
  {
   "cell_type": "code",
   "execution_count": 46,
   "id": "modular-symphony",
   "metadata": {},
   "outputs": [
    {
     "data": {
      "text/plain": [
       "['.ipynb_checkpoints',\n",
       " 'Checking Versions of Packages.ipynb',\n",
       " 'Crosstab with Multiple Variables.ipynb',\n",
       " 'OOPS.ipynb',\n",
       " 'PDS_UberDrive_Questions.ipynb',\n",
       " 'uberdrive.csv',\n",
       " 'Untitled.ipynb']"
      ]
     },
     "execution_count": 46,
     "metadata": {},
     "output_type": "execute_result"
    }
   ],
   "source": [
    "os.listdir('.')"
   ]
  },
  {
   "cell_type": "code",
   "execution_count": 48,
   "id": "metropolitan-appointment",
   "metadata": {},
   "outputs": [
    {
     "data": {
      "text/plain": [
       "['.ipynb_checkpoints', 'Practice', 'PythonGL']"
      ]
     },
     "execution_count": 48,
     "metadata": {},
     "output_type": "execute_result"
    }
   ],
   "source": [
    "os.listdir('C:\\\\Users\\\\guptap6\\\\OneDrive - Automatic Data Processing Inc\\\\Documents\\\\jupyter_GL')"
   ]
  },
  {
   "cell_type": "code",
   "execution_count": 49,
   "id": "sitting-knife",
   "metadata": {},
   "outputs": [],
   "source": [
    "os.mkdir('C:\\\\Users\\\\guptap6\\\\OneDrive - Automatic Data Processing Inc\\\\Documents\\\\jupyter_GL\\\\PythonGL\\\\NewDir')"
   ]
  },
  {
   "cell_type": "code",
   "execution_count": 52,
   "id": "noble-macro",
   "metadata": {},
   "outputs": [],
   "source": [
    "os.rename('C:\\\\Users\\\\guptap6\\\\OneDrive - Automatic Data Processing Inc\\\\Documents\\\\jupyter_GL\\\\PythonGL\\\\NewDir','C:\\\\Users\\\\guptap6\\\\OneDrive - Automatic Data Processing Inc\\\\Documents\\\\jupyter_GL\\\\PythonGL\\\\Ne')"
   ]
  },
  {
   "cell_type": "code",
   "execution_count": 53,
   "id": "technological-range",
   "metadata": {},
   "outputs": [],
   "source": [
    "file = open('C:\\\\Users\\\\guptap6\\\\OneDrive - Automatic Data Processing Inc\\\\Documents\\\\jupyter_GL\\\\PythonGL\\\\Ne\\\\myFile.txt','w')\n"
   ]
  },
  {
   "cell_type": "code",
   "execution_count": 54,
   "id": "toxic-palestine",
   "metadata": {},
   "outputs": [],
   "source": [
    "file.write('Hello\\n')\n",
    "file.write('World!')\n",
    "file.close()"
   ]
  },
  {
   "cell_type": "code",
   "execution_count": null,
   "id": "closed-tutorial",
   "metadata": {},
   "outputs": [],
   "source": []
  }
 ],
 "metadata": {
  "kernelspec": {
   "display_name": "Python 3",
   "language": "python",
   "name": "python3"
  },
  "language_info": {
   "codemirror_mode": {
    "name": "ipython",
    "version": 3
   },
   "file_extension": ".py",
   "mimetype": "text/x-python",
   "name": "python",
   "nbconvert_exporter": "python",
   "pygments_lexer": "ipython3",
   "version": "3.8.8"
  }
 },
 "nbformat": 4,
 "nbformat_minor": 5
}
