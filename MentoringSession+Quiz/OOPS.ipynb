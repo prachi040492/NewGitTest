{
 "cells": [
  {
   "cell_type": "code",
   "execution_count": 8,
   "id": "annoying-desktop",
   "metadata": {},
   "outputs": [],
   "source": [
    "# __getattr__\n",
    "# __setattr__\n",
    "# __str__\n",
    "# __repr__\n",
    "# __add__\n",
    "# ..."
   ]
  },
  {
   "cell_type": "code",
   "execution_count": 11,
   "id": "handmade-kidney",
   "metadata": {},
   "outputs": [
    {
     "name": "stdout",
     "output_type": "stream",
     "text": [
      "23\n",
      "There are inline functions & lambda functions.This is a docstring\n"
     ]
    }
   ],
   "source": [
    "def x2p7(x):\n",
    "    \"\"\"There are inline functions & lambda functions.This is a docstring\"\"\"\n",
    "    y=x*x\n",
    "    z=y+7\n",
    "    return z\n",
    "    \n",
    "print(x2p7(4))\n",
    "print(x2p7.__doc__)"
   ]
  },
  {
   "cell_type": "code",
   "execution_count": 3,
   "id": "dependent-jones",
   "metadata": {},
   "outputs": [
    {
     "name": "stdout",
     "output_type": "stream",
     "text": [
      "[16, 152, 112, 68, 24, 228, 168, 102, 32, 304, 224, 136, 40, 380, 280, 170]\n"
     ]
    }
   ],
   "source": [
    "# Scope of variables: defined outside=> can be called anywhere\n",
    "# defined inside: can't be called outside\n",
    "def func(x,y):\n",
    "    lenx= len(x)\n",
    "    leny= len(y)\n",
    "    z = [0]*(lenx*leny)\n",
    "    counter=0\n",
    "    for i in x:\n",
    "        for j in y:\n",
    "            z[counter] = i*j\n",
    "            counter=counter+1\n",
    "    return z\n",
    "output = func([2,3,4,5],[8,76,56,34])\n",
    "print(output)"
   ]
  },
  {
   "cell_type": "code",
   "execution_count": 5,
   "id": "bizarre-pride",
   "metadata": {},
   "outputs": [
    {
     "name": "stdout",
     "output_type": "stream",
     "text": [
      "10362\n",
      "3454\n"
     ]
    }
   ],
   "source": [
    "out_var = 3454\n",
    "def foo1(x):\n",
    "    return out_var*x\n",
    "print(foo1(3))\n",
    "print(out_var)"
   ]
  },
  {
   "cell_type": "code",
   "execution_count": 12,
   "id": "roman-equivalent",
   "metadata": {},
   "outputs": [
    {
     "name": "stdout",
     "output_type": "stream",
     "text": [
      "18\n",
      "3\n"
     ]
    }
   ],
   "source": [
    "# We can address scope issue by declaring a variable as Global\n",
    "def new_func(x):\n",
    "    global globVar \n",
    "    globVar =3\n",
    "#     global globVar =3 : This doesn't work\n",
    "    return globVar*x\n",
    "print(new_func(6))\n",
    "print(globVar)"
   ]
  },
  {
   "cell_type": "code",
   "execution_count": 13,
   "id": "cross-ridge",
   "metadata": {},
   "outputs": [
    {
     "name": "stdout",
     "output_type": "stream",
     "text": [
      "32\n"
     ]
    }
   ],
   "source": [
    "#lambda function: defining simple function inline\n",
    "x2p7v2 = lambda x: x*x+ 7\n",
    "print(x2p7v2(5))"
   ]
  },
  {
   "cell_type": "code",
   "execution_count": 14,
   "id": "palestinian-liberia",
   "metadata": {},
   "outputs": [
    {
     "name": "stdout",
     "output_type": "stream",
     "text": [
      "24.666666666666668\n"
     ]
    }
   ],
   "source": [
    "func_lambda = lambda x,y,z: x*y +y*z + x/y\n",
    "print(func_lambda(2,3,6))"
   ]
  },
  {
   "cell_type": "code",
   "execution_count": 17,
   "id": "documentary-bacteria",
   "metadata": {},
   "outputs": [
    {
     "name": "stdout",
     "output_type": "stream",
     "text": [
      "1.7\n",
      "3.74\n"
     ]
    }
   ],
   "source": [
    "class My_data_type: # first letter capitalized\n",
    "    def init_some_vals(self,val2):    #self is first argument of function\n",
    "        self.first_var = 1.7\n",
    "        self.second_var = val2\n",
    "    def multiply_vals(self):\n",
    "        return self.first_var*self.second_var\n",
    "    \n",
    "me = My_data_type() #Declare an object of the class My_data_type\n",
    "me.init_some_vals(2.2) #self is used while declaring the methods, but not while calling the methods\n",
    "print(me.first_var)\n",
    "print(me.multiply_vals())"
   ]
  },
  {
   "cell_type": "code",
   "execution_count": 18,
   "id": "understanding-newton",
   "metadata": {},
   "outputs": [
    {
     "ename": "NameError",
     "evalue": "name 'self' is not defined",
     "output_type": "error",
     "traceback": [
      "\u001b[1;31m---------------------------------------------------------------------------\u001b[0m",
      "\u001b[1;31mNameError\u001b[0m                                 Traceback (most recent call last)",
      "\u001b[1;32m<ipython-input-18-6c4cb10fb7d8>\u001b[0m in \u001b[0;36m<module>\u001b[1;34m\u001b[0m\n\u001b[1;32m----> 1\u001b[1;33m \u001b[0mprint\u001b[0m\u001b[1;33m(\u001b[0m\u001b[0mself\u001b[0m\u001b[1;33m.\u001b[0m\u001b[0mfirst_var\u001b[0m\u001b[1;33m)\u001b[0m\u001b[1;33m\u001b[0m\u001b[1;33m\u001b[0m\u001b[0m\n\u001b[0m",
      "\u001b[1;31mNameError\u001b[0m: name 'self' is not defined"
     ]
    }
   ],
   "source": [
    "print(self.first_var) # self is only used inside the class definition"
   ]
  },
  {
   "cell_type": "code",
   "execution_count": 19,
   "id": "respected-necklace",
   "metadata": {},
   "outputs": [
    {
     "name": "stdout",
     "output_type": "stream",
     "text": [
      "231.3\n"
     ]
    }
   ],
   "source": [
    "me.third_var =231.3 #Its a bad practice, as each object of the same class must have the same attributes(not values of attributes)\n",
    "print(me.third_var)"
   ]
  },
  {
   "cell_type": "code",
   "execution_count": 20,
   "id": "centered-subscription",
   "metadata": {},
   "outputs": [
    {
     "ename": "AttributeError",
     "evalue": "'My_data_type' object has no attribute 'third_var'",
     "output_type": "error",
     "traceback": [
      "\u001b[1;31m---------------------------------------------------------------------------\u001b[0m",
      "\u001b[1;31mAttributeError\u001b[0m                            Traceback (most recent call last)",
      "\u001b[1;32m<ipython-input-20-d454da48d8c2>\u001b[0m in \u001b[0;36m<module>\u001b[1;34m\u001b[0m\n\u001b[0;32m      1\u001b[0m \u001b[0myou\u001b[0m\u001b[1;33m=\u001b[0m \u001b[0mMy_data_type\u001b[0m\u001b[1;33m(\u001b[0m\u001b[1;33m)\u001b[0m\u001b[1;33m\u001b[0m\u001b[1;33m\u001b[0m\u001b[0m\n\u001b[0;32m      2\u001b[0m \u001b[0myou\u001b[0m\u001b[1;33m.\u001b[0m\u001b[0minit_some_vals\u001b[0m\u001b[1;33m(\u001b[0m\u001b[1;36m6.1\u001b[0m\u001b[1;33m)\u001b[0m\u001b[1;33m\u001b[0m\u001b[1;33m\u001b[0m\u001b[0m\n\u001b[1;32m----> 3\u001b[1;33m \u001b[0mprint\u001b[0m\u001b[1;33m(\u001b[0m\u001b[0myou\u001b[0m\u001b[1;33m.\u001b[0m\u001b[0mthird_var\u001b[0m\u001b[1;33m)\u001b[0m\u001b[1;33m\u001b[0m\u001b[1;33m\u001b[0m\u001b[0m\n\u001b[0m",
      "\u001b[1;31mAttributeError\u001b[0m: 'My_data_type' object has no attribute 'third_var'"
     ]
    }
   ],
   "source": [
    "you= My_data_type()\n",
    "you.init_some_vals(6.1)\n",
    "print(you.third_var) "
   ]
  },
  {
   "cell_type": "code",
   "execution_count": 32,
   "id": "demonstrated-parameter",
   "metadata": {},
   "outputs": [],
   "source": [
    "class Pet:\n",
    "    def __init__(self,animal_type,name,age,weight_lbs,color):\n",
    "        self.animal = animal_type\n",
    "        self.name = name\n",
    "        self.age = age\n",
    "        self.color =  color\n",
    "        self.weight_lbs = weight_lbs\n",
    "        self.weight_kg = self.calc_weight_in_kg()\n",
    "        \n",
    "    def calc_weight_in_kg(self):\n",
    "        return 0.453592*self.weight_lbs\n",
    "    \n",
    "    def describe_pet(self):\n",
    "        print('this pet is a ',self.color, self.animal)\n",
    "        print('Its name is ',self.name, ' and it is ',self.age,' years old')\n",
    "        print('It weighs ',self.weight_lbs,' pounds which is ',round(self.weight_kg,2),' kilograms')"
   ]
  },
  {
   "cell_type": "code",
   "execution_count": 33,
   "id": "brilliant-stock",
   "metadata": {},
   "outputs": [
    {
     "name": "stdout",
     "output_type": "stream",
     "text": [
      "this pet is a  white cat\n",
      "Its name is  kitty  and it is  5  years old\n",
      "It weighs  8  pounds which is  3.63  kilograms\n",
      "\n",
      "this pet is a  brown dog\n",
      "Its name is  Bruno  and it is  3  years old\n",
      "It weighs  9  pounds which is  4.08  kilograms\n"
     ]
    }
   ],
   "source": [
    "my_cat = Pet('cat','kitty',5,8,'white')\n",
    "my_dog = Pet('dog','Bruno',3,9,'brown')\n",
    "my_cat.describe_pet()\n",
    "print('')\n",
    "my_dog.describe_pet()"
   ]
  },
  {
   "cell_type": "code",
   "execution_count": 29,
   "id": "revolutionary-launch",
   "metadata": {},
   "outputs": [
    {
     "name": "stdout",
     "output_type": "stream",
     "text": [
      "brown\n",
      "3\n"
     ]
    }
   ],
   "source": [
    "# we can also access the attributes from outside because they were declared using self\n",
    "print(my_dog.color)\n",
    "print(my_dog.age)"
   ]
  },
  {
   "cell_type": "code",
   "execution_count": 35,
   "id": "located-cherry",
   "metadata": {},
   "outputs": [
    {
     "name": "stdout",
     "output_type": "stream",
     "text": [
      "5\n",
      "3.628736\n"
     ]
    }
   ],
   "source": [
    "# The values of attributes can be changed from outside\n",
    "my_cat.weight_lbs = 5\n",
    "print(my_cat.weight_lbs)\n",
    "print(my_cat.weight_kg)"
   ]
  },
  {
   "cell_type": "code",
   "execution_count": 39,
   "id": "japanese-pocket",
   "metadata": {},
   "outputs": [
    {
     "name": "stdout",
     "output_type": "stream",
     "text": [
      "2.26796\n",
      "4.082328\n",
      "3.628736\n",
      "2.26796\n"
     ]
    }
   ],
   "source": [
    "print(my_cat.calc_weight_in_kg())\n",
    "print(my_dog.calc_weight_in_kg())\n",
    "print(my_cat.weight_kg)\n",
    "my_cat.weight_kg=my_cat.calc_weight_in_kg()\n",
    "print(my_cat.weight_kg)"
   ]
  },
  {
   "cell_type": "code",
   "execution_count": null,
   "id": "retired-philip",
   "metadata": {},
   "outputs": [],
   "source": []
  }
 ],
 "metadata": {
  "kernelspec": {
   "display_name": "Python 3",
   "language": "python",
   "name": "python3"
  },
  "language_info": {
   "codemirror_mode": {
    "name": "ipython",
    "version": 3
   },
   "file_extension": ".py",
   "mimetype": "text/x-python",
   "name": "python",
   "nbconvert_exporter": "python",
   "pygments_lexer": "ipython3",
   "version": "3.8.8"
  }
 },
 "nbformat": 4,
 "nbformat_minor": 5
}
