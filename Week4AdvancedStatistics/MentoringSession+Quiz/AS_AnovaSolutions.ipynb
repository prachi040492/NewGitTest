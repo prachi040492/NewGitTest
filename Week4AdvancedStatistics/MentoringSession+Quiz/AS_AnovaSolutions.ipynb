{
 "cells": [
  {
   "cell_type": "code",
   "execution_count": 99,
   "id": "narrative-tuning",
   "metadata": {},
   "outputs": [],
   "source": [
    "# Problem 1A:"
   ]
  },
  {
   "cell_type": "code",
   "execution_count": 100,
   "id": "automated-payroll",
   "metadata": {},
   "outputs": [],
   "source": [
    "import numpy as np\n",
    "import pandas as pd\n",
    "import seaborn as sns\n",
    "import scipy.stats as stats\n",
    "from statsmodels.formula.api import ols\n",
    "\n",
    "from statsmodels.stats.anova import _get_covariance,anova_lm # For n-way ANOVA\n",
    "from statsmodels.stats.multicomp import (pairwise_tukeyhsd,MultiComparison) # Tukey HSD Test\n",
    "import matplotlib.pyplot as plt\n",
    "%matplotlib inline"
   ]
  },
  {
   "cell_type": "markdown",
   "id": "peaceful-charles",
   "metadata": {},
   "source": [
    "## Loading the dataset CSV file"
   ]
  },
  {
   "cell_type": "code",
   "execution_count": 101,
   "id": "becoming-petersburg",
   "metadata": {},
   "outputs": [],
   "source": [
    "df_salary = pd.read_csv('SalaryData.csv')"
   ]
  },
  {
   "cell_type": "markdown",
   "id": "through-virus",
   "metadata": {},
   "source": [
    "## Checking the top 5 records"
   ]
  },
  {
   "cell_type": "code",
   "execution_count": 102,
   "id": "accepting-disorder",
   "metadata": {},
   "outputs": [
    {
     "data": {
      "text/html": [
       "<div>\n",
       "<style scoped>\n",
       "    .dataframe tbody tr th:only-of-type {\n",
       "        vertical-align: middle;\n",
       "    }\n",
       "\n",
       "    .dataframe tbody tr th {\n",
       "        vertical-align: top;\n",
       "    }\n",
       "\n",
       "    .dataframe thead th {\n",
       "        text-align: right;\n",
       "    }\n",
       "</style>\n",
       "<table border=\"1\" class=\"dataframe\">\n",
       "  <thead>\n",
       "    <tr style=\"text-align: right;\">\n",
       "      <th></th>\n",
       "      <th>Education</th>\n",
       "      <th>Occupation</th>\n",
       "      <th>Salary</th>\n",
       "    </tr>\n",
       "  </thead>\n",
       "  <tbody>\n",
       "    <tr>\n",
       "      <th>0</th>\n",
       "      <td>Doctorate</td>\n",
       "      <td>Adm-clerical</td>\n",
       "      <td>153197</td>\n",
       "    </tr>\n",
       "    <tr>\n",
       "      <th>1</th>\n",
       "      <td>Doctorate</td>\n",
       "      <td>Adm-clerical</td>\n",
       "      <td>115945</td>\n",
       "    </tr>\n",
       "    <tr>\n",
       "      <th>2</th>\n",
       "      <td>Doctorate</td>\n",
       "      <td>Adm-clerical</td>\n",
       "      <td>175935</td>\n",
       "    </tr>\n",
       "    <tr>\n",
       "      <th>3</th>\n",
       "      <td>Doctorate</td>\n",
       "      <td>Adm-clerical</td>\n",
       "      <td>220754</td>\n",
       "    </tr>\n",
       "    <tr>\n",
       "      <th>4</th>\n",
       "      <td>Doctorate</td>\n",
       "      <td>Sales</td>\n",
       "      <td>170769</td>\n",
       "    </tr>\n",
       "  </tbody>\n",
       "</table>\n",
       "</div>"
      ],
      "text/plain": [
       "    Education     Occupation  Salary\n",
       "0   Doctorate   Adm-clerical  153197\n",
       "1   Doctorate   Adm-clerical  115945\n",
       "2   Doctorate   Adm-clerical  175935\n",
       "3   Doctorate   Adm-clerical  220754\n",
       "4   Doctorate          Sales  170769"
      ]
     },
     "execution_count": 102,
     "metadata": {},
     "output_type": "execute_result"
    }
   ],
   "source": [
    "df_salary.head()"
   ]
  },
  {
   "cell_type": "markdown",
   "id": "functioning-slovakia",
   "metadata": {},
   "source": [
    "## Checking the shape and information of the dataframe"
   ]
  },
  {
   "cell_type": "code",
   "execution_count": 103,
   "id": "indie-protection",
   "metadata": {},
   "outputs": [
    {
     "data": {
      "text/plain": [
       "(40, 3)"
      ]
     },
     "execution_count": 103,
     "metadata": {},
     "output_type": "execute_result"
    }
   ],
   "source": [
    "df_salary.shape"
   ]
  },
  {
   "cell_type": "code",
   "execution_count": 104,
   "id": "inner-overhead",
   "metadata": {},
   "outputs": [
    {
     "name": "stdout",
     "output_type": "stream",
     "text": [
      "<class 'pandas.core.frame.DataFrame'>\n",
      "RangeIndex: 40 entries, 0 to 39\n",
      "Data columns (total 3 columns):\n",
      " #   Column      Non-Null Count  Dtype \n",
      "---  ------      --------------  ----- \n",
      " 0   Education   40 non-null     object\n",
      " 1   Occupation  40 non-null     object\n",
      " 2   Salary      40 non-null     int64 \n",
      "dtypes: int64(1), object(2)\n",
      "memory usage: 1.1+ KB\n"
     ]
    }
   ],
   "source": [
    "df_salary.info()"
   ]
  },
  {
   "cell_type": "markdown",
   "id": "dying-dominican",
   "metadata": {},
   "source": [
    "## Checking the summary of the dataframe"
   ]
  },
  {
   "cell_type": "code",
   "execution_count": 105,
   "id": "fifty-samuel",
   "metadata": {},
   "outputs": [
    {
     "data": {
      "text/html": [
       "<div>\n",
       "<style scoped>\n",
       "    .dataframe tbody tr th:only-of-type {\n",
       "        vertical-align: middle;\n",
       "    }\n",
       "\n",
       "    .dataframe tbody tr th {\n",
       "        vertical-align: top;\n",
       "    }\n",
       "\n",
       "    .dataframe thead th {\n",
       "        text-align: right;\n",
       "    }\n",
       "</style>\n",
       "<table border=\"1\" class=\"dataframe\">\n",
       "  <thead>\n",
       "    <tr style=\"text-align: right;\">\n",
       "      <th></th>\n",
       "      <th>Education</th>\n",
       "      <th>Occupation</th>\n",
       "      <th>Salary</th>\n",
       "    </tr>\n",
       "  </thead>\n",
       "  <tbody>\n",
       "    <tr>\n",
       "      <th>count</th>\n",
       "      <td>40</td>\n",
       "      <td>40</td>\n",
       "      <td>40.000000</td>\n",
       "    </tr>\n",
       "    <tr>\n",
       "      <th>unique</th>\n",
       "      <td>3</td>\n",
       "      <td>4</td>\n",
       "      <td>NaN</td>\n",
       "    </tr>\n",
       "    <tr>\n",
       "      <th>top</th>\n",
       "      <td>Doctorate</td>\n",
       "      <td>Prof-specialty</td>\n",
       "      <td>NaN</td>\n",
       "    </tr>\n",
       "    <tr>\n",
       "      <th>freq</th>\n",
       "      <td>16</td>\n",
       "      <td>13</td>\n",
       "      <td>NaN</td>\n",
       "    </tr>\n",
       "    <tr>\n",
       "      <th>mean</th>\n",
       "      <td>NaN</td>\n",
       "      <td>NaN</td>\n",
       "      <td>162186.875000</td>\n",
       "    </tr>\n",
       "    <tr>\n",
       "      <th>std</th>\n",
       "      <td>NaN</td>\n",
       "      <td>NaN</td>\n",
       "      <td>64860.407506</td>\n",
       "    </tr>\n",
       "    <tr>\n",
       "      <th>min</th>\n",
       "      <td>NaN</td>\n",
       "      <td>NaN</td>\n",
       "      <td>50103.000000</td>\n",
       "    </tr>\n",
       "    <tr>\n",
       "      <th>25%</th>\n",
       "      <td>NaN</td>\n",
       "      <td>NaN</td>\n",
       "      <td>99897.500000</td>\n",
       "    </tr>\n",
       "    <tr>\n",
       "      <th>50%</th>\n",
       "      <td>NaN</td>\n",
       "      <td>NaN</td>\n",
       "      <td>169100.000000</td>\n",
       "    </tr>\n",
       "    <tr>\n",
       "      <th>75%</th>\n",
       "      <td>NaN</td>\n",
       "      <td>NaN</td>\n",
       "      <td>214440.750000</td>\n",
       "    </tr>\n",
       "    <tr>\n",
       "      <th>max</th>\n",
       "      <td>NaN</td>\n",
       "      <td>NaN</td>\n",
       "      <td>260151.000000</td>\n",
       "    </tr>\n",
       "  </tbody>\n",
       "</table>\n",
       "</div>"
      ],
      "text/plain": [
       "         Education       Occupation         Salary\n",
       "count           40               40      40.000000\n",
       "unique           3                4            NaN\n",
       "top      Doctorate   Prof-specialty            NaN\n",
       "freq            16               13            NaN\n",
       "mean           NaN              NaN  162186.875000\n",
       "std            NaN              NaN   64860.407506\n",
       "min            NaN              NaN   50103.000000\n",
       "25%            NaN              NaN   99897.500000\n",
       "50%            NaN              NaN  169100.000000\n",
       "75%            NaN              NaN  214440.750000\n",
       "max            NaN              NaN  260151.000000"
      ]
     },
     "execution_count": 105,
     "metadata": {},
     "output_type": "execute_result"
    }
   ],
   "source": [
    "df_salary.describe(include='all')"
   ]
  },
  {
   "cell_type": "code",
   "execution_count": 106,
   "id": "individual-costa",
   "metadata": {},
   "outputs": [],
   "source": [
    "df_salary.Occupation = pd.Categorical(df_salary.Occupation)"
   ]
  },
  {
   "cell_type": "code",
   "execution_count": 107,
   "id": "suspended-cornell",
   "metadata": {},
   "outputs": [],
   "source": [
    "df_salary.Education = pd.Categorical(df_salary.Education)"
   ]
  },
  {
   "cell_type": "code",
   "execution_count": 108,
   "id": "alert-somalia",
   "metadata": {
    "scrolled": true
   },
   "outputs": [
    {
     "data": {
      "image/png": "[encoded data removed]",
      "text/plain": [
       "<Figure size 1152x432 with 1 Axes>"
      ]
     },
     "metadata": {
      "needs_background": "light"
     },
     "output_type": "display_data"
    }
   ],
   "source": [
    "fig = plt.figure(figsize=(16,6))\n",
    "fig.suptitle('Salary w.r.t Education & Occupation', fontsize=20, ha='center')\n",
    "sns.boxplot(x = 'Salary' , y= 'Occupation' , data = df_salary ,hue = 'Education');\n",
    "plt.xlabel('Salary of individuals',fontsize=20)\n",
    "plt.show();"
   ]
  },
  {
   "cell_type": "markdown",
   "id": "available-whale",
   "metadata": {},
   "source": [
    "## Checking distinct values of Education"
   ]
  },
  {
   "cell_type": "code",
   "execution_count": 109,
   "id": "aware-hollywood",
   "metadata": {},
   "outputs": [
    {
     "data": {
      "text/plain": [
       " Doctorate    16\n",
       " Bachelors    15\n",
       " HS-grad       9\n",
       "Name: Education, dtype: int64"
      ]
     },
     "execution_count": 109,
     "metadata": {},
     "output_type": "execute_result"
    }
   ],
   "source": [
    "df_salary.Education.value_counts()"
   ]
  },
  {
   "cell_type": "markdown",
   "id": "attractive-label",
   "metadata": {},
   "source": [
    "## Checking distinct values of Occupation"
   ]
  },
  {
   "cell_type": "code",
   "execution_count": 113,
   "id": "young-toolbox",
   "metadata": {},
   "outputs": [
    {
     "data": {
      "text/plain": [
       " Prof-specialty     13\n",
       " Sales              12\n",
       " Adm-clerical       10\n",
       " Exec-managerial     5\n",
       "Name: Occupation, dtype: int64"
      ]
     },
     "execution_count": 113,
     "metadata": {},
     "output_type": "execute_result"
    }
   ],
   "source": [
    "df_salary.Occupation.value_counts()"
   ]
  },
  {
   "cell_type": "code",
   "execution_count": 122,
   "id": "photographic-visibility",
   "metadata": {},
   "outputs": [],
   "source": [
    "Doctorate = df_salary[df_salary['Education'] == ' Doctorate']['Salary']\n",
    "Bachelors = df_salary[df_salary['Education'] == ' Bachelors']['Salary']\n",
    "HSgrad = df_salary[df_salary['Education'] == ' HS-grad']['Salary']\n",
    "\n",
    "ProfSpecialty = df_salary[df_salary['Occupation'] == ' Prof-specialty']['Salary']\n",
    "Sales = df_salary[df_salary['Occupation'] == ' Sales']['Salary']\n",
    "AdmClerical = df_salary[df_salary['Occupation'] == ' Adm-clerical']['Salary']\n",
    "ExecManagerial = df_salary[df_salary['Occupation'] == ' Exec-managerial']['Salary']"
   ]
  },
  {
   "cell_type": "code",
   "execution_count": 125,
   "id": "second-jacksonville",
   "metadata": {},
   "outputs": [
    {
     "name": "stdout",
     "output_type": "stream",
     "text": [
      "ShapiroResult(statistic=0.8952829837799072, pvalue=0.0675690770149231)\n",
      "ShapiroResult(statistic=0.9607304334640503, pvalue=0.7050924301147461)\n",
      "ShapiroResult(statistic=0.885286271572113, pvalue=0.1783432960510254)\n",
      "ShapiroResult(statistic=0.736305832862854, pvalue=0.0013131146552041173)\n",
      "ShapiroResult(statistic=0.8897126913070679, pvalue=0.11683900654315948)\n",
      "ShapiroResult(statistic=0.9189430475234985, pvalue=0.34822404384613037)\n",
      "ShapiroResult(statistic=0.6901877522468567, pvalue=0.007539781276136637)\n"
     ]
    }
   ],
   "source": [
    "from scipy import stats\n",
    "#The Shapiro-Wilk test tests the null hypothesis that the data was drawn from a normal distribution.\n",
    "#alpha = 0.05\n",
    "print(stats.shapiro([Doctorate]))\n",
    "print(stats.shapiro([Bachelors]))\n",
    "print(stats.shapiro([HSgrad]))\n",
    "\n",
    "print(stats.shapiro([ProfSpecialty]))\n",
    "print(stats.shapiro([Sales]))\n",
    "print(stats.shapiro([AdmClerical]))\n",
    "print(stats.shapiro([ExecManagerial]))"
   ]
  },
  {
   "cell_type": "code",
   "execution_count": 126,
   "id": "understanding-orbit",
   "metadata": {},
   "outputs": [
    {
     "name": "stdout",
     "output_type": "stream",
     "text": [
      "AndersonResult(statistic=0.6725735337482739, critical_values=array([0.5  , 0.569, 0.683, 0.797, 0.948]), significance_level=array([15. , 10. ,  5. ,  2.5,  1. ]))\n",
      "AndersonResult(statistic=0.2793685121409055, critical_values=array([0.498, 0.568, 0.681, 0.794, 0.945]), significance_level=array([15. , 10. ,  5. ,  2.5,  1. ]))\n",
      "AndersonResult(statistic=0.4369535315712767, critical_values=array([0.507, 0.578, 0.693, 0.808, 0.961]), significance_level=array([15. , 10. ,  5. ,  2.5,  1. ]))\n",
      "AndersonResult(statistic=1.5424424719265737, critical_values=array([0.497, 0.566, 0.679, 0.792, 0.942]), significance_level=array([15. , 10. ,  5. ,  2.5,  1. ]))\n",
      "AndersonResult(statistic=0.5755046432785171, critical_values=array([0.497, 0.566, 0.679, 0.792, 0.942]), significance_level=array([15. , 10. ,  5. ,  2.5,  1. ]))\n",
      "AndersonResult(statistic=0.3783000997297936, critical_values=array([0.501, 0.57 , 0.684, 0.798, 0.95 ]), significance_level=array([15. , 10. ,  5. ,  2.5,  1. ]))\n",
      "AndersonResult(statistic=0.7842030726712084, critical_values=array([0.72 , 0.82 , 0.984, 1.148, 1.365]), significance_level=array([15. , 10. ,  5. ,  2.5,  1. ]))\n"
     ]
    }
   ],
   "source": [
    "#Anderson Darling Test if Shapiro fails\n",
    "print(stats.anderson(Doctorate,dist='norm'))\n",
    "print(stats.anderson(Bachelors,dist='norm'))\n",
    "print(stats.anderson(HSgrad,dist='norm'))\n",
    "\n",
    "\n",
    "print(stats.anderson(ProfSpecialty,dist='norm'))\n",
    "print(stats.anderson(Sales,dist='norm'))\n",
    "print(stats.anderson(AdmClerical,dist='norm'))\n",
    "print(stats.anderson(ExecManagerial,dist='norm'))\n",
    "# if statistic < critical_values then data looks normal (fail to reject H0)"
   ]
  },
  {
   "cell_type": "code",
   "execution_count": 127,
   "id": "facial-example",
   "metadata": {},
   "outputs": [
    {
     "name": "stdout",
     "output_type": "stream",
     "text": [
      "LeveneResult(statistic=1.8800921605836554, pvalue=0.16686425699301183)\n",
      "LeveneResult(statistic=2.4378177404396832, pvalue=0.0803790714975064)\n"
     ]
    }
   ],
   "source": [
    "#Homogeniety\n",
    "#The Levene test tests the null hypothesis that all input samples are from populations with equal variances.\n",
    "#alpha = 0.05\n",
    "print(stats.levene(Doctorate,Bachelors,HSgrad))\n",
    "print(stats.levene(ProfSpecialty,Sales,AdmClerical,ExecManagerial))"
   ]
  },
  {
   "cell_type": "markdown",
   "id": "numerical-league",
   "metadata": {},
   "source": [
    "# Formulate the Null and Alternate Hypothesis"
   ]
  },
  {
   "cell_type": "markdown",
   "id": "black-sample",
   "metadata": {},
   "source": [
    "**Null Hypothesis $H_0$ : The mean salary earned by an individual is same with different categories of Education qualification**\n",
    "\n",
    "**Alternate Hypothesis $H_A$ : The mean salary earned by an individual is different in at-least one category of Education qualification**"
   ]
  },
  {
   "cell_type": "markdown",
   "id": "composite-concern",
   "metadata": {},
   "source": [
    "# One Way Anova : Education"
   ]
  },
  {
   "cell_type": "code",
   "execution_count": 128,
   "id": "abandoned-inspiration",
   "metadata": {},
   "outputs": [
    {
     "name": "stdout",
     "output_type": "stream",
     "text": [
      "                df        sum_sq       mean_sq         F        PR(>F)\n",
      "C(Education)   2.0  1.026955e+11  5.134773e+10  30.95628  1.257709e-08\n",
      "Residual      37.0  6.137256e+10  1.658718e+09       NaN           NaN\n"
     ]
    }
   ],
   "source": [
    "formula = 'Salary ~ C(Education)'\n",
    "model = ols(formula, df_salary).fit()\n",
    "aov_table = anova_lm(model)\n",
    "print(aov_table)"
   ]
  },
  {
   "cell_type": "code",
   "execution_count": 129,
   "id": "answering-balloon",
   "metadata": {},
   "outputs": [],
   "source": [
    "f,p = stats.f_oneway(df_salary[df_salary['Education'] == ' Doctorate'].Salary , df_salary[df_salary['Education'] == ' Bachelors'].Salary , df_salary[df_salary['Education'] == ' HS-grad'].Salary)"
   ]
  },
  {
   "cell_type": "code",
   "execution_count": 130,
   "id": "coated-senate",
   "metadata": {},
   "outputs": [
    {
     "name": "stdout",
     "output_type": "stream",
     "text": [
      "1.2577090926629002e-08\n"
     ]
    }
   ],
   "source": [
    "print(p)"
   ]
  },
  {
   "cell_type": "code",
   "execution_count": 131,
   "id": "turkish-living",
   "metadata": {},
   "outputs": [
    {
     "name": "stdout",
     "output_type": "stream",
     "text": [
      "30.95628008792558\n"
     ]
    }
   ],
   "source": [
    "print(f)"
   ]
  },
  {
   "cell_type": "markdown",
   "id": "exterior-budapest",
   "metadata": {},
   "source": [
    "**Now, we see that the corresponding p-value is less than alpha (0.05). Thus, we $\\textbf{reject}$ the $\\textbf{Null Hypothesis}$ ($H_0$).**"
   ]
  },
  {
   "cell_type": "markdown",
   "id": "green-viking",
   "metadata": {},
   "source": [
    "**Conclusion: Since the p value is less than the significance level (0.05), we can reject the null hupothesis and conclude that the mean salary earned by an individual is different in at-least one category of Education qualifications**"
   ]
  },
  {
   "cell_type": "code",
   "execution_count": 132,
   "id": "ceramic-library",
   "metadata": {},
   "outputs": [
    {
     "data": {
      "image/png": "[encoded data removed]",
      "text/plain": [
       "<Figure size 576x288 with 1 Axes>"
      ]
     },
     "metadata": {
      "needs_background": "light"
     },
     "output_type": "display_data"
    }
   ],
   "source": [
    "fig = plt.figure(figsize=(8,4))\n",
    "fig.suptitle('PointPlot of Education & Salary earned', fontsize=20, ha='center')\n",
    "sns.pointplot(x= 'Education',y = 'Salary',data = df_salary, order=[' HS-grad',' Bachelors',' Doctorate'], ci=None)\n",
    "plt.ylabel('Salary of individuals',fontsize=20)\n",
    "plt.show();"
   ]
  },
  {
   "cell_type": "markdown",
   "id": "favorite-upset",
   "metadata": {},
   "source": [
    "### Tukey HSD (Honestly Significant Difference) Test\n",
    "#### single-step multiple comparison procedure and statistical test"
   ]
  },
  {
   "cell_type": "code",
   "execution_count": 133,
   "id": "exact-principal",
   "metadata": {
    "scrolled": false
   },
   "outputs": [
    {
     "name": "stdout",
     "output_type": "stream",
     "text": [
      "           Multiple Comparison of Means - Tukey HSD, FWER=0.05           \n",
      "=========================================================================\n",
      "  group1     group2     meandiff   p-adj     lower        upper    reject\n",
      "-------------------------------------------------------------------------\n",
      " Bachelors  Doctorate   43274.0667 0.0146    7541.1439  79006.9894   True\n",
      " Bachelors    HS-grad  -90114.1556  0.001 -132035.1958 -48193.1153   True\n",
      " Doctorate    HS-grad -133388.2222  0.001 -174815.0876 -91961.3569   True\n",
      "-------------------------------------------------------------------------\n"
     ]
    }
   ],
   "source": [
    "mc = MultiComparison( df_salary['Salary'], df_salary['Education'])\n",
    "result = mc.tukeyhsd()\n",
    "print(result)"
   ]
  },
  {
   "cell_type": "markdown",
   "id": "direct-metallic",
   "metadata": {},
   "source": [
    "### Doctorate  - Bachelors = 43274.0667\n",
    "### HS-grad - Bachelors = -90114.1556\n",
    "### HS-grad - Doctorate = -133388.2222\n",
    "\n",
    "### Hence,  Doctorate  > Bachelors  > HS-grad\n",
    "### The above results reveal that the means of 3 categories of Education qualifications differ from each other"
   ]
  },
  {
   "cell_type": "markdown",
   "id": "superb-annual",
   "metadata": {},
   "source": [
    "# One Way Anova : Occupation"
   ]
  },
  {
   "cell_type": "code",
   "execution_count": 134,
   "id": "mature-world",
   "metadata": {},
   "outputs": [
    {
     "name": "stdout",
     "output_type": "stream",
     "text": [
      "                 df        sum_sq       mean_sq         F    PR(>F)\n",
      "C(Occupation)   3.0  1.125878e+10  3.752928e+09  0.884144  0.458508\n",
      "Residual       36.0  1.528092e+11  4.244701e+09       NaN       NaN\n"
     ]
    }
   ],
   "source": [
    "formula = 'Salary ~ C(Occupation)'\n",
    "model = ols(formula, df_salary).fit()\n",
    "aov_table = anova_lm(model)\n",
    "print(aov_table)"
   ]
  },
  {
   "cell_type": "code",
   "execution_count": 135,
   "id": "unnecessary-notification",
   "metadata": {},
   "outputs": [],
   "source": [
    "f,p = stats.f_oneway(df_salary[df_salary['Occupation'] == ' Prof-specialty'].Salary , df_salary[df_salary['Occupation'] == ' Sales'].Salary , df_salary[df_salary['Occupation'] == ' Adm-clerical'].Salary , df_salary[df_salary['Occupation'] == ' Exec-managerial'].Salary)"
   ]
  },
  {
   "cell_type": "code",
   "execution_count": 136,
   "id": "according-shareware",
   "metadata": {},
   "outputs": [
    {
     "name": "stdout",
     "output_type": "stream",
     "text": [
      "0.4585078266495116\n"
     ]
    }
   ],
   "source": [
    "print(p)"
   ]
  },
  {
   "cell_type": "code",
   "execution_count": 137,
   "id": "complete-maldives",
   "metadata": {},
   "outputs": [
    {
     "name": "stdout",
     "output_type": "stream",
     "text": [
      "0.8841441289216039\n"
     ]
    }
   ],
   "source": [
    "print(f)"
   ]
  },
  {
   "cell_type": "markdown",
   "id": "concerned-mouse",
   "metadata": {},
   "source": [
    "**Conclusion: Since the p value is more than the significance level (0.05), we can accept the null hypothesis and conclude that the mean salary earned by an individual is same with different categories of Occupation**"
   ]
  },
  {
   "cell_type": "code",
   "execution_count": 138,
   "id": "eleven-insulation",
   "metadata": {
    "scrolled": true
   },
   "outputs": [
    {
     "data": {
      "text/plain": [
       "<AxesSubplot:xlabel='Occupation', ylabel='Salary'>"
      ]
     },
     "execution_count": 138,
     "metadata": {},
     "output_type": "execute_result"
    },
    {
     "data": {
      "image/png": "[encoded data removed]",
      "text/plain": [
       "<Figure size 432x288 with 1 Axes>"
      ]
     },
     "metadata": {
      "needs_background": "light"
     },
     "output_type": "display_data"
    }
   ],
   "source": [
    "sns.pointplot(x = 'Occupation',y = 'Salary' ,data = df_salary, order=[' Adm-clerical',' Sales',' Prof-specialty','  Exec-managerial'], ci=None)"
   ]
  },
  {
   "cell_type": "markdown",
   "id": "expensive-circus",
   "metadata": {},
   "source": [
    "### Tukey HSD (Honestly Significant Difference) Test\n",
    "#### single-step multiple comparison procedure and statistical test"
   ]
  },
  {
   "cell_type": "code",
   "execution_count": 139,
   "id": "diverse-semiconductor",
   "metadata": {},
   "outputs": [
    {
     "name": "stdout",
     "output_type": "stream",
     "text": [
      "                Multiple Comparison of Means - Tukey HSD, FWER=0.05                 \n",
      "====================================================================================\n",
      "     group1           group2        meandiff  p-adj     lower        upper    reject\n",
      "------------------------------------------------------------------------------------\n",
      "    Adm-clerical  Exec-managerial     55693.3 0.4146  -40415.1459 151801.7459  False\n",
      "    Adm-clerical   Prof-specialty  27528.8538 0.7252  -46277.4011 101335.1088  False\n",
      "    Adm-clerical            Sales  16180.1167    0.9  -58951.3115  91311.5449  False\n",
      " Exec-managerial   Prof-specialty -28164.4462 0.8263 -120502.4542  64173.5618  False\n",
      " Exec-managerial            Sales -39513.1833 0.6507 -132913.8041  53887.4374  False\n",
      "  Prof-specialty            Sales -11348.7372    0.9  -81592.6398  58895.1655  False\n",
      "------------------------------------------------------------------------------------\n"
     ]
    }
   ],
   "source": [
    "mc = MultiComparison( df_salary['Salary'], df_salary['Occupation'])\n",
    "result = mc.tukeyhsd()\n",
    "print(result)"
   ]
  },
  {
   "cell_type": "markdown",
   "id": "activated-press",
   "metadata": {},
   "source": [
    "### Exec-managerial - Adm-clerical  = 55693.3\n",
    "### Prof-specialty - Adm-clerical = 27528.8538\n",
    "### Sales - Adm-clerical = 16180.1167\n",
    "### Prof-specialty - Exec-managerial = -28164.4462\n",
    "### Sales - Exec-managerial = -39513.1833\n",
    "### Sales - Prof-specialty = -11348.7372\n",
    "\n",
    "### Hence, Exec-managerial > Prof-specialty > Sales > Adm-clerical\n",
    "### The above results reveal that the means of 3 categories of Occupations differ from each other"
   ]
  },
  {
   "cell_type": "code",
   "execution_count": 140,
   "id": "meaningful-sheep",
   "metadata": {},
   "outputs": [],
   "source": [
    "# Problem 1B: "
   ]
  },
  {
   "cell_type": "markdown",
   "id": "physical-coach",
   "metadata": {},
   "source": [
    "# Two Way Anova : Education & Occupation"
   ]
  },
  {
   "cell_type": "code",
   "execution_count": 141,
   "id": "reverse-think",
   "metadata": {},
   "outputs": [
    {
     "name": "stdout",
     "output_type": "stream",
     "text": [
      "                 df        sum_sq       mean_sq          F        PR(>F)\n",
      "C(Education)    2.0  1.026955e+11  5.134773e+10  31.257677  1.981539e-08\n",
      "C(Occupation)   3.0  5.519946e+09  1.839982e+09   1.120080  3.545825e-01\n",
      "Residual       34.0  5.585261e+10  1.642724e+09        NaN           NaN\n"
     ]
    }
   ],
   "source": [
    "formula = 'Salary ~ C(Education) + C(Occupation)'\n",
    "model = ols(formula, df_salary).fit()\n",
    "aov_table = anova_lm(model)\n",
    "print(aov_table)"
   ]
  },
  {
   "cell_type": "code",
   "execution_count": 144,
   "id": "hazardous-chile",
   "metadata": {},
   "outputs": [
    {
     "data": {
      "image/png": "[encoded data removed]",
      "text/plain": [
       "<Figure size 432x288 with 1 Axes>"
      ]
     },
     "metadata": {
      "needs_background": "light"
     },
     "output_type": "display_data"
    }
   ],
   "source": [
    "from statsmodels.graphics.factorplots import interaction_plot\n",
    "\n",
    "interaction_plot(x = np.array(df_salary['Education']),trace = np.array(df_salary['Occupation']),response=df_salary['Salary'], markers = ['D','o','^','o'],xlabel='Education',ylabel='Salary of individuals')\n",
    "plt.show();"
   ]
  },
  {
   "cell_type": "markdown",
   "id": "juvenile-smile",
   "metadata": {},
   "source": [
    "**Still, we can see that there is some sort of interaction between the two treatments. So, we will introduce a new term while performing the Two Way ANOVA.**"
   ]
  },
  {
   "cell_type": "markdown",
   "id": "composed-raising",
   "metadata": {},
   "source": [
    "# Two Way Anova : Education & Occupation with Interaction"
   ]
  },
  {
   "cell_type": "code",
   "execution_count": 43,
   "id": "informal-graphic",
   "metadata": {},
   "outputs": [
    {
     "name": "stdout",
     "output_type": "stream",
     "text": [
      "                              df        sum_sq       mean_sq          F  \\\n",
      "C(Education)                 2.0  1.026955e+11  5.134773e+10  72.211958   \n",
      "C(Occupation)                3.0  5.519946e+09  1.839982e+09   2.587626   \n",
      "C(Education):C(Occupation)   6.0  3.634909e+10  6.058182e+09   8.519815   \n",
      "Residual                    29.0  2.062102e+10  7.110697e+08        NaN   \n",
      "\n",
      "                                  PR(>F)  \n",
      "C(Education)                5.466264e-12  \n",
      "C(Occupation)               7.211580e-02  \n",
      "C(Education):C(Occupation)  2.232500e-05  \n",
      "Residual                             NaN  \n"
     ]
    }
   ],
   "source": [
    "formula = 'Salary ~ C(Education) +C(Occupation)+  C(Education):C(Occupation)'\n",
    "model = ols(formula, df_salary).fit()\n",
    "aov_table = anova_lm(model,type=1)\n",
    "print(aov_table)"
   ]
  },
  {
   "cell_type": "markdown",
   "id": "worth-snowboard",
   "metadata": {},
   "source": [
    "**Due to the inclusion of the interaction effect term, we can see a slight change in the p-value of the first two treatments as compared to the Two-Way ANOVA without the interaction effect terms.And we see that the p-value of the interaction effect term of 'Education' and 'Occupation' suggests that the Null Hypothesis is rejected in this case.**"
   ]
  },
  {
   "cell_type": "code",
   "execution_count": 145,
   "id": "altered-lighting",
   "metadata": {},
   "outputs": [
    {
     "data": {
      "text/html": [
       "<table class=\"simpletable\">\n",
       "<caption>OLS Regression Results</caption>\n",
       "<tr>\n",
       "  <th>Dep. Variable:</th>         <td>Salary</td>      <th>  R-squared:         </th> <td>   0.660</td>\n",
       "</tr>\n",
       "<tr>\n",
       "  <th>Model:</th>                   <td>OLS</td>       <th>  Adj. R-squared:    </th> <td>   0.610</td>\n",
       "</tr>\n",
       "<tr>\n",
       "  <th>Method:</th>             <td>Least Squares</td>  <th>  F-statistic:       </th> <td>   13.18</td>\n",
       "</tr>\n",
       "<tr>\n",
       "  <th>Date:</th>             <td>Fri, 14 May 2021</td> <th>  Prob (F-statistic):</th> <td>3.63e-07</td>\n",
       "</tr>\n",
       "<tr>\n",
       "  <th>Time:</th>                 <td>22:55:56</td>     <th>  Log-Likelihood:    </th> <td> -477.90</td>\n",
       "</tr>\n",
       "<tr>\n",
       "  <th>No. Observations:</th>      <td>    40</td>      <th>  AIC:               </th> <td>   967.8</td>\n",
       "</tr>\n",
       "<tr>\n",
       "  <th>Df Residuals:</th>          <td>    34</td>      <th>  BIC:               </th> <td>   977.9</td>\n",
       "</tr>\n",
       "<tr>\n",
       "  <th>Df Model:</th>              <td>     5</td>      <th>                     </th>     <td> </td>   \n",
       "</tr>\n",
       "<tr>\n",
       "  <th>Covariance Type:</th>      <td>nonrobust</td>    <th>                     </th>     <td> </td>   \n",
       "</tr>\n",
       "</table>\n",
       "<table class=\"simpletable\">\n",
       "<tr>\n",
       "                  <td></td>                     <th>coef</th>     <th>std err</th>      <th>t</th>      <th>P>|t|</th>  <th>[0.025</th>    <th>0.975]</th>  \n",
       "</tr>\n",
       "<tr>\n",
       "  <th>Intercept</th>                         <td> 1.461e+05</td> <td> 1.62e+04</td> <td>    9.028</td> <td> 0.000</td> <td> 1.13e+05</td> <td> 1.79e+05</td>\n",
       "</tr>\n",
       "<tr>\n",
       "  <th>C(Education)[T. Doctorate]</th>        <td> 4.912e+04</td> <td> 1.52e+04</td> <td>    3.238</td> <td> 0.003</td> <td> 1.83e+04</td> <td> 7.99e+04</td>\n",
       "</tr>\n",
       "<tr>\n",
       "  <th>C(Education)[T. HS-grad]</th>          <td>-8.115e+04</td> <td>  1.8e+04</td> <td>   -4.515</td> <td> 0.000</td> <td>-1.18e+05</td> <td>-4.46e+04</td>\n",
       "</tr>\n",
       "<tr>\n",
       "  <th>C(Occupation)[T. Exec-managerial]</th> <td> 4.117e+04</td> <td> 2.34e+04</td> <td>    1.760</td> <td> 0.087</td> <td>-6358.221</td> <td> 8.87e+04</td>\n",
       "</tr>\n",
       "<tr>\n",
       "  <th>C(Occupation)[T. Prof-specialty]</th>  <td> 1.889e+04</td> <td> 1.71e+04</td> <td>    1.106</td> <td> 0.277</td> <td>-1.58e+04</td> <td> 5.36e+04</td>\n",
       "</tr>\n",
       "<tr>\n",
       "  <th>C(Occupation)[T. Sales]</th>           <td>  1.13e+04</td> <td> 1.74e+04</td> <td>    0.651</td> <td> 0.520</td> <td> -2.4e+04</td> <td> 4.66e+04</td>\n",
       "</tr>\n",
       "</table>\n",
       "<table class=\"simpletable\">\n",
       "<tr>\n",
       "  <th>Omnibus:</th>       <td> 0.637</td> <th>  Durbin-Watson:     </th> <td>   1.353</td>\n",
       "</tr>\n",
       "<tr>\n",
       "  <th>Prob(Omnibus):</th> <td> 0.727</td> <th>  Jarque-Bera (JB):  </th> <td>   0.153</td>\n",
       "</tr>\n",
       "<tr>\n",
       "  <th>Skew:</th>          <td>-0.123</td> <th>  Prob(JB):          </th> <td>   0.926</td>\n",
       "</tr>\n",
       "<tr>\n",
       "  <th>Kurtosis:</th>      <td> 3.177</td> <th>  Cond. No.          </th> <td>    5.94</td>\n",
       "</tr>\n",
       "</table><br/><br/>Notes:<br/>[1] Standard Errors assume that the covariance matrix of the errors is correctly specified."
      ],
      "text/plain": [
       "<class 'statsmodels.iolib.summary.Summary'>\n",
       "\"\"\"\n",
       "                            OLS Regression Results                            \n",
       "==============================================================================\n",
       "Dep. Variable:                 Salary   R-squared:                       0.660\n",
       "Model:                            OLS   Adj. R-squared:                  0.610\n",
       "Method:                 Least Squares   F-statistic:                     13.18\n",
       "Date:                Fri, 14 May 2021   Prob (F-statistic):           3.63e-07\n",
       "Time:                        22:55:56   Log-Likelihood:                -477.90\n",
       "No. Observations:                  40   AIC:                             967.8\n",
       "Df Residuals:                      34   BIC:                             977.9\n",
       "Df Model:                           5                                         \n",
       "Covariance Type:            nonrobust                                         \n",
       "=====================================================================================================\n",
       "                                        coef    std err          t      P>|t|      [0.025      0.975]\n",
       "-----------------------------------------------------------------------------------------------------\n",
       "Intercept                          1.461e+05   1.62e+04      9.028      0.000    1.13e+05    1.79e+05\n",
       "C(Education)[T. Doctorate]         4.912e+04   1.52e+04      3.238      0.003    1.83e+04    7.99e+04\n",
       "C(Education)[T. HS-grad]          -8.115e+04    1.8e+04     -4.515      0.000   -1.18e+05   -4.46e+04\n",
       "C(Occupation)[T. Exec-managerial]  4.117e+04   2.34e+04      1.760      0.087   -6358.221    8.87e+04\n",
       "C(Occupation)[T. Prof-specialty]   1.889e+04   1.71e+04      1.106      0.277   -1.58e+04    5.36e+04\n",
       "C(Occupation)[T. Sales]             1.13e+04   1.74e+04      0.651      0.520    -2.4e+04    4.66e+04\n",
       "==============================================================================\n",
       "Omnibus:                        0.637   Durbin-Watson:                   1.353\n",
       "Prob(Omnibus):                  0.727   Jarque-Bera (JB):                0.153\n",
       "Skew:                          -0.123   Prob(JB):                        0.926\n",
       "Kurtosis:                       3.177   Cond. No.                         5.94\n",
       "==============================================================================\n",
       "\n",
       "Notes:\n",
       "[1] Standard Errors assume that the covariance matrix of the errors is correctly specified.\n",
       "\"\"\""
      ]
     },
     "execution_count": 145,
     "metadata": {},
     "output_type": "execute_result"
    }
   ],
   "source": [
    "model.summary()"
   ]
  }
 ],
 "metadata": {
  "kernelspec": {
   "display_name": "Python 3",
   "language": "python",
   "name": "python3"
  },
  "language_info": {
   "codemirror_mode": {
    "name": "ipython",
    "version": 3
   },
   "file_extension": ".py",
   "mimetype": "text/x-python",
   "name": "python",
   "nbconvert_exporter": "python",
   "pygments_lexer": "ipython3",
   "version": "3.8.8"
  }
 },
 "nbformat": 4,
 "nbformat_minor": 5
}
