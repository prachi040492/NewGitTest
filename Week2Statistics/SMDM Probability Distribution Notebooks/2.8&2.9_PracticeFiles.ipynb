{
 "cells": [
  {
   "cell_type": "code",
   "execution_count": 3,
   "id": "checked-yesterday",
   "metadata": {},
   "outputs": [],
   "source": [
    "# morning breakfast cereal pack\n",
    "import scipy.stats as stats\n",
    "import numpy as np\n",
    "import matplotlib.pyplot as plt"
   ]
  },
  {
   "cell_type": "code",
   "execution_count": 7,
   "id": "continuous-medicare",
   "metadata": {},
   "outputs": [
    {
     "data": {
      "text/plain": [
       "-0.5999999999999983"
      ]
     },
     "execution_count": 7,
     "metadata": {},
     "output_type": "execute_result"
    }
   ],
   "source": [
    "z=(0.28-0.295)/0.025\n",
    "z"
   ]
  },
  {
   "cell_type": "code",
   "execution_count": 8,
   "id": "significant-purchase",
   "metadata": {},
   "outputs": [
    {
     "data": {
      "text/plain": [
       "0.2742531177500736"
      ]
     },
     "execution_count": 8,
     "metadata": {},
     "output_type": "execute_result"
    }
   ],
   "source": [
    "stats.norm.cdf(-0.6) #cumulative density function => calculates the area under curve: Probability % of packs less than 0.28 kg using Z"
   ]
  },
  {
   "cell_type": "code",
   "execution_count": 9,
   "id": "likely-notification",
   "metadata": {},
   "outputs": [
    {
     "data": {
      "text/plain": [
       "2.1999999999999997"
      ]
     },
     "execution_count": 9,
     "metadata": {},
     "output_type": "execute_result"
    }
   ],
   "source": [
    "z= (0.35 - 0.295)/0.025 # Probability % of packs more than 0.35 kg using Z\n",
    "z"
   ]
  },
  {
   "cell_type": "code",
   "execution_count": 10,
   "id": "pleased-consumer",
   "metadata": {},
   "outputs": [
    {
     "data": {
      "text/plain": [
       "0.01390344751349859"
      ]
     },
     "execution_count": 10,
     "metadata": {},
     "output_type": "execute_result"
    }
   ],
   "source": [
    "1 - stats.norm.cdf(2.2)"
   ]
  },
  {
   "cell_type": "code",
   "execution_count": 11,
   "id": "aggressive-enzyme",
   "metadata": {},
   "outputs": [
    {
     "name": "stdout",
     "output_type": "stream",
     "text": [
      "-1.399999999999999\n",
      "1.8000000000000016\n"
     ]
    }
   ],
   "source": [
    "# Probability % of packs between 0.26kg to 0.34kg using Z\n",
    "z1= (0.26 - 0.295)/0.025\n",
    "print(z1)\n",
    "z2= (0.34 - 0.295)/0.025\n",
    "print(z2)"
   ]
  },
  {
   "cell_type": "code",
   "execution_count": 12,
   "id": "matched-oakland",
   "metadata": {},
   "outputs": [
    {
     "data": {
      "text/plain": [
       "0.8833130216533032"
      ]
     },
     "execution_count": 12,
     "metadata": {},
     "output_type": "execute_result"
    }
   ],
   "source": [
    "stats.norm.cdf(z2)-stats.norm.cdf(z1)"
   ]
  },
  {
   "cell_type": "code",
   "execution_count": 13,
   "id": "aging-tribe",
   "metadata": {},
   "outputs": [],
   "source": [
    "# Salaries of data scientists in Chennai => Normal Distribution\n",
    "#Prob of D.S having salary>10,00,000 INR"
   ]
  },
  {
   "cell_type": "code",
   "execution_count": 14,
   "id": "ambient-jumping",
   "metadata": {},
   "outputs": [
    {
     "data": {
      "text/plain": [
       "3.3333333333333335"
      ]
     },
     "execution_count": 14,
     "metadata": {},
     "output_type": "execute_result"
    }
   ],
   "source": [
    "z= (1000000 -700000)/90000\n",
    "z"
   ]
  },
  {
   "cell_type": "code",
   "execution_count": 15,
   "id": "religious-jersey",
   "metadata": {},
   "outputs": [
    {
     "data": {
      "text/plain": [
       "0.0004290603331967846"
      ]
     },
     "execution_count": 15,
     "metadata": {},
     "output_type": "execute_result"
    }
   ],
   "source": [
    "1-stats.norm.cdf(z) #cdf always calculates to the left of the given z value"
   ]
  },
  {
   "cell_type": "code",
   "execution_count": 16,
   "id": "asian-arthur",
   "metadata": {},
   "outputs": [],
   "source": [
    "#Prob of D.S having salary between 6,00,000 & 9,00,000 INR"
   ]
  },
  {
   "cell_type": "code",
   "execution_count": 17,
   "id": "sought-original",
   "metadata": {},
   "outputs": [],
   "source": [
    "z1 = (600000 -700000)/90000\n",
    "z2 = (900000 -700000)/90000"
   ]
  },
  {
   "cell_type": "code",
   "execution_count": 18,
   "id": "moderate-detective",
   "metadata": {},
   "outputs": [
    {
     "data": {
      "text/plain": [
       "0.8536055914064735"
      ]
     },
     "execution_count": 18,
     "metadata": {},
     "output_type": "execute_result"
    }
   ],
   "source": [
    "stats.norm.cdf(z2)-stats.norm.cdf(z1)"
   ]
  },
  {
   "cell_type": "code",
   "execution_count": 19,
   "id": "ecological-petite",
   "metadata": {},
   "outputs": [],
   "source": [
    "#Prob of D.S having salary< 4,00,000 INR p.a"
   ]
  },
  {
   "cell_type": "code",
   "execution_count": 20,
   "id": "medium-election",
   "metadata": {},
   "outputs": [],
   "source": [
    "z = (400000 - 700000)/90000"
   ]
  },
  {
   "cell_type": "code",
   "execution_count": 21,
   "id": "drawn-precipitation",
   "metadata": {},
   "outputs": [
    {
     "data": {
      "text/plain": [
       "0.0004290603331968372"
      ]
     },
     "execution_count": 21,
     "metadata": {},
     "output_type": "execute_result"
    }
   ],
   "source": [
    "stats.norm.cdf(z)"
   ]
  },
  {
   "cell_type": "code",
   "execution_count": 22,
   "id": "composed-technology",
   "metadata": {},
   "outputs": [],
   "source": [
    "#The areas to the left & right of mean(+- 3,00,000 away from mean) are same,due to normal distribution"
   ]
  },
  {
   "cell_type": "code",
   "execution_count": 23,
   "id": "verified-charm",
   "metadata": {},
   "outputs": [
    {
     "data": {
      "text/plain": [
       "-3.3333333333333335"
      ]
     },
     "execution_count": 23,
     "metadata": {},
     "output_type": "execute_result"
    }
   ],
   "source": [
    "z = (400000 - 700000)/90000\n",
    "z"
   ]
  },
  {
   "cell_type": "code",
   "execution_count": 24,
   "id": "sticky-officer",
   "metadata": {},
   "outputs": [
    {
     "data": {
      "text/plain": [
       "0.36956714157750203"
      ]
     },
     "execution_count": 24,
     "metadata": {},
     "output_type": "execute_result"
    }
   ],
   "source": [
    "stats.norm.cdf(-0.333)"
   ]
  },
  {
   "cell_type": "code",
   "execution_count": 25,
   "id": "ceramic-gambling",
   "metadata": {},
   "outputs": [
    {
     "data": {
      "text/plain": [
       "3.3333333333333335"
      ]
     },
     "execution_count": 25,
     "metadata": {},
     "output_type": "execute_result"
    }
   ],
   "source": [
    "z= (1000000 -700000)/90000\n",
    "z"
   ]
  },
  {
   "cell_type": "code",
   "execution_count": 26,
   "id": "beginning-sigma",
   "metadata": {},
   "outputs": [],
   "source": [
    "# morning breakfast cereal pack => Normal distribution\n",
    "# mean: 0.295 kg , stdev: 0.025kg"
   ]
  },
  {
   "cell_type": "code",
   "execution_count": 27,
   "id": "surface-compilation",
   "metadata": {},
   "outputs": [],
   "source": [
    "# Prob of pack weight < 0.280kg"
   ]
  },
  {
   "cell_type": "code",
   "execution_count": 28,
   "id": "antique-commissioner",
   "metadata": {},
   "outputs": [],
   "source": [
    "z= (0.280-0.295)/0.025"
   ]
  },
  {
   "cell_type": "code",
   "execution_count": 29,
   "id": "special-viking",
   "metadata": {},
   "outputs": [
    {
     "data": {
      "text/plain": [
       "0.2742531177500741"
      ]
     },
     "execution_count": 29,
     "metadata": {},
     "output_type": "execute_result"
    }
   ],
   "source": [
    "stats.norm.cdf(z)"
   ]
  },
  {
   "cell_type": "code",
   "execution_count": 30,
   "id": "better-negotiation",
   "metadata": {},
   "outputs": [],
   "source": [
    "# Prob of pack weight > 0.350kg"
   ]
  },
  {
   "cell_type": "code",
   "execution_count": 31,
   "id": "welcome-feeling",
   "metadata": {},
   "outputs": [],
   "source": [
    "z= (0.350-0.295)/0.025"
   ]
  },
  {
   "cell_type": "code",
   "execution_count": 33,
   "id": "collect-protest",
   "metadata": {},
   "outputs": [
    {
     "data": {
      "text/plain": [
       "0.01390344751349859"
      ]
     },
     "execution_count": 33,
     "metadata": {},
     "output_type": "execute_result"
    }
   ],
   "source": [
    "1 - stats.norm.cdf(z)"
   ]
  },
  {
   "cell_type": "code",
   "execution_count": 34,
   "id": "younger-reflection",
   "metadata": {},
   "outputs": [],
   "source": [
    "# Prob of pack weight between 0.260 to 0.340kg"
   ]
  },
  {
   "cell_type": "code",
   "execution_count": 35,
   "id": "successful-sessions",
   "metadata": {},
   "outputs": [],
   "source": [
    "z1= (0.340 - 0.295)/0.025\n",
    "z2 = (0.260 - 0.295)/0.025"
   ]
  },
  {
   "cell_type": "code",
   "execution_count": 36,
   "id": "inner-young",
   "metadata": {},
   "outputs": [
    {
     "data": {
      "text/plain": [
       "0.8833130216533032"
      ]
     },
     "execution_count": 36,
     "metadata": {},
     "output_type": "execute_result"
    }
   ],
   "source": [
    "stats.norm.cdf(z1) - stats.norm.cdf(z2)"
   ]
  },
  {
   "cell_type": "code",
   "execution_count": 1,
   "id": "improved-cause",
   "metadata": {},
   "outputs": [],
   "source": [
    "# Bank issues credit cards : Binomial\n",
    "p=0.6\n",
    "n=7"
   ]
  },
  {
   "cell_type": "code",
   "execution_count": 4,
   "id": "economic-stand",
   "metadata": {},
   "outputs": [],
   "source": [
    "k = np.arange(0,8)"
   ]
  },
  {
   "cell_type": "code",
   "execution_count": 5,
   "id": "amber-official",
   "metadata": {},
   "outputs": [],
   "source": [
    "binomial = stats.binom.pmf(k, n,p) #For discrete values"
   ]
  },
  {
   "cell_type": "code",
   "execution_count": 7,
   "id": "incident-square",
   "metadata": {},
   "outputs": [
    {
     "data": {
      "text/plain": [
       "array([0.0016384, 0.0172032, 0.0774144, 0.193536 , 0.290304 , 0.2612736,\n",
       "       0.1306368, 0.0279936])"
      ]
     },
     "execution_count": 7,
     "metadata": {},
     "output_type": "execute_result"
    }
   ],
   "source": [
    "binomial #All these probablities will give you a total of 1"
   ]
  },
  {
   "cell_type": "code",
   "execution_count": 8,
   "id": "protective-feeling",
   "metadata": {},
   "outputs": [
    {
     "data": {
      "image/png": "[encoded data removed]",
      "text/plain": [
       "<Figure size 432x288 with 1 Axes>"
      ]
     },
     "metadata": {
      "needs_background": "light"
     },
     "output_type": "display_data"
    }
   ],
   "source": [
    "plt.plot(k, binomial,'o-')\n",
    "plt.title('binomial : n=%i , p=%2f' %(n,p),fontsize=15)\n",
    "plt.xlabel('No. of success')\n",
    "plt.ylabel('Prob. of success')\n",
    "plt.show()"
   ]
  },
  {
   "cell_type": "code",
   "execution_count": 10,
   "id": "global-belief",
   "metadata": {},
   "outputs": [],
   "source": [
    "cum_binomial = stats.binom.cdf(k, n,p)"
   ]
  },
  {
   "cell_type": "code",
   "execution_count": 11,
   "id": "worthy-charity",
   "metadata": {},
   "outputs": [
    {
     "data": {
      "text/plain": [
       "array([0.0016384, 0.0188416, 0.096256 , 0.289792 , 0.580096 , 0.8413696,\n",
       "       0.9720064, 1.       ])"
      ]
     },
     "execution_count": 11,
     "metadata": {},
     "output_type": "execute_result"
    }
   ],
   "source": [
    "cum_binomial"
   ]
  },
  {
   "cell_type": "code",
   "execution_count": null,
   "id": "christian-newspaper",
   "metadata": {},
   "outputs": [],
   "source": []
  }
 ],
 "metadata": {
  "kernelspec": {
   "display_name": "Python 3",
   "language": "python",
   "name": "python3"
  },
  "language_info": {
   "codemirror_mode": {
    "name": "ipython",
    "version": 3
   },
   "file_extension": ".py",
   "mimetype": "text/x-python",
   "name": "python",
   "nbconvert_exporter": "python",
   "pygments_lexer": "ipython3",
   "version": "3.8.8"
  }
 },
 "nbformat": 4,
 "nbformat_minor": 5
}
