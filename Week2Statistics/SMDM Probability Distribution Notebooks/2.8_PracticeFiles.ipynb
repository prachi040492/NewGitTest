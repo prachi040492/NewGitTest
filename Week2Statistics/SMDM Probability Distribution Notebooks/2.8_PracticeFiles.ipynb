{
 "cells": [
  {
   "cell_type": "code",
   "execution_count": 67,
   "id": "checked-yesterday",
   "metadata": {},
   "outputs": [],
   "source": [
    "# morning breakfast cereal pack\n",
    "import scipy.stats as stats\n",
    "import numpy as np\n",
    "import matplotlib.pyplot as plt"
   ]
  },
  {
   "cell_type": "code",
   "execution_count": 2,
   "id": "continuous-medicare",
   "metadata": {},
   "outputs": [
    {
     "data": {
      "text/plain": [
       "-0.5999999999999983"
      ]
     },
     "execution_count": 2,
     "metadata": {},
     "output_type": "execute_result"
    }
   ],
   "source": [
    "z=(0.28-0.295)/0.025\n",
    "z"
   ]
  },
  {
   "cell_type": "code",
   "execution_count": 3,
   "id": "significant-purchase",
   "metadata": {},
   "outputs": [
    {
     "data": {
      "text/plain": [
       "0.2742531177500736"
      ]
     },
     "execution_count": 3,
     "metadata": {},
     "output_type": "execute_result"
    }
   ],
   "source": [
    "stats.norm.cdf(-0.6) #cumulative density function => calculates the area under curve: Probability % of packs less than 0.28 kg using Z"
   ]
  },
  {
   "cell_type": "code",
   "execution_count": 4,
   "id": "likely-notification",
   "metadata": {},
   "outputs": [
    {
     "data": {
      "text/plain": [
       "2.1999999999999997"
      ]
     },
     "execution_count": 4,
     "metadata": {},
     "output_type": "execute_result"
    }
   ],
   "source": [
    "z= (0.35 - 0.295)/0.025 # Probability % of packs more than 0.35 kg using Z\n",
    "z"
   ]
  },
  {
   "cell_type": "code",
   "execution_count": 5,
   "id": "pleased-consumer",
   "metadata": {},
   "outputs": [
    {
     "data": {
      "text/plain": [
       "0.01390344751349859"
      ]
     },
     "execution_count": 5,
     "metadata": {},
     "output_type": "execute_result"
    }
   ],
   "source": [
    "1 - stats.norm.cdf(2.2)"
   ]
  },
  {
   "cell_type": "code",
   "execution_count": 6,
   "id": "aggressive-enzyme",
   "metadata": {},
   "outputs": [
    {
     "name": "stdout",
     "output_type": "stream",
     "text": [
      "-1.399999999999999\n",
      "1.8000000000000016\n"
     ]
    }
   ],
   "source": [
    "# Probability % of packs between 0.26kg to 0.34kg using Z\n",
    "z1= (0.26 - 0.295)/0.025\n",
    "print(z1)\n",
    "z2= (0.34 - 0.295)/0.025\n",
    "print(z2)"
   ]
  },
  {
   "cell_type": "code",
   "execution_count": 7,
   "id": "matched-oakland",
   "metadata": {},
   "outputs": [
    {
     "data": {
      "text/plain": [
       "0.8833130216533032"
      ]
     },
     "execution_count": 7,
     "metadata": {},
     "output_type": "execute_result"
    }
   ],
   "source": [
    "stats.norm.cdf(z2)-stats.norm.cdf(z1)"
   ]
  },
  {
   "cell_type": "code",
   "execution_count": 8,
   "id": "aging-tribe",
   "metadata": {},
   "outputs": [],
   "source": [
    "# Salaries of data scientists in Chennai => Normal Distribution\n",
    "#Prob of D.S having salary>10,00,000 INR"
   ]
  },
  {
   "cell_type": "code",
   "execution_count": 9,
   "id": "ambient-jumping",
   "metadata": {},
   "outputs": [
    {
     "data": {
      "text/plain": [
       "3.3333333333333335"
      ]
     },
     "execution_count": 9,
     "metadata": {},
     "output_type": "execute_result"
    }
   ],
   "source": [
    "z= (1000000 -700000)/90000\n",
    "z"
   ]
  },
  {
   "cell_type": "code",
   "execution_count": 10,
   "id": "religious-jersey",
   "metadata": {},
   "outputs": [
    {
     "data": {
      "text/plain": [
       "0.0004290603331967846"
      ]
     },
     "execution_count": 10,
     "metadata": {},
     "output_type": "execute_result"
    }
   ],
   "source": [
    "1-stats.norm.cdf(z) #cdf always calculates to the left of the given z value"
   ]
  },
  {
   "cell_type": "code",
   "execution_count": 11,
   "id": "asian-arthur",
   "metadata": {},
   "outputs": [],
   "source": [
    "#Prob of D.S having salary between 6,00,000 & 9,00,000 INR"
   ]
  },
  {
   "cell_type": "code",
   "execution_count": 12,
   "id": "sought-original",
   "metadata": {},
   "outputs": [],
   "source": [
    "z1 = (600000 -700000)/90000\n",
    "z2 = (900000 -700000)/90000"
   ]
  },
  {
   "cell_type": "code",
   "execution_count": 13,
   "id": "moderate-detective",
   "metadata": {},
   "outputs": [
    {
     "data": {
      "text/plain": [
       "0.8536055914064735"
      ]
     },
     "execution_count": 13,
     "metadata": {},
     "output_type": "execute_result"
    }
   ],
   "source": [
    "stats.norm.cdf(z2)-stats.norm.cdf(z1)"
   ]
  },
  {
   "cell_type": "code",
   "execution_count": 14,
   "id": "ecological-petite",
   "metadata": {},
   "outputs": [],
   "source": [
    "#Prob of D.S having salary< 4,00,000 INR p.a"
   ]
  },
  {
   "cell_type": "code",
   "execution_count": 15,
   "id": "medium-election",
   "metadata": {},
   "outputs": [],
   "source": [
    "z = (400000 - 700000)/90000"
   ]
  },
  {
   "cell_type": "code",
   "execution_count": 16,
   "id": "drawn-precipitation",
   "metadata": {},
   "outputs": [
    {
     "data": {
      "text/plain": [
       "0.0004290603331968372"
      ]
     },
     "execution_count": 16,
     "metadata": {},
     "output_type": "execute_result"
    }
   ],
   "source": [
    "stats.norm.cdf(z)"
   ]
  },
  {
   "cell_type": "code",
   "execution_count": 17,
   "id": "composed-technology",
   "metadata": {},
   "outputs": [],
   "source": [
    "#The areas to the left & right of mean(+- 3,00,000 away from mean) are same,due to normal distribution"
   ]
  },
  {
   "cell_type": "code",
   "execution_count": 18,
   "id": "verified-charm",
   "metadata": {},
   "outputs": [
    {
     "data": {
      "text/plain": [
       "-3.3333333333333335"
      ]
     },
     "execution_count": 18,
     "metadata": {},
     "output_type": "execute_result"
    }
   ],
   "source": [
    "z = (400000 - 700000)/90000\n",
    "z"
   ]
  },
  {
   "cell_type": "code",
   "execution_count": 19,
   "id": "sticky-officer",
   "metadata": {},
   "outputs": [
    {
     "data": {
      "text/plain": [
       "0.36956714157750203"
      ]
     },
     "execution_count": 19,
     "metadata": {},
     "output_type": "execute_result"
    }
   ],
   "source": [
    "stats.norm.cdf(-0.333)"
   ]
  },
  {
   "cell_type": "code",
   "execution_count": 20,
   "id": "ceramic-gambling",
   "metadata": {},
   "outputs": [
    {
     "data": {
      "text/plain": [
       "3.3333333333333335"
      ]
     },
     "execution_count": 20,
     "metadata": {},
     "output_type": "execute_result"
    }
   ],
   "source": [
    "z= (1000000 -700000)/90000\n",
    "z"
   ]
  },
  {
   "cell_type": "code",
   "execution_count": 21,
   "id": "controversial-germany",
   "metadata": {},
   "outputs": [],
   "source": [
    "# morning breakfast cereal pack => Normal distribution\n",
    "# mean: 0.295 kg , stdev: 0.025kg"
   ]
  },
  {
   "cell_type": "code",
   "execution_count": 22,
   "id": "disturbed-shelf",
   "metadata": {},
   "outputs": [],
   "source": [
    "# Prob of pack weight < 0.280kg"
   ]
  },
  {
   "cell_type": "code",
   "execution_count": 23,
   "id": "minus-portrait",
   "metadata": {},
   "outputs": [],
   "source": [
    "z= (0.280-0.295)/0.025"
   ]
  },
  {
   "cell_type": "code",
   "execution_count": 24,
   "id": "vanilla-principal",
   "metadata": {},
   "outputs": [
    {
     "data": {
      "text/plain": [
       "0.2742531177500741"
      ]
     },
     "execution_count": 24,
     "metadata": {},
     "output_type": "execute_result"
    }
   ],
   "source": [
    "stats.norm.cdf(z)"
   ]
  },
  {
   "cell_type": "code",
   "execution_count": 25,
   "id": "bacterial-independence",
   "metadata": {},
   "outputs": [],
   "source": [
    "# Prob of pack weight > 0.350kg"
   ]
  },
  {
   "cell_type": "code",
   "execution_count": 26,
   "id": "dietary-shepherd",
   "metadata": {},
   "outputs": [],
   "source": [
    "z= (0.350-0.295)/0.025"
   ]
  },
  {
   "cell_type": "code",
   "execution_count": 27,
   "id": "southeast-wrapping",
   "metadata": {},
   "outputs": [
    {
     "data": {
      "text/plain": [
       "0.01390344751349859"
      ]
     },
     "execution_count": 27,
     "metadata": {},
     "output_type": "execute_result"
    }
   ],
   "source": [
    "1 - stats.norm.cdf(z)"
   ]
  },
  {
   "cell_type": "code",
   "execution_count": 28,
   "id": "everyday-ordinance",
   "metadata": {},
   "outputs": [],
   "source": [
    "# Prob of pack weight between 0.260 to 0.340kg"
   ]
  },
  {
   "cell_type": "code",
   "execution_count": 29,
   "id": "administrative-things",
   "metadata": {},
   "outputs": [],
   "source": [
    "z1= (0.340 - 0.295)/0.025\n",
    "z2 = (0.260 - 0.295)/0.025"
   ]
  },
  {
   "cell_type": "code",
   "execution_count": 30,
   "id": "confident-portsmouth",
   "metadata": {},
   "outputs": [
    {
     "data": {
      "text/plain": [
       "0.8833130216533032"
      ]
     },
     "execution_count": 30,
     "metadata": {},
     "output_type": "execute_result"
    }
   ],
   "source": [
    "stats.norm.cdf(z1) - stats.norm.cdf(z2)"
   ]
  },
  {
   "cell_type": "code",
   "execution_count": 31,
   "id": "weekly-realtor",
   "metadata": {},
   "outputs": [],
   "source": [
    "# POISSON DISTRIBUTION\n",
    "# 6 customers arrrive per min"
   ]
  },
  {
   "cell_type": "code",
   "execution_count": 32,
   "id": "irish-quarterly",
   "metadata": {},
   "outputs": [],
   "source": [
    "rate = 6"
   ]
  },
  {
   "cell_type": "code",
   "execution_count": 33,
   "id": "hindu-jamaica",
   "metadata": {},
   "outputs": [],
   "source": [
    "n = np.arange(0,20)"
   ]
  },
  {
   "cell_type": "code",
   "execution_count": 34,
   "id": "atlantic-hierarchy",
   "metadata": {},
   "outputs": [],
   "source": [
    "poisson = stats.poisson.pmf(n,rate)"
   ]
  },
  {
   "cell_type": "code",
   "execution_count": 35,
   "id": "stylish-martin",
   "metadata": {},
   "outputs": [
    {
     "data": {
      "text/plain": [
       "array([2.47875218e-03, 1.48725131e-02, 4.46175392e-02, 8.92350784e-02,\n",
       "       1.33852618e-01, 1.60623141e-01, 1.60623141e-01, 1.37676978e-01,\n",
       "       1.03257734e-01, 6.88384890e-02, 4.13030934e-02, 2.25289600e-02,\n",
       "       1.12644800e-02, 5.19899078e-03, 2.22813891e-03, 8.91255562e-04,\n",
       "       3.34220836e-04, 1.17960295e-04, 3.93200983e-05, 1.24168732e-05])"
      ]
     },
     "execution_count": 35,
     "metadata": {},
     "output_type": "execute_result"
    }
   ],
   "source": [
    "poisson"
   ]
  },
  {
   "cell_type": "code",
   "execution_count": 36,
   "id": "contained-british",
   "metadata": {},
   "outputs": [
    {
     "data": {
      "text/plain": [
       "0.13385261753998332"
      ]
     },
     "execution_count": 36,
     "metadata": {},
     "output_type": "execute_result"
    }
   ],
   "source": [
    "# Prob. that exactly 4 customers arrive in a given minute\n",
    "poisson[4]"
   ]
  },
  {
   "cell_type": "code",
   "execution_count": 37,
   "id": "entire-performer",
   "metadata": {},
   "outputs": [
    {
     "data": {
      "text/plain": [
       "0.8487961172233521"
      ]
     },
     "execution_count": 37,
     "metadata": {},
     "output_type": "execute_result"
    }
   ],
   "source": [
    "#Binomial: talks about the defective, Poisson: talks about defects within the defective\n",
    "# Prob. that more than 3 customers will arrive in a given minute\n",
    "1 - (poisson[0] + poisson[1] + poisson[2] + poisson[3])"
   ]
  },
  {
   "cell_type": "code",
   "execution_count": 48,
   "id": "genetic-calgary",
   "metadata": {},
   "outputs": [],
   "source": [
    "# Laptop assembly unit , average defect =12 per laptop\n",
    "#Prob. that a defective laptop has exactly 5 defects"
   ]
  },
  {
   "cell_type": "code",
   "execution_count": 49,
   "id": "separate-princeton",
   "metadata": {},
   "outputs": [],
   "source": [
    "rate=12"
   ]
  },
  {
   "cell_type": "code",
   "execution_count": 62,
   "id": "driving-folder",
   "metadata": {},
   "outputs": [],
   "source": [
    "n = np.arange(0,30)"
   ]
  },
  {
   "cell_type": "code",
   "execution_count": 63,
   "id": "according-baptist",
   "metadata": {},
   "outputs": [],
   "source": [
    "poisson = stats.poisson.pmf(n,rate)"
   ]
  },
  {
   "cell_type": "code",
   "execution_count": 64,
   "id": "polar-indiana",
   "metadata": {},
   "outputs": [
    {
     "data": {
      "text/plain": [
       "array([6.14421235e-06, 7.37305482e-05, 4.42383289e-04, 1.76953316e-03,\n",
       "       5.30859947e-03, 1.27406387e-02, 2.54812775e-02, 4.36821900e-02,\n",
       "       6.55232849e-02, 8.73643799e-02, 1.04837256e-01, 1.14367916e-01,\n",
       "       1.14367916e-01, 1.05570384e-01, 9.04889002e-02, 7.23911201e-02,\n",
       "       5.42933401e-02, 3.83247107e-02, 2.55498071e-02, 1.61367203e-02,\n",
       "       9.68203217e-03, 5.53258981e-03, 3.01777626e-03, 1.57449196e-03,\n",
       "       7.87245981e-04, 3.77878071e-04, 1.74405263e-04, 7.75134504e-05,\n",
       "       3.32200502e-05, 1.37462277e-05])"
      ]
     },
     "execution_count": 64,
     "metadata": {},
     "output_type": "execute_result"
    }
   ],
   "source": [
    "poisson"
   ]
  },
  {
   "cell_type": "code",
   "execution_count": 65,
   "id": "surprised-trial",
   "metadata": {},
   "outputs": [
    {
     "data": {
      "text/plain": [
       "0.012740638735861376"
      ]
     },
     "execution_count": 65,
     "metadata": {},
     "output_type": "execute_result"
    }
   ],
   "source": [
    "poisson[5]"
   ]
  },
  {
   "cell_type": "code",
   "execution_count": 66,
   "id": "negative-testimony",
   "metadata": {},
   "outputs": [
    {
     "data": {
      "text/plain": [
       "0.007600390681067"
      ]
     },
     "execution_count": 66,
     "metadata": {},
     "output_type": "execute_result"
    }
   ],
   "source": [
    "poisson[0]+poisson[1]+poisson[2]+poisson[3]+poisson[4]"
   ]
  },
  {
   "cell_type": "code",
   "execution_count": 69,
   "id": "personal-somewhere",
   "metadata": {},
   "outputs": [
    {
     "ename": "ValueError",
     "evalue": "The truth value of an array with more than one element is ambiguous. Use a.any() or a.all()",
     "output_type": "error",
     "traceback": [
      "\u001b[1;31m---------------------------------------------------------------------------\u001b[0m",
      "\u001b[1;31mValueError\u001b[0m                                Traceback (most recent call last)",
      "\u001b[1;32m<ipython-input-69-6f022b19d102>\u001b[0m in \u001b[0;36m<module>\u001b[1;34m\u001b[0m\n\u001b[1;32m----> 1\u001b[1;33m \u001b[0mplt\u001b[0m\u001b[1;33m.\u001b[0m\u001b[0mshow\u001b[0m\u001b[1;33m(\u001b[0m\u001b[0mn\u001b[0m\u001b[1;33m,\u001b[0m\u001b[0mpoisson\u001b[0m\u001b[1;33m)\u001b[0m\u001b[1;33m\u001b[0m\u001b[1;33m\u001b[0m\u001b[0m\n\u001b[0m\u001b[0;32m      2\u001b[0m \u001b[0mplt\u001b[0m\u001b[1;33m.\u001b[0m\u001b[0mshow\u001b[0m\u001b[1;33m(\u001b[0m\u001b[1;33m)\u001b[0m\u001b[1;33m;\u001b[0m\u001b[1;33m\u001b[0m\u001b[1;33m\u001b[0m\u001b[0m\n",
      "\u001b[1;32m~\\Anaconda3\\lib\\site-packages\\matplotlib\\pyplot.py\u001b[0m in \u001b[0;36mshow\u001b[1;34m(*args, **kwargs)\u001b[0m\n\u001b[0;32m    351\u001b[0m     \"\"\"\n\u001b[0;32m    352\u001b[0m     \u001b[0m_warn_if_gui_out_of_main_thread\u001b[0m\u001b[1;33m(\u001b[0m\u001b[1;33m)\u001b[0m\u001b[1;33m\u001b[0m\u001b[1;33m\u001b[0m\u001b[0m\n\u001b[1;32m--> 353\u001b[1;33m     \u001b[1;32mreturn\u001b[0m \u001b[0m_backend_mod\u001b[0m\u001b[1;33m.\u001b[0m\u001b[0mshow\u001b[0m\u001b[1;33m(\u001b[0m\u001b[1;33m*\u001b[0m\u001b[0margs\u001b[0m\u001b[1;33m,\u001b[0m \u001b[1;33m**\u001b[0m\u001b[0mkwargs\u001b[0m\u001b[1;33m)\u001b[0m\u001b[1;33m\u001b[0m\u001b[1;33m\u001b[0m\u001b[0m\n\u001b[0m\u001b[0;32m    354\u001b[0m \u001b[1;33m\u001b[0m\u001b[0m\n\u001b[0;32m    355\u001b[0m \u001b[1;33m\u001b[0m\u001b[0m\n",
      "\u001b[1;32m~\\Anaconda3\\lib\\site-packages\\ipykernel\\pylab\\backend_inline.py\u001b[0m in \u001b[0;36mshow\u001b[1;34m(close, block)\u001b[0m\n\u001b[0;32m     47\u001b[0m         \u001b[1;31m# only call close('all') if any to close\u001b[0m\u001b[1;33m\u001b[0m\u001b[1;33m\u001b[0m\u001b[1;33m\u001b[0m\u001b[0m\n\u001b[0;32m     48\u001b[0m         \u001b[1;31m# close triggers gc.collect, which can be slow\u001b[0m\u001b[1;33m\u001b[0m\u001b[1;33m\u001b[0m\u001b[1;33m\u001b[0m\u001b[0m\n\u001b[1;32m---> 49\u001b[1;33m         \u001b[1;32mif\u001b[0m \u001b[0mclose\u001b[0m \u001b[1;32mand\u001b[0m \u001b[0mGcf\u001b[0m\u001b[1;33m.\u001b[0m\u001b[0mget_all_fig_managers\u001b[0m\u001b[1;33m(\u001b[0m\u001b[1;33m)\u001b[0m\u001b[1;33m:\u001b[0m\u001b[1;33m\u001b[0m\u001b[1;33m\u001b[0m\u001b[0m\n\u001b[0m\u001b[0;32m     50\u001b[0m             \u001b[0mmatplotlib\u001b[0m\u001b[1;33m.\u001b[0m\u001b[0mpyplot\u001b[0m\u001b[1;33m.\u001b[0m\u001b[0mclose\u001b[0m\u001b[1;33m(\u001b[0m\u001b[1;34m'all'\u001b[0m\u001b[1;33m)\u001b[0m\u001b[1;33m\u001b[0m\u001b[1;33m\u001b[0m\u001b[0m\n\u001b[0;32m     51\u001b[0m \u001b[1;33m\u001b[0m\u001b[0m\n",
      "\u001b[1;31mValueError\u001b[0m: The truth value of an array with more than one element is ambiguous. Use a.any() or a.all()"
     ]
    }
   ],
   "source": [
    "plt.show(n,poisson,'o-')\n",
    "plt.show();"
   ]
  },
  {
   "cell_type": "code",
   "execution_count": null,
   "id": "ordinary-ethnic",
   "metadata": {},
   "outputs": [],
   "source": []
  }
 ],
 "metadata": {
  "kernelspec": {
   "display_name": "Python 3",
   "language": "python",
   "name": "python3"
  },
  "language_info": {
   "codemirror_mode": {
    "name": "ipython",
    "version": 3
   },
   "file_extension": ".py",
   "mimetype": "text/x-python",
   "name": "python",
   "nbconvert_exporter": "python",
   "pygments_lexer": "ipython3",
   "version": "3.8.8"
  }
 },
 "nbformat": 4,
 "nbformat_minor": 5
}
