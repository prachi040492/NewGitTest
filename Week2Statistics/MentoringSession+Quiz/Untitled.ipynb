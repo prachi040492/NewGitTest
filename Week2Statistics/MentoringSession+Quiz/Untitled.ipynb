{
 "cells": [
  {
   "cell_type": "code",
   "execution_count": 1,
   "id": "competitive-pontiac",
   "metadata": {},
   "outputs": [],
   "source": [
    "# Binomial Distribution : years of college"
   ]
  },
  {
   "cell_type": "code",
   "execution_count": 2,
   "id": "twenty-montana",
   "metadata": {},
   "outputs": [],
   "source": [
    "import scipy.stats as stats\n",
    "import pandas as pd\n",
    "import numpy as np\n",
    "import matplotlib.pyplot as plt"
   ]
  },
  {
   "cell_type": "code",
   "execution_count": 3,
   "id": "foreign-qatar",
   "metadata": {},
   "outputs": [],
   "source": [
    "p = 0.28"
   ]
  },
  {
   "cell_type": "code",
   "execution_count": 4,
   "id": "retired-enclosure",
   "metadata": {},
   "outputs": [],
   "source": [
    "n = 15"
   ]
  },
  {
   "cell_type": "code",
   "execution_count": 5,
   "id": "atlantic-inflation",
   "metadata": {},
   "outputs": [],
   "source": [
    "args = np.arange(0,16)"
   ]
  },
  {
   "cell_type": "code",
   "execution_count": 6,
   "id": "strategic-enlargement",
   "metadata": {},
   "outputs": [
    {
     "data": {
      "text/plain": [
       "array([7.24415020e-03, 4.22575428e-02, 1.15034422e-01, 1.93854304e-01,\n",
       "       2.26163355e-01, 1.93495315e-01, 1.25413630e-01, 6.27068149e-02,\n",
       "       2.43859836e-02, 7.37600738e-03, 1.72106839e-03, 3.04229261e-04,\n",
       "       3.94371264e-05, 3.53922929e-06, 1.96623849e-07, 5.09765536e-09])"
      ]
     },
     "execution_count": 6,
     "metadata": {},
     "output_type": "execute_result"
    }
   ],
   "source": [
    "binom = stats.binom.pmf(args,n,p)\n",
    "binom"
   ]
  },
  {
   "cell_type": "code",
   "execution_count": 7,
   "id": "burning-empire",
   "metadata": {},
   "outputs": [
    {
     "data": {
      "text/plain": [
       "array([0.00724415, 0.04950169, 0.16453612, 0.35839042, 0.58455377,\n",
       "       0.77804909, 0.90346272, 0.96616953, 0.99055552, 0.99793152,\n",
       "       0.99965259, 0.99995682, 0.99999626, 0.9999998 , 0.99999999,\n",
       "       1.        ])"
      ]
     },
     "execution_count": 7,
     "metadata": {},
     "output_type": "execute_result"
    }
   ],
   "source": [
    "Cum_binom = stats.binom.cdf(args,n,p)\n",
    "Cum_binom"
   ]
  },
  {
   "cell_type": "code",
   "execution_count": 8,
   "id": "eleven-section",
   "metadata": {},
   "outputs": [
    {
     "data": {
      "text/plain": [
       "0.2261633547176576"
      ]
     },
     "execution_count": 8,
     "metadata": {},
     "output_type": "execute_result"
    }
   ],
   "source": [
    "binom[4]"
   ]
  },
  {
   "cell_type": "code",
   "execution_count": 9,
   "id": "adjustable-specification",
   "metadata": {},
   "outputs": [
    {
     "data": {
      "text/plain": [
       "0.8354638847772562"
      ]
     },
     "execution_count": 9,
     "metadata": {},
     "output_type": "execute_result"
    }
   ],
   "source": [
    "1-binom[0]-binom[1]-binom[2]"
   ]
  },
  {
   "cell_type": "code",
   "execution_count": 10,
   "id": "fatty-ownership",
   "metadata": {},
   "outputs": [],
   "source": [
    "# Poisson Distribution : aircrafts accidents"
   ]
  },
  {
   "cell_type": "code",
   "execution_count": 11,
   "id": "pacific-bouquet",
   "metadata": {},
   "outputs": [],
   "source": [
    "rate = 15/12"
   ]
  },
  {
   "cell_type": "code",
   "execution_count": 12,
   "id": "rough-powell",
   "metadata": {},
   "outputs": [
    {
     "data": {
      "text/plain": [
       "1.25"
      ]
     },
     "execution_count": 12,
     "metadata": {},
     "output_type": "execute_result"
    }
   ],
   "source": [
    "rate #Mean number of aircraft accidents during a month."
   ]
  },
  {
   "cell_type": "code",
   "execution_count": 13,
   "id": "respiratory-rings",
   "metadata": {},
   "outputs": [],
   "source": [
    "# Probability of no accidents during a month."
   ]
  },
  {
   "cell_type": "code",
   "execution_count": 14,
   "id": "synthetic-empty",
   "metadata": {},
   "outputs": [
    {
     "data": {
      "text/plain": [
       "array([ 0,  1,  2,  3,  4,  5,  6,  7,  8,  9, 10, 11, 12, 13, 14, 15, 16,\n",
       "       17, 18, 19, 20, 21, 22, 23, 24, 25, 26, 27, 28, 29, 30, 31, 32, 33,\n",
       "       34, 35, 36, 37, 38, 39])"
      ]
     },
     "execution_count": 14,
     "metadata": {},
     "output_type": "execute_result"
    }
   ],
   "source": [
    "args = np.arange(0, 40)\n",
    "args"
   ]
  },
  {
   "cell_type": "code",
   "execution_count": 15,
   "id": "limited-disney",
   "metadata": {},
   "outputs": [
    {
     "data": {
      "text/plain": [
       "array([2.86504797e-01, 3.58130996e-01, 2.23831873e-01, 9.32632802e-02,\n",
       "       2.91447751e-02, 7.28619377e-03, 1.51795703e-03, 2.71063756e-04,\n",
       "       4.23537119e-05, 5.88245999e-06, 7.35307498e-07, 8.35576703e-08,\n",
       "       8.70392399e-09, 8.36915768e-10, 7.47246221e-11, 6.22705185e-12,\n",
       "       4.86488425e-13, 3.57712078e-14, 2.48411165e-15, 1.63428398e-16,\n",
       "       1.02142749e-17, 6.07992552e-19, 3.45450314e-20, 1.87744736e-21,\n",
       "       9.77837165e-23, 4.88918583e-24, 2.35057011e-25, 1.08822690e-26,\n",
       "       4.85815581e-28, 2.09403268e-29, 8.72513616e-31, 3.51820006e-32,\n",
       "       1.37429690e-33, 5.20567008e-35, 1.91384929e-36, 6.83517604e-38,\n",
       "       2.37332502e-39, 8.01798992e-41, 2.63749668e-42, 8.45351501e-44])"
      ]
     },
     "execution_count": 15,
     "metadata": {},
     "output_type": "execute_result"
    }
   ],
   "source": [
    "poiss_prob = stats.poisson.pmf(args,rate)\n",
    "poiss_prob"
   ]
  },
  {
   "cell_type": "code",
   "execution_count": 16,
   "id": "velvet-investing",
   "metadata": {},
   "outputs": [
    {
     "data": {
      "text/plain": [
       "[<matplotlib.lines.Line2D at 0x28e786f6e50>]"
      ]
     },
     "execution_count": 16,
     "metadata": {},
     "output_type": "execute_result"
    },
    {
     "data": {
      "image/png": "[encoded data removed]",
      "text/plain": [
       "<Figure size 432x288 with 1 Axes>"
      ]
     },
     "metadata": {
      "needs_background": "light"
     },
     "output_type": "display_data"
    }
   ],
   "source": [
    "plt.plot(args,poiss_prob,'o-')"
   ]
  },
  {
   "cell_type": "code",
   "execution_count": 17,
   "id": "smart-underwear",
   "metadata": {},
   "outputs": [
    {
     "data": {
      "text/plain": [
       "array([0.2865048 , 0.64463579, 0.86846767, 0.96173095, 0.99087572,\n",
       "       0.99816191, 0.99967987, 0.99995094, 0.99999329, 0.99999917,\n",
       "       0.99999991, 0.99999999, 1.        , 1.        , 1.        ,\n",
       "       1.        , 1.        , 1.        , 1.        , 1.        ,\n",
       "       1.        , 1.        , 1.        , 1.        , 1.        ,\n",
       "       1.        , 1.        , 1.        , 1.        , 1.        ,\n",
       "       1.        , 1.        , 1.        , 1.        , 1.        ,\n",
       "       1.        , 1.        , 1.        , 1.        , 1.        ])"
      ]
     },
     "execution_count": 17,
     "metadata": {},
     "output_type": "execute_result"
    }
   ],
   "source": [
    "Cumpoiss_prob = stats.poisson.cdf(args,rate)\n",
    "Cumpoiss_prob"
   ]
  },
  {
   "cell_type": "code",
   "execution_count": 18,
   "id": "exotic-province",
   "metadata": {},
   "outputs": [
    {
     "data": {
      "text/plain": [
       "0.3553642070645722"
      ]
     },
     "execution_count": 18,
     "metadata": {},
     "output_type": "execute_result"
    }
   ],
   "source": [
    "1- poiss_prob[0] - poiss_prob[1] #Probability of more than one accident during a month."
   ]
  },
  {
   "cell_type": "code",
   "execution_count": 19,
   "id": "graphic-dragon",
   "metadata": {},
   "outputs": [
    {
     "data": {
      "text/plain": [
       "0.35536420706457217"
      ]
     },
     "execution_count": 19,
     "metadata": {},
     "output_type": "execute_result"
    }
   ],
   "source": [
    "1-Cumpoiss_prob[1]"
   ]
  },
  {
   "cell_type": "code",
   "execution_count": 20,
   "id": "informative-freedom",
   "metadata": {},
   "outputs": [],
   "source": [
    "# Discrete Probabilities: Magazine survey"
   ]
  },
  {
   "cell_type": "code",
   "execution_count": 21,
   "id": "coupled-insert",
   "metadata": {},
   "outputs": [],
   "source": [
    "p_carBiz= 0.458"
   ]
  },
  {
   "cell_type": "code",
   "execution_count": 22,
   "id": "universal-cemetery",
   "metadata": {},
   "outputs": [],
   "source": [
    "p_carPer= 0.54"
   ]
  },
  {
   "cell_type": "code",
   "execution_count": 23,
   "id": "homeless-communist",
   "metadata": {},
   "outputs": [],
   "source": [
    "p_carBizPer = 0.3"
   ]
  },
  {
   "cell_type": "code",
   "execution_count": 24,
   "id": "compatible-queen",
   "metadata": {},
   "outputs": [
    {
     "data": {
      "text/plain": [
       "0.698"
      ]
     },
     "execution_count": 24,
     "metadata": {},
     "output_type": "execute_result"
    }
   ],
   "source": [
    "p_both = (p_carBiz + p_carPer) - p_carBizPer\n",
    "p_both #What is the prob. That a subscriber rented a car for both business or personal reasons"
   ]
  },
  {
   "cell_type": "code",
   "execution_count": 25,
   "id": "limiting-cassette",
   "metadata": {},
   "outputs": [
    {
     "data": {
      "text/plain": [
       "0.7"
      ]
     },
     "execution_count": 25,
     "metadata": {},
     "output_type": "execute_result"
    }
   ],
   "source": [
    "# What is the prob. That a subscriber did not rent a car for either business or personal reasons.\n",
    "1-((p_carBiz + p_carPer)-p_both)"
   ]
  },
  {
   "cell_type": "code",
   "execution_count": 26,
   "id": "animal-bobby",
   "metadata": {},
   "outputs": [],
   "source": [
    "# From a pack of well shuffled cards, a card is picked up\n",
    "p_king = 4/52\n",
    "p_queen = 4/52"
   ]
  },
  {
   "cell_type": "code",
   "execution_count": 27,
   "id": "choice-plastic",
   "metadata": {},
   "outputs": [
    {
     "data": {
      "text/plain": [
       "0.15384615384615385"
      ]
     },
     "execution_count": 27,
     "metadata": {},
     "output_type": "execute_result"
    }
   ],
   "source": [
    "p_kingORqueen = p_king + p_queen\n",
    "p_kingORqueen #What is the probability of selected card is a King or a Queen?"
   ]
  },
  {
   "cell_type": "code",
   "execution_count": 28,
   "id": "backed-hometown",
   "metadata": {},
   "outputs": [],
   "source": [
    "# What is the probability that the selected card is a King or a Diamond\n",
    "p_diamond =13/52\n",
    "p_diamondKing = 1/52"
   ]
  },
  {
   "cell_type": "code",
   "execution_count": 29,
   "id": "interracial-genesis",
   "metadata": {},
   "outputs": [],
   "source": [
    "p_kingORdiamond = p_king + p_diamond - p_diamondKing"
   ]
  },
  {
   "cell_type": "code",
   "execution_count": 30,
   "id": "answering-seating",
   "metadata": {},
   "outputs": [
    {
     "data": {
      "text/plain": [
       "0.3076923076923077"
      ]
     },
     "execution_count": 30,
     "metadata": {},
     "output_type": "execute_result"
    }
   ],
   "source": [
    "p_kingORdiamond"
   ]
  },
  {
   "cell_type": "code",
   "execution_count": null,
   "id": "caring-stretch",
   "metadata": {},
   "outputs": [],
   "source": []
  },
  {
   "cell_type": "code",
   "execution_count": null,
   "id": "about-wound",
   "metadata": {},
   "outputs": [],
   "source": []
  }
 ],
 "metadata": {
  "kernelspec": {
   "display_name": "Python 3",
   "language": "python",
   "name": "python3"
  },
  "language_info": {
   "codemirror_mode": {
    "name": "ipython",
    "version": 3
   },
   "file_extension": ".py",
   "mimetype": "text/x-python",
   "name": "python",
   "nbconvert_exporter": "python",
   "pygments_lexer": "ipython3",
   "version": "3.8.8"
  }
 },
 "nbformat": 4,
 "nbformat_minor": 5
}
